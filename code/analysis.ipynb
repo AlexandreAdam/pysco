{
 "metadata": {
  "name": "",
  "signature": "sha256:d68b8ba1672a6497009028416a80f29e88199757c31d13fc6ec6631e3050d15d"
 },
 "nbformat": 3,
 "nbformat_minor": 0,
 "worksheets": [
  {
   "cells": [
    {
     "cell_type": "heading",
     "level": 1,
     "metadata": {},
     "source": [
      "Analysis for the Pharo kernel phase paper as submitted by Pope et al., 2014. "
     ]
    },
    {
     "cell_type": "heading",
     "level": 3,
     "metadata": {},
     "source": [
      "Whisky is a modified distribution of pysco, available at https://github.com/benjaminpope/whisky .\n",
      "\n",
      "The original pysco code as developed by Martinache, Pope and Ireland is available at https://code.google.com/p/pysco/ ."
     ]
    },
    {
     "cell_type": "code",
     "collapsed": false,
     "input": [
      "import numpy as np\n",
      "import matplotlib.pyplot as plt\n",
      "import whisky as pysco\n",
      "import fitsio\n",
      "import triangle\n",
      "%matplotlib inline"
     ],
     "language": "python",
     "metadata": {},
     "outputs": [],
     "prompt_number": 1
    },
    {
     "cell_type": "markdown",
     "metadata": {},
     "source": [
      "Now define your data directory, bands - we have Ks and ch4, though the ch4 are provided basically only for illustrative purposes as they're horribly saturated and have been discarded from the paper as submitted."
     ]
    },
    {
     "cell_type": "code",
     "collapsed": false,
     "input": [
      "ddir = \"./data/\" # data directory\n",
      "\n",
      "bandn = 'Ks' \n",
      "# bandn = 'ch4' # this gives vaguely right astrometry at its best fit but a remarkably poor fit overall! try if you like\n",
      "\n",
      "num = 0 #0 for alpha Oph, 1 calibrator\n",
      "\n",
      "tnames = ['alpOph','epsOph','epsHer']"
     ],
     "language": "python",
     "metadata": {},
     "outputs": [],
     "prompt_number": 2
    },
    {
     "cell_type": "code",
     "collapsed": false,
     "input": [
      "if bandn == 'ch4':\n",
      "\tfnames = ['cubeF_1856.fits','cubeF_2381.fits']\n",
      "\t# myf1 = open('alpOph_ch4_lin.pick','r')\n",
      "\t# myf2 = open('epsOph_ch4_lin.pick','r')\n",
      "\tpupil = 'stdcrossmodel'\n",
      "elif bandn == 'Ks':\n",
      "\tfnames = ['cubeF_2056.fits','cubeF_2881.fits']\n",
      "\t# myf1 = open('alpOph_Ks_lin.pick','r')\n",
      "\t# myf2 = open('epsHer_Ks_lin.pick','r')\n",
      "\tpupil = 'medcrossmodel'\n",
      "else: print 'Data directory failure'"
     ],
     "language": "python",
     "metadata": {},
     "outputs": [],
     "prompt_number": 3
    },
    {
     "cell_type": "markdown",
     "metadata": {},
     "source": [
      "After the \"import whisky\" command, the documentation for the code is\n",
      "available typing \"help(pysco)\"."
     ]
    },
    {
     "cell_type": "code",
     "collapsed": false,
     "input": [
      "# -------------------\n",
      "# 1. load the dataset\n",
      "# -------------------\n",
      "\n",
      "#load data and calibrators - each of these may take several minutes \n",
      "\n",
      "a = pysco.kpo('./kerphi/'+pupil+'.pick')\n",
      "a.name = 'Palomar - ' + tnames[0]\n",
      "a.extract_kpd(ddir + fnames[0],sg_ld = 4.5,re_center=True,D=5.093,unwrap_kp=False,adjust_sampling=False)\n",
      "# a.kpd= np.mean(a.kpd,axis=0)\n",
      "a.nsets = 1\n",
      "a.kpe = np.std(a.kpd)*2.\n",
      "a.hdr = a.hdr[0]\n"
     ],
     "language": "python",
     "metadata": {},
     "outputs": [
      {
       "output_type": "stream",
       "stream": "stdout",
       "text": [
        "File ./kerphi/medcrossmodel.pick contains kpi information only\n",
        "Bsp data was not loaded\n",
        "Vis2 data was not loaded\n",
        "1 frames will be open\n",
        "\r",
        "extracting kp from img   1/100"
       ]
      },
      {
       "output_type": "stream",
       "stream": "stdout",
       "text": [
        "\r",
        "extracting kp from img   2/100"
       ]
      },
      {
       "output_type": "stream",
       "stream": "stdout",
       "text": [
        "\r",
        "extracting kp from img   3/100"
       ]
      },
      {
       "output_type": "stream",
       "stream": "stdout",
       "text": [
        "\r",
        "extracting kp from img   4/100"
       ]
      },
      {
       "output_type": "stream",
       "stream": "stdout",
       "text": [
        "\r",
        "extracting kp from img   5/100"
       ]
      },
      {
       "output_type": "stream",
       "stream": "stdout",
       "text": [
        "\r",
        "extracting kp from img   6/100"
       ]
      },
      {
       "output_type": "stream",
       "stream": "stdout",
       "text": [
        "\r",
        "extracting kp from img   7/100"
       ]
      },
      {
       "output_type": "stream",
       "stream": "stdout",
       "text": [
        "\r",
        "extracting kp from img   8/100"
       ]
      },
      {
       "output_type": "stream",
       "stream": "stdout",
       "text": [
        "\r",
        "extracting kp from img   9/100"
       ]
      },
      {
       "output_type": "stream",
       "stream": "stdout",
       "text": [
        "\r",
        "extracting kp from img  10/100"
       ]
      },
      {
       "output_type": "stream",
       "stream": "stdout",
       "text": [
        "\r",
        "extracting kp from img  11/100"
       ]
      },
      {
       "output_type": "stream",
       "stream": "stdout",
       "text": [
        "\r",
        "extracting kp from img  12/100"
       ]
      },
      {
       "output_type": "stream",
       "stream": "stdout",
       "text": [
        "\r",
        "extracting kp from img  13/100"
       ]
      },
      {
       "output_type": "stream",
       "stream": "stdout",
       "text": [
        "\r",
        "extracting kp from img  14/100"
       ]
      },
      {
       "output_type": "stream",
       "stream": "stdout",
       "text": [
        "\r",
        "extracting kp from img  15/100"
       ]
      },
      {
       "output_type": "stream",
       "stream": "stdout",
       "text": [
        "\r",
        "extracting kp from img  16/100"
       ]
      },
      {
       "output_type": "stream",
       "stream": "stdout",
       "text": [
        "\r",
        "extracting kp from img  17/100"
       ]
      },
      {
       "output_type": "stream",
       "stream": "stdout",
       "text": [
        "\r",
        "extracting kp from img  18/100"
       ]
      },
      {
       "output_type": "stream",
       "stream": "stdout",
       "text": [
        "\r",
        "extracting kp from img  19/100"
       ]
      },
      {
       "output_type": "stream",
       "stream": "stdout",
       "text": [
        "\r",
        "extracting kp from img  20/100"
       ]
      },
      {
       "output_type": "stream",
       "stream": "stdout",
       "text": [
        "\r",
        "extracting kp from img  21/100"
       ]
      },
      {
       "output_type": "stream",
       "stream": "stdout",
       "text": [
        "\r",
        "extracting kp from img  22/100"
       ]
      },
      {
       "output_type": "stream",
       "stream": "stdout",
       "text": [
        "\r",
        "extracting kp from img  23/100"
       ]
      },
      {
       "output_type": "stream",
       "stream": "stdout",
       "text": [
        "\r",
        "extracting kp from img  24/100"
       ]
      },
      {
       "output_type": "stream",
       "stream": "stdout",
       "text": [
        "\r",
        "extracting kp from img  25/100"
       ]
      },
      {
       "output_type": "stream",
       "stream": "stdout",
       "text": [
        "\r",
        "extracting kp from img  26/100"
       ]
      },
      {
       "output_type": "stream",
       "stream": "stdout",
       "text": [
        "\r",
        "extracting kp from img  27/100"
       ]
      },
      {
       "output_type": "stream",
       "stream": "stdout",
       "text": [
        "\r",
        "extracting kp from img  28/100"
       ]
      },
      {
       "output_type": "stream",
       "stream": "stdout",
       "text": [
        "\r",
        "extracting kp from img  29/100"
       ]
      },
      {
       "output_type": "stream",
       "stream": "stdout",
       "text": [
        "\r",
        "extracting kp from img  30/100"
       ]
      },
      {
       "output_type": "stream",
       "stream": "stdout",
       "text": [
        "\r",
        "extracting kp from img  31/100"
       ]
      },
      {
       "output_type": "stream",
       "stream": "stdout",
       "text": [
        "\r",
        "extracting kp from img  32/100"
       ]
      },
      {
       "output_type": "stream",
       "stream": "stdout",
       "text": [
        "\r",
        "extracting kp from img  33/100"
       ]
      },
      {
       "output_type": "stream",
       "stream": "stdout",
       "text": [
        "\r",
        "extracting kp from img  34/100"
       ]
      },
      {
       "output_type": "stream",
       "stream": "stdout",
       "text": [
        "\r",
        "extracting kp from img  35/100"
       ]
      },
      {
       "output_type": "stream",
       "stream": "stdout",
       "text": [
        "\r",
        "extracting kp from img  36/100"
       ]
      },
      {
       "output_type": "stream",
       "stream": "stdout",
       "text": [
        "\r",
        "extracting kp from img  37/100"
       ]
      },
      {
       "output_type": "stream",
       "stream": "stdout",
       "text": [
        "\r",
        "extracting kp from img  38/100"
       ]
      },
      {
       "output_type": "stream",
       "stream": "stdout",
       "text": [
        "\r",
        "extracting kp from img  39/100"
       ]
      },
      {
       "output_type": "stream",
       "stream": "stdout",
       "text": [
        "\r",
        "extracting kp from img  40/100"
       ]
      },
      {
       "output_type": "stream",
       "stream": "stdout",
       "text": [
        "\r",
        "extracting kp from img  41/100"
       ]
      },
      {
       "output_type": "stream",
       "stream": "stdout",
       "text": [
        "\r",
        "extracting kp from img  42/100"
       ]
      },
      {
       "output_type": "stream",
       "stream": "stdout",
       "text": [
        "\r",
        "extracting kp from img  43/100"
       ]
      },
      {
       "output_type": "stream",
       "stream": "stdout",
       "text": [
        "\r",
        "extracting kp from img  44/100"
       ]
      },
      {
       "output_type": "stream",
       "stream": "stdout",
       "text": [
        "\r",
        "extracting kp from img  45/100"
       ]
      },
      {
       "output_type": "stream",
       "stream": "stdout",
       "text": [
        "\r",
        "extracting kp from img  46/100"
       ]
      },
      {
       "output_type": "stream",
       "stream": "stdout",
       "text": [
        "\r",
        "extracting kp from img  47/100"
       ]
      },
      {
       "output_type": "stream",
       "stream": "stdout",
       "text": [
        "\r",
        "extracting kp from img  48/100"
       ]
      },
      {
       "output_type": "stream",
       "stream": "stdout",
       "text": [
        "\r",
        "extracting kp from img  49/100"
       ]
      },
      {
       "output_type": "stream",
       "stream": "stdout",
       "text": [
        "\r",
        "extracting kp from img  50/100"
       ]
      },
      {
       "output_type": "stream",
       "stream": "stdout",
       "text": [
        "\r",
        "extracting kp from img  51/100"
       ]
      },
      {
       "output_type": "stream",
       "stream": "stdout",
       "text": [
        "\r",
        "extracting kp from img  52/100"
       ]
      },
      {
       "output_type": "stream",
       "stream": "stdout",
       "text": [
        "\r",
        "extracting kp from img  53/100"
       ]
      },
      {
       "output_type": "stream",
       "stream": "stdout",
       "text": [
        "\r",
        "extracting kp from img  54/100"
       ]
      },
      {
       "output_type": "stream",
       "stream": "stdout",
       "text": [
        "\r",
        "extracting kp from img  55/100"
       ]
      },
      {
       "output_type": "stream",
       "stream": "stdout",
       "text": [
        "\r",
        "extracting kp from img  56/100"
       ]
      },
      {
       "output_type": "stream",
       "stream": "stdout",
       "text": [
        "\r",
        "extracting kp from img  57/100"
       ]
      },
      {
       "output_type": "stream",
       "stream": "stdout",
       "text": [
        "\r",
        "extracting kp from img  58/100"
       ]
      },
      {
       "output_type": "stream",
       "stream": "stdout",
       "text": [
        "\r",
        "extracting kp from img  59/100"
       ]
      },
      {
       "output_type": "stream",
       "stream": "stdout",
       "text": [
        "\r",
        "extracting kp from img  60/100"
       ]
      },
      {
       "output_type": "stream",
       "stream": "stdout",
       "text": [
        "\r",
        "extracting kp from img  61/100"
       ]
      },
      {
       "output_type": "stream",
       "stream": "stdout",
       "text": [
        "\r",
        "extracting kp from img  62/100"
       ]
      },
      {
       "output_type": "stream",
       "stream": "stdout",
       "text": [
        "\r",
        "extracting kp from img  63/100"
       ]
      },
      {
       "output_type": "stream",
       "stream": "stdout",
       "text": [
        "\r",
        "extracting kp from img  64/100"
       ]
      },
      {
       "output_type": "stream",
       "stream": "stdout",
       "text": [
        "\r",
        "extracting kp from img  65/100"
       ]
      },
      {
       "output_type": "stream",
       "stream": "stdout",
       "text": [
        "\r",
        "extracting kp from img  66/100"
       ]
      },
      {
       "output_type": "stream",
       "stream": "stdout",
       "text": [
        "\r",
        "extracting kp from img  67/100"
       ]
      },
      {
       "output_type": "stream",
       "stream": "stdout",
       "text": [
        "\r",
        "extracting kp from img  68/100"
       ]
      },
      {
       "output_type": "stream",
       "stream": "stdout",
       "text": [
        "\r",
        "extracting kp from img  69/100"
       ]
      },
      {
       "output_type": "stream",
       "stream": "stdout",
       "text": [
        "\r",
        "extracting kp from img  70/100"
       ]
      },
      {
       "output_type": "stream",
       "stream": "stdout",
       "text": [
        "\r",
        "extracting kp from img  71/100"
       ]
      },
      {
       "output_type": "stream",
       "stream": "stdout",
       "text": [
        "\r",
        "extracting kp from img  72/100"
       ]
      },
      {
       "output_type": "stream",
       "stream": "stdout",
       "text": [
        "\r",
        "extracting kp from img  73/100"
       ]
      },
      {
       "output_type": "stream",
       "stream": "stdout",
       "text": [
        "\r",
        "extracting kp from img  74/100"
       ]
      },
      {
       "output_type": "stream",
       "stream": "stdout",
       "text": [
        "\r",
        "extracting kp from img  75/100"
       ]
      },
      {
       "output_type": "stream",
       "stream": "stdout",
       "text": [
        "\r",
        "extracting kp from img  76/100"
       ]
      },
      {
       "output_type": "stream",
       "stream": "stdout",
       "text": [
        "\r",
        "extracting kp from img  77/100"
       ]
      },
      {
       "output_type": "stream",
       "stream": "stdout",
       "text": [
        "\r",
        "extracting kp from img  78/100"
       ]
      },
      {
       "output_type": "stream",
       "stream": "stdout",
       "text": [
        "\r",
        "extracting kp from img  79/100"
       ]
      },
      {
       "output_type": "stream",
       "stream": "stdout",
       "text": [
        "\r",
        "extracting kp from img  80/100"
       ]
      },
      {
       "output_type": "stream",
       "stream": "stdout",
       "text": [
        "\r",
        "extracting kp from img  81/100"
       ]
      },
      {
       "output_type": "stream",
       "stream": "stdout",
       "text": [
        "\r",
        "extracting kp from img  82/100"
       ]
      },
      {
       "output_type": "stream",
       "stream": "stdout",
       "text": [
        "\r",
        "extracting kp from img  83/100"
       ]
      },
      {
       "output_type": "stream",
       "stream": "stdout",
       "text": [
        "\r",
        "extracting kp from img  84/100"
       ]
      },
      {
       "output_type": "stream",
       "stream": "stdout",
       "text": [
        "\r",
        "extracting kp from img  85/100"
       ]
      },
      {
       "output_type": "stream",
       "stream": "stdout",
       "text": [
        "\r",
        "extracting kp from img  86/100"
       ]
      },
      {
       "output_type": "stream",
       "stream": "stdout",
       "text": [
        "\r",
        "extracting kp from img  87/100"
       ]
      },
      {
       "output_type": "stream",
       "stream": "stdout",
       "text": [
        "\r",
        "extracting kp from img  88/100"
       ]
      },
      {
       "output_type": "stream",
       "stream": "stdout",
       "text": [
        "\r",
        "extracting kp from img  89/100"
       ]
      },
      {
       "output_type": "stream",
       "stream": "stdout",
       "text": [
        "\r",
        "extracting kp from img  90/100"
       ]
      },
      {
       "output_type": "stream",
       "stream": "stdout",
       "text": [
        "\r",
        "extracting kp from img  91/100"
       ]
      },
      {
       "output_type": "stream",
       "stream": "stdout",
       "text": [
        "\r",
        "extracting kp from img  92/100"
       ]
      },
      {
       "output_type": "stream",
       "stream": "stdout",
       "text": [
        "\r",
        "extracting kp from img  93/100"
       ]
      },
      {
       "output_type": "stream",
       "stream": "stdout",
       "text": [
        "\r",
        "extracting kp from img  94/100"
       ]
      },
      {
       "output_type": "stream",
       "stream": "stdout",
       "text": [
        "\r",
        "extracting kp from img  95/100"
       ]
      },
      {
       "output_type": "stream",
       "stream": "stdout",
       "text": [
        "\r",
        "extracting kp from img  96/100"
       ]
      },
      {
       "output_type": "stream",
       "stream": "stdout",
       "text": [
        "\r",
        "extracting kp from img  97/100"
       ]
      },
      {
       "output_type": "stream",
       "stream": "stdout",
       "text": [
        "\r",
        "extracting kp from img  98/100"
       ]
      },
      {
       "output_type": "stream",
       "stream": "stdout",
       "text": [
        "\r",
        "extracting kp from img  99/100"
       ]
      },
      {
       "output_type": "stream",
       "stream": "stdout",
       "text": [
        "\r",
        "extracting kp from img 100/100"
       ]
      },
      {
       "output_type": "stream",
       "stream": "stdout",
       "text": [
        " no average\n"
       ]
      }
     ],
     "prompt_number": 6
    },
    {
     "cell_type": "code",
     "collapsed": false,
     "input": [
      "b = pysco.kpo('./kerphi/'+pupil+'.pick')\n",
      "b.name = 'Palomar - ' + tnames[1]\n",
      "b.extract_kpd(ddir + fnames[1],sg_ld = 4.5,re_center=True,D=5.093,unwrap_kp=False,adjust_sampling=False)\n",
      "# b.kpd= np.mean(b.kpd,axis=0)\n",
      "b.nsets = 1\n",
      "b.hdr = b.hdr[0]"
     ],
     "language": "python",
     "metadata": {},
     "outputs": [
      {
       "output_type": "stream",
       "stream": "stdout",
       "text": [
        "File ./kerphi/stdcrossmodel.pick contains kpi information only\n",
        "Bsp data was not loaded\n",
        "Vis2 data was not loaded\n",
        "1 frames will be open\n",
        "\r",
        "extracting kp from img   1/100"
       ]
      },
      {
       "output_type": "stream",
       "stream": "stdout",
       "text": [
        "\r",
        "extracting kp from img   2/100"
       ]
      },
      {
       "output_type": "stream",
       "stream": "stdout",
       "text": [
        "\r",
        "extracting kp from img   3/100"
       ]
      },
      {
       "output_type": "stream",
       "stream": "stdout",
       "text": [
        "\r",
        "extracting kp from img   4/100"
       ]
      },
      {
       "output_type": "stream",
       "stream": "stdout",
       "text": [
        "\r",
        "extracting kp from img   5/100"
       ]
      },
      {
       "output_type": "stream",
       "stream": "stdout",
       "text": [
        "\r",
        "extracting kp from img   6/100"
       ]
      },
      {
       "output_type": "stream",
       "stream": "stdout",
       "text": [
        "\r",
        "extracting kp from img   7/100"
       ]
      },
      {
       "output_type": "stream",
       "stream": "stdout",
       "text": [
        "\r",
        "extracting kp from img   8/100"
       ]
      },
      {
       "output_type": "stream",
       "stream": "stdout",
       "text": [
        "\r",
        "extracting kp from img   9/100"
       ]
      },
      {
       "output_type": "stream",
       "stream": "stdout",
       "text": [
        "\r",
        "extracting kp from img  10/100"
       ]
      },
      {
       "output_type": "stream",
       "stream": "stdout",
       "text": [
        "\r",
        "extracting kp from img  11/100"
       ]
      },
      {
       "output_type": "stream",
       "stream": "stdout",
       "text": [
        "\r",
        "extracting kp from img  12/100"
       ]
      },
      {
       "output_type": "stream",
       "stream": "stdout",
       "text": [
        "\r",
        "extracting kp from img  13/100"
       ]
      },
      {
       "output_type": "stream",
       "stream": "stdout",
       "text": [
        "\r",
        "extracting kp from img  14/100"
       ]
      },
      {
       "output_type": "stream",
       "stream": "stdout",
       "text": [
        "\r",
        "extracting kp from img  15/100"
       ]
      },
      {
       "output_type": "stream",
       "stream": "stdout",
       "text": [
        "\r",
        "extracting kp from img  16/100"
       ]
      },
      {
       "output_type": "stream",
       "stream": "stdout",
       "text": [
        "\r",
        "extracting kp from img  17/100"
       ]
      },
      {
       "output_type": "stream",
       "stream": "stdout",
       "text": [
        "\r",
        "extracting kp from img  18/100"
       ]
      },
      {
       "output_type": "stream",
       "stream": "stdout",
       "text": [
        "\r",
        "extracting kp from img  19/100"
       ]
      },
      {
       "output_type": "stream",
       "stream": "stdout",
       "text": [
        "\r",
        "extracting kp from img  20/100"
       ]
      },
      {
       "output_type": "stream",
       "stream": "stdout",
       "text": [
        "\r",
        "extracting kp from img  21/100"
       ]
      },
      {
       "output_type": "stream",
       "stream": "stdout",
       "text": [
        "\r",
        "extracting kp from img  22/100"
       ]
      },
      {
       "output_type": "stream",
       "stream": "stdout",
       "text": [
        "\r",
        "extracting kp from img  23/100"
       ]
      },
      {
       "output_type": "stream",
       "stream": "stdout",
       "text": [
        "\r",
        "extracting kp from img  24/100"
       ]
      },
      {
       "output_type": "stream",
       "stream": "stdout",
       "text": [
        "\r",
        "extracting kp from img  25/100"
       ]
      },
      {
       "output_type": "stream",
       "stream": "stdout",
       "text": [
        "\r",
        "extracting kp from img  26/100"
       ]
      },
      {
       "output_type": "stream",
       "stream": "stdout",
       "text": [
        "\r",
        "extracting kp from img  27/100"
       ]
      },
      {
       "output_type": "stream",
       "stream": "stdout",
       "text": [
        "\r",
        "extracting kp from img  28/100"
       ]
      },
      {
       "output_type": "stream",
       "stream": "stdout",
       "text": [
        "\r",
        "extracting kp from img  29/100"
       ]
      },
      {
       "output_type": "stream",
       "stream": "stdout",
       "text": [
        "\r",
        "extracting kp from img  30/100"
       ]
      },
      {
       "output_type": "stream",
       "stream": "stdout",
       "text": [
        "\r",
        "extracting kp from img  31/100"
       ]
      },
      {
       "output_type": "stream",
       "stream": "stdout",
       "text": [
        "\r",
        "extracting kp from img  32/100"
       ]
      },
      {
       "output_type": "stream",
       "stream": "stdout",
       "text": [
        "\r",
        "extracting kp from img  33/100"
       ]
      },
      {
       "output_type": "stream",
       "stream": "stdout",
       "text": [
        "\r",
        "extracting kp from img  34/100"
       ]
      },
      {
       "output_type": "stream",
       "stream": "stdout",
       "text": [
        "\r",
        "extracting kp from img  35/100"
       ]
      },
      {
       "output_type": "stream",
       "stream": "stdout",
       "text": [
        "\r",
        "extracting kp from img  36/100"
       ]
      },
      {
       "output_type": "stream",
       "stream": "stdout",
       "text": [
        "\r",
        "extracting kp from img  37/100"
       ]
      },
      {
       "output_type": "stream",
       "stream": "stdout",
       "text": [
        "\r",
        "extracting kp from img  38/100"
       ]
      },
      {
       "output_type": "stream",
       "stream": "stdout",
       "text": [
        "\r",
        "extracting kp from img  39/100"
       ]
      },
      {
       "output_type": "stream",
       "stream": "stdout",
       "text": [
        "\r",
        "extracting kp from img  40/100"
       ]
      },
      {
       "output_type": "stream",
       "stream": "stdout",
       "text": [
        "\r",
        "extracting kp from img  41/100"
       ]
      },
      {
       "output_type": "stream",
       "stream": "stdout",
       "text": [
        "\r",
        "extracting kp from img  42/100"
       ]
      },
      {
       "output_type": "stream",
       "stream": "stdout",
       "text": [
        "\r",
        "extracting kp from img  43/100"
       ]
      },
      {
       "output_type": "stream",
       "stream": "stdout",
       "text": [
        "\r",
        "extracting kp from img  44/100"
       ]
      },
      {
       "output_type": "stream",
       "stream": "stdout",
       "text": [
        "\r",
        "extracting kp from img  45/100"
       ]
      },
      {
       "output_type": "stream",
       "stream": "stdout",
       "text": [
        "\r",
        "extracting kp from img  46/100"
       ]
      },
      {
       "output_type": "stream",
       "stream": "stdout",
       "text": [
        "\r",
        "extracting kp from img  47/100"
       ]
      },
      {
       "output_type": "stream",
       "stream": "stdout",
       "text": [
        "\r",
        "extracting kp from img  48/100"
       ]
      },
      {
       "output_type": "stream",
       "stream": "stdout",
       "text": [
        "\r",
        "extracting kp from img  49/100"
       ]
      },
      {
       "output_type": "stream",
       "stream": "stdout",
       "text": [
        "\r",
        "extracting kp from img  50/100"
       ]
      },
      {
       "output_type": "stream",
       "stream": "stdout",
       "text": [
        "\r",
        "extracting kp from img  51/100"
       ]
      },
      {
       "output_type": "stream",
       "stream": "stdout",
       "text": [
        "\r",
        "extracting kp from img  52/100"
       ]
      },
      {
       "output_type": "stream",
       "stream": "stdout",
       "text": [
        "\r",
        "extracting kp from img  53/100"
       ]
      },
      {
       "output_type": "stream",
       "stream": "stdout",
       "text": [
        "\r",
        "extracting kp from img  54/100"
       ]
      },
      {
       "output_type": "stream",
       "stream": "stdout",
       "text": [
        "\r",
        "extracting kp from img  55/100"
       ]
      },
      {
       "output_type": "stream",
       "stream": "stdout",
       "text": [
        "\r",
        "extracting kp from img  56/100"
       ]
      },
      {
       "output_type": "stream",
       "stream": "stdout",
       "text": [
        "\r",
        "extracting kp from img  57/100"
       ]
      },
      {
       "output_type": "stream",
       "stream": "stdout",
       "text": [
        "\r",
        "extracting kp from img  58/100"
       ]
      },
      {
       "output_type": "stream",
       "stream": "stdout",
       "text": [
        "\r",
        "extracting kp from img  59/100"
       ]
      },
      {
       "output_type": "stream",
       "stream": "stdout",
       "text": [
        "\r",
        "extracting kp from img  60/100"
       ]
      },
      {
       "output_type": "stream",
       "stream": "stdout",
       "text": [
        "\r",
        "extracting kp from img  61/100"
       ]
      },
      {
       "output_type": "stream",
       "stream": "stdout",
       "text": [
        "\r",
        "extracting kp from img  62/100"
       ]
      },
      {
       "output_type": "stream",
       "stream": "stdout",
       "text": [
        "\r",
        "extracting kp from img  63/100"
       ]
      },
      {
       "output_type": "stream",
       "stream": "stdout",
       "text": [
        "\r",
        "extracting kp from img  64/100"
       ]
      },
      {
       "output_type": "stream",
       "stream": "stdout",
       "text": [
        "\r",
        "extracting kp from img  65/100"
       ]
      },
      {
       "output_type": "stream",
       "stream": "stdout",
       "text": [
        "\r",
        "extracting kp from img  66/100"
       ]
      },
      {
       "output_type": "stream",
       "stream": "stdout",
       "text": [
        "\r",
        "extracting kp from img  67/100"
       ]
      },
      {
       "output_type": "stream",
       "stream": "stdout",
       "text": [
        "\r",
        "extracting kp from img  68/100"
       ]
      },
      {
       "output_type": "stream",
       "stream": "stdout",
       "text": [
        "\r",
        "extracting kp from img  69/100"
       ]
      },
      {
       "output_type": "stream",
       "stream": "stdout",
       "text": [
        "\r",
        "extracting kp from img  70/100"
       ]
      },
      {
       "output_type": "stream",
       "stream": "stdout",
       "text": [
        "\r",
        "extracting kp from img  71/100"
       ]
      },
      {
       "output_type": "stream",
       "stream": "stdout",
       "text": [
        "\r",
        "extracting kp from img  72/100"
       ]
      },
      {
       "output_type": "stream",
       "stream": "stdout",
       "text": [
        "\r",
        "extracting kp from img  73/100"
       ]
      },
      {
       "output_type": "stream",
       "stream": "stdout",
       "text": [
        "\r",
        "extracting kp from img  74/100"
       ]
      },
      {
       "output_type": "stream",
       "stream": "stdout",
       "text": [
        "\r",
        "extracting kp from img  75/100"
       ]
      },
      {
       "output_type": "stream",
       "stream": "stdout",
       "text": [
        "\r",
        "extracting kp from img  76/100"
       ]
      },
      {
       "output_type": "stream",
       "stream": "stdout",
       "text": [
        "\r",
        "extracting kp from img  77/100"
       ]
      },
      {
       "output_type": "stream",
       "stream": "stdout",
       "text": [
        "\r",
        "extracting kp from img  78/100"
       ]
      },
      {
       "output_type": "stream",
       "stream": "stdout",
       "text": [
        "\r",
        "extracting kp from img  79/100"
       ]
      },
      {
       "output_type": "stream",
       "stream": "stdout",
       "text": [
        "\r",
        "extracting kp from img  80/100"
       ]
      },
      {
       "output_type": "stream",
       "stream": "stdout",
       "text": [
        "\r",
        "extracting kp from img  81/100"
       ]
      },
      {
       "output_type": "stream",
       "stream": "stdout",
       "text": [
        "\r",
        "extracting kp from img  82/100"
       ]
      },
      {
       "output_type": "stream",
       "stream": "stdout",
       "text": [
        "\r",
        "extracting kp from img  83/100"
       ]
      },
      {
       "output_type": "stream",
       "stream": "stdout",
       "text": [
        "\r",
        "extracting kp from img  84/100"
       ]
      },
      {
       "output_type": "stream",
       "stream": "stdout",
       "text": [
        "\r",
        "extracting kp from img  85/100"
       ]
      },
      {
       "output_type": "stream",
       "stream": "stdout",
       "text": [
        "\r",
        "extracting kp from img  86/100"
       ]
      },
      {
       "output_type": "stream",
       "stream": "stdout",
       "text": [
        "\r",
        "extracting kp from img  87/100"
       ]
      },
      {
       "output_type": "stream",
       "stream": "stdout",
       "text": [
        "\r",
        "extracting kp from img  88/100"
       ]
      },
      {
       "output_type": "stream",
       "stream": "stdout",
       "text": [
        "\r",
        "extracting kp from img  89/100"
       ]
      },
      {
       "output_type": "stream",
       "stream": "stdout",
       "text": [
        "\r",
        "extracting kp from img  90/100"
       ]
      },
      {
       "output_type": "stream",
       "stream": "stdout",
       "text": [
        "\r",
        "extracting kp from img  91/100"
       ]
      },
      {
       "output_type": "stream",
       "stream": "stdout",
       "text": [
        "\r",
        "extracting kp from img  92/100"
       ]
      },
      {
       "output_type": "stream",
       "stream": "stdout",
       "text": [
        "\r",
        "extracting kp from img  93/100"
       ]
      },
      {
       "output_type": "stream",
       "stream": "stdout",
       "text": [
        "\r",
        "extracting kp from img  94/100"
       ]
      },
      {
       "output_type": "stream",
       "stream": "stdout",
       "text": [
        "\r",
        "extracting kp from img  95/100"
       ]
      },
      {
       "output_type": "stream",
       "stream": "stdout",
       "text": [
        "\r",
        "extracting kp from img  96/100"
       ]
      },
      {
       "output_type": "stream",
       "stream": "stdout",
       "text": [
        "\r",
        "extracting kp from img  97/100"
       ]
      },
      {
       "output_type": "stream",
       "stream": "stdout",
       "text": [
        "\r",
        "extracting kp from img  98/100"
       ]
      },
      {
       "output_type": "stream",
       "stream": "stdout",
       "text": [
        "\r",
        "extracting kp from img  99/100"
       ]
      },
      {
       "output_type": "stream",
       "stream": "stdout",
       "text": [
        "\r",
        "extracting kp from img 100/100"
       ]
      },
      {
       "output_type": "stream",
       "stream": "stdout",
       "text": [
        " no average\n"
       ]
      }
     ],
     "prompt_number": 5
    },
    {
     "cell_type": "code",
     "collapsed": true,
     "input": [
      "# some of the recentering seems to fail - only sometimes - on Palomar data and I can't work out why, so here are \n",
      "# some quick and easy tricks to get rid of bad kernel phases. \n",
      "# I have commented out lines that do this. Don't need to run this if it all looks ok! \n",
      "\n",
      "# newkpds = np.zeros(a.kpd.shape[1])\n",
      "# newkpes = np.zeros(a.kpd.shape[1])\n",
      "# for j in range(a.kpd.shape[1]):\n",
      "# \tnewsignal = pysco.clip_signal(a.kpd[:,j],threshold=2.0)\n",
      "# \tnewkpds[j],newkpes[j] = np.mean(newsignal),np.std(newsignal)/np.sqrt(np.size(newsignal))\n",
      "\n",
      "# a.kpd,a.kpe = newkpds,newkpes\n",
      "\n",
      "a.kpe = np.std(a.kpd,axis=0)/np.sqrt(a.kpd.shape[0])\n",
      "a.kpd = np.mean(a.kpd,axis=0)\n",
      "\n",
      "# b.kpe = np.std(a.kpd,axis=0)\n",
      "# b.kpd = np.mean(a.kpd,axis=0)\n",
      "\n",
      "# newkpds = np.zeros(b.kpd.shape[1])\n",
      "# newkpes = np.zeros(b.kpd.shape[1])\n",
      "# for j in range(b.kpd.shape[1]):\n",
      "# \tnewsignal = pysco.clip_signal(b.kpd[:,j],threshold=2.0)\n",
      "# \tnewkpds[j],newkpes[j] = np.mean(newsignal),np.std(newsignal)/np.sqrt(np.size(newsignal))\n",
      "\n",
      "# b.kpd,b.kpe = newkpds,newkpes\n",
      "\n",
      "b.kpe = np.std(b.kpd,axis=0)/np.sqrt(b.kpd.shape[0])\n",
      "b.kpd = np.mean(b.kpd,axis=0)\n",
      "\n",
      "# if it takes a lot of iterations this might be a bad sign and it will warn you\n",
      "# - you might want to turn off clipping! instead a.kpd = np.mean(a.kpd), a.kpe = np.std(a.kpd)/np.sqrt(nframes)"
     ],
     "language": "python",
     "metadata": {},
     "outputs": [],
     "prompt_number": 6
    },
    {
     "cell_type": "code",
     "collapsed": false,
     "input": [
      "#calibrate - this is a crude way to do things, but as we discuss in the paper, the systematics are bad enough \n",
      "# that it is unlikely that a clever Bayesian way of doing things would be much better\n",
      "\n",
      "addederror = 1.05\n",
      "a.kpd -= b.kpd #subtract systematic\n",
      "a.kpe = np.sqrt(a.kpe**2. + b.kpe**2.+ addederror**2.) #add statistical and measurement in quadrature\n",
      "\n",
      "# you may want to add an error term in quadrature - see the note later! We can cheat and tell you that 1. should do the job,\n",
      "# but try 0 if you want to see how well it does without it\n"
     ],
     "language": "python",
     "metadata": {},
     "outputs": [],
     "prompt_number": 7
    },
    {
     "cell_type": "markdown",
     "metadata": {},
     "source": [
      "In the following two cells we have two different ways of fitting a model to these data - one uses MultiNest and one uses emcee.\n",
      "\n",
      "MultiNest is available at http://ccpforge.cse.rl.ac.uk/gf/project/multinest/, and is accessed through Johannes Buchner's PyMultiNest Python wrapper available at http://johannesbuchner.github.io/PyMultiNest/ . These can be difficult to install, especially on some operating systems, and we do not use these results in the final paper, as we explore the posterior pdf more fully with emcee.\n",
      "\n",
      "emcee, the 'MCMC Hammer', is available from http://dan.iel.fm/emcee/current/ and is the main sampler used in the paper as submitted. We recommend initializing this and using its default values, as this will give the same results as we report in the paper. "
     ]
    },
    {
     "cell_type": "code",
     "collapsed": false,
     "input": [
      "# # MultiNest Option \n",
      "\n",
      "results = pysco.nest(a,paramlimits=[50.,200.,0.,360.,10,50])\n",
      "\n",
      "params = [results[0]['median'],results[1]['median'],results[2]['median']]\n",
      "\n",
      "print 'Sep', params[0], 'mas', 'Position angle', params[1], 'deg', 'Contrast', params[2]"
     ],
     "language": "python",
     "metadata": {},
     "outputs": [
      {
       "output_type": "stream",
       "stream": "stdout",
       "text": [
        "  analysing data from chains/1-.txt\n",
        "Time elapsed ="
       ]
      },
      {
       "output_type": "stream",
       "stream": "stdout",
       "text": [
        " 1.83139278094 mins\n",
        "\n",
        "------------------------------ ANALYSIS ------------------------------\n",
        "Global Evidence:\n",
        "\t-2.214240403138882e+03 +- 1.194709431275561e-01\n",
        "Separation: 94.672 pm 0.56\n",
        "Position angle: 281.165 pm 0.18\n",
        "Contrast at 1.57 um: 11.792 pm 0.211\n",
        "Sep 94.671832639 mas Position angle 281.165004532 deg Contrast 11.7920749892\n"
       ]
      }
     ],
     "prompt_number": 8
    },
    {
     "cell_type": "code",
     "collapsed": false,
     "input": [
      "flatchain = pysco.hammer(a,ivar = [131.23, 86, 27.59],burnin=200,nsteps=1000, paramlimits=[40,250,0,360,15,50.]) \n",
      "# Parameters as determined by aperture masking: [131.23, 82.84, 27.59]\n",
      "\n",
      "seps = flatchain[:,0]\n",
      "ths = flatchain[:,1]\n",
      "cons = flatchain[:,2]\n",
      "\n",
      "sep = np.mean(seps)\n",
      "\n",
      "th = np.mean(ths) # remember on Palomar the position angle goes the other way - so check this is not 360 - your answer!\n",
      "\n",
      "con = np.mean(cons)\n",
      "\n",
      "print 'Sep %.3f mas  Position angle %.3fdeg  Contrast %.3f' % (sep, th, con)  \n",
      "params = [sep,th,con]\n"
     ],
     "language": "python",
     "metadata": {},
     "outputs": [
      {
       "output_type": "stream",
       "stream": "stdout",
       "text": [
        "Running emcee now!\n",
        "Burnt in! Took 51.992 seconds"
       ]
      },
      {
       "output_type": "stream",
       "stream": "stdout",
       "text": [
        "\n",
        "Time elapsed = 346.831 s"
       ]
      },
      {
       "output_type": "stream",
       "stream": "stdout",
       "text": [
        "\n",
        "Separation 124.729 pm 0.601 mas\n",
        "Position angle 79.847 pm 0.226 deg\n",
        "Contrast at 1.57 um 19.887 pm 0.640\n",
        "Sep 124.729 mas  Position angle 79.847deg  Contrast 19.887\n"
       ]
      }
     ],
     "prompt_number": 9
    },
    {
     "cell_type": "code",
     "collapsed": false,
     "input": [
      "# now plot your results! requires emcee output \n",
      "# if you have outliers you may have to fiddle with the extents \n",
      "\n",
      "fig = triangle.corner(flatchain, labels=[\"Separation (mas)\", \"Position Angle (deg)\", \"Contrast\"])#, extents = [0.92,0.92,0.92])\n",
      "plt.show()"
     ],
     "language": "python",
     "metadata": {},
     "outputs": [],
     "prompt_number": 10
    },
    {
     "cell_type": "code",
     "collapsed": false,
     "input": [
      "params = [sep,th,con]\n",
      "d = pysco.binary_model(params,a.kpi,a.hdr)\n",
      "\n",
      "plt.clf()\n",
      "mm = np.round(np.max(np.abs(a.kpd)), -1)\n",
      "plt.errorbar(d,a.kpd,yerr=a.kpe,fmt='b.')\n",
      "plt.plot([-mm,mm],[-mm,mm], 'g')\n",
      "plt.axis('tight',fontsize='large')\n",
      "plt.xlabel('Model Kernel Phases',fontsize='large')\n",
      "plt.ylabel('Kernel Phase Signal', fontsize='large')\n",
      "plt.title('Kernel Phase Correlation Diagram',\n",
      "\t\t  fontsize='large')\n",
      "plt.draw()\n",
      "plt.show()\n"
     ],
     "language": "python",
     "metadata": {},
     "outputs": [],
     "prompt_number": 11
    },
    {
     "cell_type": "markdown",
     "metadata": {},
     "source": [
      "There is a problem in the above! As you'll notice if you don't include an error term added in quadrature, it's got enormously more scatter than the error bars suggest. This is because the error bars are probably way too small - they are derived from scatter in the observations, whereas we know that due to saturation, a ghost (!) and poor AO performance they are likely to suffer from a systematic offset as well.\n",
      "\n",
      "As a result, we will recalculate all of the above, adding a second error term in quadrature to get a chi2 of 1 and redoing the MCMC.\n",
      "\n",
      "To help you out, as we note above, we found that the best error to do this is 1 degree, but feel free to play with this."
     ]
    },
    {
     "cell_type": "code",
     "collapsed": false,
     "input": [
      "chi2 = np.sum(((a.kpd -d)/a.kpe)**2.)\n",
      "\n",
      "print 'Reduced chi2 = %03f'%(chi2/(a.kpi.nkphi-4.))"
     ],
     "language": "python",
     "metadata": {},
     "outputs": [
      {
       "output_type": "stream",
       "stream": "stdout",
       "text": [
        "Reduced chi2 = 0.965515\n"
       ]
      }
     ],
     "prompt_number": 12
    },
    {
     "cell_type": "heading",
     "level": 2,
     "metadata": {},
     "source": [
      "Thank you for taking the time to read this! I hope this was enlightening and maybe you can even use some of this in your own research.\n",
      "\n",
      "Cheers,\n",
      "\n",
      "Ben"
     ]
    },
    {
     "cell_type": "code",
     "collapsed": false,
     "input": [
      "'''------------------------------------------------\n",
      "Now let's try a comparison with less advanced \n",
      "deconvolution techniques. \n",
      "\n",
      "Analysis of the final data will be performed in IDL,\n",
      "but before that, let's make up the data cubes in \n",
      "Python using whisky.\n",
      "------------------------------------------------'''\n",
      "\n",
      "#read it in - using the pysco routine so as to get the centering correct\n",
      "\n",
      "cube,hdr = pysco.load_cube(ddir+fnames[0])\n",
      "\n",
      "#stack centred images\n",
      "stacked_cube = np.sum(cube,axis = 0)\n",
      "\n",
      "#now save as a .fits file\n",
      "try:\n",
      "    f = fitsio.FITS('./stacked_cube_%s_%s.fits'%(tnames[0],bandn),'rw')\n",
      "    f.write(stacked_cube,hdr=hdr)\n",
      "    f.close()\n",
      "    print 'Written as ./stacked_cube_%s_%s.fits'%(tnames[0],bandn)\n",
      "except:\n",
      "    print 'Failed to write'\n",
      "\n",
      "#do calibrator\n",
      "calcube,calhdr = pysco.load_cube(ddir+fnames[1])\n",
      "\n",
      "#stack centred images\n",
      "stacked_cube_cal = np.sum(calcube,axis = 0)\n",
      "\n",
      "#now save as a .fits file\n",
      "try:\n",
      "    f = fitsio.FITS('./stacked_cube_%s_%s_cal.fits'%(tnames[1],bandn),'rw')\n",
      "    f.write(stacked_cube_cal,hdr=hdr)\n",
      "    f.close()\n",
      "    print 'Written as ./stacked_cube_%s_%s_cal.fits'%(tnames[1],bandn)\n",
      "except:\n",
      "    print 'Failed to write'"
     ],
     "language": "python",
     "metadata": {},
     "outputs": [
      {
       "output_type": "stream",
       "stream": "stdout",
       "text": [
        "Written as ./stacked_cube_alpOph_Ks.fits\n",
        "Written as ./stacked_cube_epsOph_Ks_cal.fits"
       ]
      },
      {
       "output_type": "stream",
       "stream": "stdout",
       "text": [
        "\n"
       ]
      }
     ],
     "prompt_number": 10
    },
    {
     "cell_type": "code",
     "collapsed": false,
     "input": [
      "plt.imshow((stacked_cube/stacked_cube[256,256])**0.2)"
     ],
     "language": "python",
     "metadata": {},
     "outputs": [
      {
       "metadata": {},
       "output_type": "pyout",
       "prompt_number": 18,
       "text": [
        "<matplotlib.image.AxesImage at 0x7eff9d53dc50>"
       ]
      },
      {
       "metadata": {},
       "output_type": "display_data",
       "png": "[encoded data removed]",
       "text": [
        "<matplotlib.figure.Figure at 0x7eff9d64a550>"
       ]
      }
     ],
     "prompt_number": 18
    },
    {
     "cell_type": "code",
     "collapsed": false,
     "input": [
      "plt.imshow((stacked_cube_cal/stacked_cube_cal[256,256])**0.2)"
     ],
     "language": "python",
     "metadata": {},
     "outputs": [
      {
       "metadata": {},
       "output_type": "pyout",
       "prompt_number": 19,
       "text": [
        "<matplotlib.image.AxesImage at 0x7eff9d46ecd0>"
       ]
      },
      {
       "metadata": {},
       "output_type": "display_data",
       "png": "[encoded data removed]",
       "text": [
        "<matplotlib.figure.Figure at 0x7eff9d5074d0>"
       ]
      }
     ],
     "prompt_number": 19
    },
    {
     "cell_type": "code",
     "collapsed": false,
     "input": [
      "plt.imshow((stacked_cube/stacked_cube[256,256]-stacked_cube_cal/stacked_cube_cal[256,256])**0.2)"
     ],
     "language": "python",
     "metadata": {},
     "outputs": [
      {
       "metadata": {},
       "output_type": "pyout",
       "prompt_number": 20,
       "text": [
        "<matplotlib.image.AxesImage at 0x7eff9d420f90>"
       ]
      },
      {
       "metadata": {},
       "output_type": "display_data",
       "png": "[encoded data removed]",
       "text": [
        "<matplotlib.figure.Figure at 0x7eff9d42dd50>"
       ]
      }
     ],
     "prompt_number": 20
    },
    {
     "cell_type": "code",
     "collapsed": false,
     "input": [],
     "language": "python",
     "metadata": {},
     "outputs": []
    }
   ],
   "metadata": {}
  }
 ]
}