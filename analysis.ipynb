{
 "metadata": {
  "name": "",
  "signature": "sha256:b76a4ddacf483bc6039cb8ebb1e1c8e2f44387277ad11bbeafb4806d04b1716a"
 },
 "nbformat": 3,
 "nbformat_minor": 0,
 "worksheets": [
  {
   "cells": [
    {
     "cell_type": "heading",
     "level": 1,
     "metadata": {},
     "source": [
      "Analysis for the Pharo kernel phase paper as submitted by Pope et al., 2015. "
     ]
    },
    {
     "cell_type": "heading",
     "level": 3,
     "metadata": {},
     "source": [
      "Whisky is a modified distribution of pysco, available at https://github.com/benjaminpope/whisky .\n",
      "\n",
      "The original pysco code as developed by Martinache, Pope and Ireland is available at https://code.google.com/p/pysco/ ."
     ]
    },
    {
     "cell_type": "code",
     "collapsed": false,
     "input": [
      "import numpy as np\n",
      "import matplotlib.pyplot as plt\n",
      "import whisky as pysco\n",
      "\n",
      "import fitsio\n",
      "import triangle\n",
      "from time import time\n",
      "from astroML.plotting import setup_text_plots\n",
      "setup_text_plots(usetex=True)\n",
      "%matplotlib inline"
     ],
     "language": "python",
     "metadata": {},
     "outputs": [
      {
       "output_type": "stream",
       "stream": "stderr",
       "text": [
        "/usr/local/lib/python2.7/dist-packages/numpy/core/fromnumeric.py:2499: VisibleDeprecationWarning: `rank` is deprecated; use the `ndim` attribute or function instead. To find the rank of a matrix see `numpy.linalg.matrix_rank`.\n",
        "  VisibleDeprecationWarning)\n"
       ]
      }
     ],
     "prompt_number": 1
    },
    {
     "cell_type": "markdown",
     "metadata": {},
     "source": [
      "Now define your data directory, bands - we have Ks and ch4, though the ch4 are provided basically only for illustrative purposes as they're horribly saturated and have been discarded from the paper as submitted."
     ]
    },
    {
     "cell_type": "code",
     "collapsed": false,
     "input": [
      "ddir = \"/home/ben/Research/pharo/data/\" # data directory\n",
      "\n",
      "bandn = 'Ks' \n",
      "# bandn = 'ch4' # this gives vaguely right astrometry at its best fit but a remarkably poor fit overall! try if you like\n",
      "\n",
      "num = 0 #0 for alpha Oph, 1 sim with masking params, 2 for sim with kp params\n",
      "\n",
      "tnames = ['alpOph','epsOph','epsHer']\n",
      "\n",
      "no_kp = False\n",
      "bispec = True"
     ],
     "language": "python",
     "metadata": {},
     "outputs": [],
     "prompt_number": 2
    },
    {
     "cell_type": "code",
     "collapsed": false,
     "input": [
      "if bandn == 'ch4':\n",
      "\tfnames = ['cubeF_1856.fits','cubeF_2381.fits']\n",
      "\t# myf1 = open('alpOph_ch4_lin.pick','r')\n",
      "\t# myf2 = open('epsOph_ch4_lin.pick','r')\n",
      "\tpupil = 'stdcrossmodel'\n",
      "elif bandn == 'Ks':\n",
      "\tfnames = ['cubeF_2056.fits','cubeF_2881.fits']\n",
      "\t# myf1 = open('alpOph_Ks_lin.pick','r')\n",
      "\t# myf2 = open('epsHer_Ks_lin.pick','r')\n",
      "\tpupil = 'medcrossmodel'\n",
      "else: print 'Data directory failure'\n",
      "    \n",
      "if num == 1:\n",
      "    print 'Doing simulated observations'\n",
      "    fnames = ['Ks_0.8_bin_s129.6_a83.5_c28.7.fits', 'Ks_1.0_bin_s129.6_a83.5_c28.7.fits'] # ffa\n",
      "    pupil = 'medcrossmodel'\n",
      "else:\n",
      "    pass\n",
      "    \n",
      "if num == 2:\n",
      "    print 'Doing simulated observations'\n",
      "    fnames = ['Ks_0.8_bin_s131_a86_c19.7.fits', 'Ks_1.0_bin_s131_a86_c19.7.fits'] # ffa\n",
      "    pupil = 'medcrossmodel'\n",
      "else:\n",
      "    pass"
     ],
     "language": "python",
     "metadata": {},
     "outputs": [],
     "prompt_number": 3
    },
    {
     "cell_type": "markdown",
     "metadata": {},
     "source": [
      "After the \"import whisky\" command, the documentation for the code is\n",
      "available typing \"help(pysco)\"."
     ]
    },
    {
     "cell_type": "code",
     "collapsed": false,
     "input": [
      "# -------------------\n",
      "# 1. load the dataset\n",
      "# -------------------\n",
      "\n",
      "#load data and calibrators - each of these may take several minutes \n",
      "\n",
      "try:\n",
      "    a = pysco.kpo('./kerphi/'+pupil+'.pick')\n",
      "except:\n",
      "    a = pysco.kpi('./kerphi/medcross.txt') # in case you need to make it - edit this!\n",
      "    a.save_to_file('./kerphi/medcrossmodel.pick')\n",
      "    a = pysco.kpo('./kerphi/'+pupil+'.pick')\n",
      "\n",
      "a.name = 'Palomar - ' + tnames[0]\n",
      "if no_kp:\n",
      "    a.kpi.KerPhi = np.eye(a.kpi.nbuv)  # for speckle!\n",
      "    a.kpi.nkphi = a.kpi.nbuv  # for speckle!\n",
      "\n",
      "a.extract_kpd(ddir + fnames[0],sg_ld = 4.5,re_center=True,D=5.093,unwrap_kp=False,adjust_sampling=True,bsp=bispec)\n",
      "\n",
      "print a.kpd.shape\n",
      "print a.kpe.shape\n"
     ],
     "language": "python",
     "metadata": {},
     "outputs": [
      {
       "output_type": "stream",
       "stream": "stdout",
       "text": [
        "File ./kerphi/medcrossmodel.pick contains kpi information only\n",
        "Bsp data was not loaded\n",
        "Vis2 data was not loaded\n",
        "1 frames will be open\n",
        "\r",
        "extracting kp from img   1/100"
       ]
      },
      {
       "output_type": "stream",
       "stream": "stdout",
       "text": [
        "\r",
        "extracting kp from img   2/100"
       ]
      },
      {
       "output_type": "stream",
       "stream": "stdout",
       "text": [
        "\r",
        "extracting kp from img   3/100"
       ]
      },
      {
       "output_type": "stream",
       "stream": "stdout",
       "text": [
        "\r",
        "extracting kp from img   4/100"
       ]
      },
      {
       "output_type": "stream",
       "stream": "stdout",
       "text": [
        "\r",
        "extracting kp from img   5/100"
       ]
      },
      {
       "output_type": "stream",
       "stream": "stdout",
       "text": [
        "\r",
        "extracting kp from img   6/100"
       ]
      },
      {
       "output_type": "stream",
       "stream": "stdout",
       "text": [
        "\r",
        "extracting kp from img   7/100"
       ]
      },
      {
       "output_type": "stream",
       "stream": "stdout",
       "text": [
        "\r",
        "extracting kp from img   8/100"
       ]
      },
      {
       "output_type": "stream",
       "stream": "stdout",
       "text": [
        "\r",
        "extracting kp from img   9/100"
       ]
      },
      {
       "output_type": "stream",
       "stream": "stdout",
       "text": [
        "\r",
        "extracting kp from img  10/100"
       ]
      },
      {
       "output_type": "stream",
       "stream": "stdout",
       "text": [
        "\r",
        "extracting kp from img  11/100"
       ]
      },
      {
       "output_type": "stream",
       "stream": "stdout",
       "text": [
        "\r",
        "extracting kp from img  12/100"
       ]
      },
      {
       "output_type": "stream",
       "stream": "stdout",
       "text": [
        "\r",
        "extracting kp from img  13/100"
       ]
      },
      {
       "output_type": "stream",
       "stream": "stdout",
       "text": [
        "\r",
        "extracting kp from img  14/100"
       ]
      },
      {
       "output_type": "stream",
       "stream": "stdout",
       "text": [
        "\r",
        "extracting kp from img  15/100"
       ]
      },
      {
       "output_type": "stream",
       "stream": "stdout",
       "text": [
        "\r",
        "extracting kp from img  16/100"
       ]
      },
      {
       "output_type": "stream",
       "stream": "stdout",
       "text": [
        "\r",
        "extracting kp from img  17/100"
       ]
      },
      {
       "output_type": "stream",
       "stream": "stdout",
       "text": [
        "\r",
        "extracting kp from img  18/100"
       ]
      },
      {
       "output_type": "stream",
       "stream": "stdout",
       "text": [
        "\r",
        "extracting kp from img  19/100"
       ]
      },
      {
       "output_type": "stream",
       "stream": "stdout",
       "text": [
        "\r",
        "extracting kp from img  20/100"
       ]
      },
      {
       "output_type": "stream",
       "stream": "stdout",
       "text": [
        "\r",
        "extracting kp from img  21/100"
       ]
      },
      {
       "output_type": "stream",
       "stream": "stdout",
       "text": [
        "\r",
        "extracting kp from img  22/100"
       ]
      },
      {
       "output_type": "stream",
       "stream": "stdout",
       "text": [
        "\r",
        "extracting kp from img  23/100"
       ]
      },
      {
       "output_type": "stream",
       "stream": "stdout",
       "text": [
        "\r",
        "extracting kp from img  24/100"
       ]
      },
      {
       "output_type": "stream",
       "stream": "stdout",
       "text": [
        "\r",
        "extracting kp from img  25/100"
       ]
      },
      {
       "output_type": "stream",
       "stream": "stdout",
       "text": [
        "\r",
        "extracting kp from img  26/100"
       ]
      },
      {
       "output_type": "stream",
       "stream": "stdout",
       "text": [
        "\r",
        "extracting kp from img  27/100"
       ]
      },
      {
       "output_type": "stream",
       "stream": "stdout",
       "text": [
        "\r",
        "extracting kp from img  28/100"
       ]
      },
      {
       "output_type": "stream",
       "stream": "stdout",
       "text": [
        "\r",
        "extracting kp from img  29/100"
       ]
      },
      {
       "output_type": "stream",
       "stream": "stdout",
       "text": [
        "\r",
        "extracting kp from img  30/100"
       ]
      },
      {
       "output_type": "stream",
       "stream": "stdout",
       "text": [
        "\r",
        "extracting kp from img  31/100"
       ]
      },
      {
       "output_type": "stream",
       "stream": "stdout",
       "text": [
        "\r",
        "extracting kp from img  32/100"
       ]
      },
      {
       "output_type": "stream",
       "stream": "stdout",
       "text": [
        "\r",
        "extracting kp from img  33/100"
       ]
      },
      {
       "output_type": "stream",
       "stream": "stdout",
       "text": [
        "\r",
        "extracting kp from img  34/100"
       ]
      },
      {
       "output_type": "stream",
       "stream": "stdout",
       "text": [
        "\r",
        "extracting kp from img  35/100"
       ]
      },
      {
       "output_type": "stream",
       "stream": "stdout",
       "text": [
        "\r",
        "extracting kp from img  36/100"
       ]
      },
      {
       "output_type": "stream",
       "stream": "stdout",
       "text": [
        "\r",
        "extracting kp from img  37/100"
       ]
      },
      {
       "output_type": "stream",
       "stream": "stdout",
       "text": [
        "\r",
        "extracting kp from img  38/100"
       ]
      },
      {
       "output_type": "stream",
       "stream": "stdout",
       "text": [
        "\r",
        "extracting kp from img  39/100"
       ]
      },
      {
       "output_type": "stream",
       "stream": "stdout",
       "text": [
        "\r",
        "extracting kp from img  40/100"
       ]
      },
      {
       "output_type": "stream",
       "stream": "stdout",
       "text": [
        "\r",
        "extracting kp from img  41/100"
       ]
      },
      {
       "output_type": "stream",
       "stream": "stdout",
       "text": [
        "\r",
        "extracting kp from img  42/100"
       ]
      },
      {
       "output_type": "stream",
       "stream": "stdout",
       "text": [
        "\r",
        "extracting kp from img  43/100"
       ]
      },
      {
       "output_type": "stream",
       "stream": "stdout",
       "text": [
        "\r",
        "extracting kp from img  44/100"
       ]
      },
      {
       "output_type": "stream",
       "stream": "stdout",
       "text": [
        "\r",
        "extracting kp from img  45/100"
       ]
      },
      {
       "output_type": "stream",
       "stream": "stdout",
       "text": [
        "\r",
        "extracting kp from img  46/100"
       ]
      },
      {
       "output_type": "stream",
       "stream": "stdout",
       "text": [
        "\r",
        "extracting kp from img  47/100"
       ]
      },
      {
       "output_type": "stream",
       "stream": "stdout",
       "text": [
        "\r",
        "extracting kp from img  48/100"
       ]
      },
      {
       "output_type": "stream",
       "stream": "stdout",
       "text": [
        "\r",
        "extracting kp from img  49/100"
       ]
      },
      {
       "output_type": "stream",
       "stream": "stdout",
       "text": [
        "\r",
        "extracting kp from img  50/100"
       ]
      },
      {
       "output_type": "stream",
       "stream": "stdout",
       "text": [
        "\r",
        "extracting kp from img  51/100"
       ]
      },
      {
       "output_type": "stream",
       "stream": "stdout",
       "text": [
        "\r",
        "extracting kp from img  52/100"
       ]
      },
      {
       "output_type": "stream",
       "stream": "stdout",
       "text": [
        "\r",
        "extracting kp from img  53/100"
       ]
      },
      {
       "output_type": "stream",
       "stream": "stdout",
       "text": [
        "\r",
        "extracting kp from img  54/100"
       ]
      },
      {
       "output_type": "stream",
       "stream": "stdout",
       "text": [
        "\r",
        "extracting kp from img  55/100"
       ]
      },
      {
       "output_type": "stream",
       "stream": "stdout",
       "text": [
        "\r",
        "extracting kp from img  56/100"
       ]
      },
      {
       "output_type": "stream",
       "stream": "stdout",
       "text": [
        "\r",
        "extracting kp from img  57/100"
       ]
      },
      {
       "output_type": "stream",
       "stream": "stdout",
       "text": [
        "\r",
        "extracting kp from img  58/100"
       ]
      },
      {
       "output_type": "stream",
       "stream": "stdout",
       "text": [
        "\r",
        "extracting kp from img  59/100"
       ]
      },
      {
       "output_type": "stream",
       "stream": "stdout",
       "text": [
        "\r",
        "extracting kp from img  60/100"
       ]
      },
      {
       "output_type": "stream",
       "stream": "stdout",
       "text": [
        "\r",
        "extracting kp from img  61/100"
       ]
      },
      {
       "output_type": "stream",
       "stream": "stdout",
       "text": [
        "\r",
        "extracting kp from img  62/100"
       ]
      },
      {
       "output_type": "stream",
       "stream": "stdout",
       "text": [
        "\r",
        "extracting kp from img  63/100"
       ]
      },
      {
       "output_type": "stream",
       "stream": "stdout",
       "text": [
        "\r",
        "extracting kp from img  64/100"
       ]
      },
      {
       "output_type": "stream",
       "stream": "stdout",
       "text": [
        "\r",
        "extracting kp from img  65/100"
       ]
      },
      {
       "output_type": "stream",
       "stream": "stdout",
       "text": [
        "\r",
        "extracting kp from img  66/100"
       ]
      },
      {
       "output_type": "stream",
       "stream": "stdout",
       "text": [
        "\r",
        "extracting kp from img  67/100"
       ]
      },
      {
       "output_type": "stream",
       "stream": "stdout",
       "text": [
        "\r",
        "extracting kp from img  68/100"
       ]
      },
      {
       "output_type": "stream",
       "stream": "stdout",
       "text": [
        "\r",
        "extracting kp from img  69/100"
       ]
      },
      {
       "output_type": "stream",
       "stream": "stdout",
       "text": [
        "\r",
        "extracting kp from img  70/100"
       ]
      },
      {
       "output_type": "stream",
       "stream": "stdout",
       "text": [
        "\r",
        "extracting kp from img  71/100"
       ]
      },
      {
       "output_type": "stream",
       "stream": "stdout",
       "text": [
        "\r",
        "extracting kp from img  72/100"
       ]
      },
      {
       "output_type": "stream",
       "stream": "stdout",
       "text": [
        "\r",
        "extracting kp from img  73/100"
       ]
      },
      {
       "output_type": "stream",
       "stream": "stdout",
       "text": [
        "\r",
        "extracting kp from img  74/100"
       ]
      },
      {
       "output_type": "stream",
       "stream": "stdout",
       "text": [
        "\r",
        "extracting kp from img  75/100"
       ]
      },
      {
       "output_type": "stream",
       "stream": "stdout",
       "text": [
        "\r",
        "extracting kp from img  76/100"
       ]
      },
      {
       "output_type": "stream",
       "stream": "stdout",
       "text": [
        "\r",
        "extracting kp from img  77/100"
       ]
      },
      {
       "output_type": "stream",
       "stream": "stdout",
       "text": [
        "\r",
        "extracting kp from img  78/100"
       ]
      },
      {
       "output_type": "stream",
       "stream": "stdout",
       "text": [
        "\r",
        "extracting kp from img  79/100"
       ]
      },
      {
       "output_type": "stream",
       "stream": "stdout",
       "text": [
        "\r",
        "extracting kp from img  80/100"
       ]
      },
      {
       "output_type": "stream",
       "stream": "stdout",
       "text": [
        "\r",
        "extracting kp from img  81/100"
       ]
      },
      {
       "output_type": "stream",
       "stream": "stdout",
       "text": [
        "\r",
        "extracting kp from img  82/100"
       ]
      },
      {
       "output_type": "stream",
       "stream": "stdout",
       "text": [
        "\r",
        "extracting kp from img  83/100"
       ]
      },
      {
       "output_type": "stream",
       "stream": "stdout",
       "text": [
        "\r",
        "extracting kp from img  84/100"
       ]
      },
      {
       "output_type": "stream",
       "stream": "stdout",
       "text": [
        "\r",
        "extracting kp from img  85/100"
       ]
      },
      {
       "output_type": "stream",
       "stream": "stdout",
       "text": [
        "\r",
        "extracting kp from img  86/100"
       ]
      },
      {
       "output_type": "stream",
       "stream": "stdout",
       "text": [
        "\r",
        "extracting kp from img  87/100"
       ]
      },
      {
       "output_type": "stream",
       "stream": "stdout",
       "text": [
        "\r",
        "extracting kp from img  88/100"
       ]
      },
      {
       "output_type": "stream",
       "stream": "stdout",
       "text": [
        "\r",
        "extracting kp from img  89/100"
       ]
      },
      {
       "output_type": "stream",
       "stream": "stdout",
       "text": [
        "\r",
        "extracting kp from img  90/100"
       ]
      },
      {
       "output_type": "stream",
       "stream": "stdout",
       "text": [
        "\r",
        "extracting kp from img  91/100"
       ]
      },
      {
       "output_type": "stream",
       "stream": "stdout",
       "text": [
        "\r",
        "extracting kp from img  92/100"
       ]
      },
      {
       "output_type": "stream",
       "stream": "stdout",
       "text": [
        "\r",
        "extracting kp from img  93/100"
       ]
      },
      {
       "output_type": "stream",
       "stream": "stdout",
       "text": [
        "\r",
        "extracting kp from img  94/100"
       ]
      },
      {
       "output_type": "stream",
       "stream": "stdout",
       "text": [
        "\r",
        "extracting kp from img  95/100"
       ]
      },
      {
       "output_type": "stream",
       "stream": "stdout",
       "text": [
        "\r",
        "extracting kp from img  96/100"
       ]
      },
      {
       "output_type": "stream",
       "stream": "stdout",
       "text": [
        "\r",
        "extracting kp from img  97/100"
       ]
      },
      {
       "output_type": "stream",
       "stream": "stdout",
       "text": [
        "\r",
        "extracting kp from img  98/100"
       ]
      },
      {
       "output_type": "stream",
       "stream": "stdout",
       "text": [
        "\r",
        "extracting kp from img  99/100"
       ]
      },
      {
       "output_type": "stream",
       "stream": "stdout",
       "text": [
        "\r",
        "extracting kp from img 100/100"
       ]
      },
      {
       "output_type": "stream",
       "stream": "stdout",
       "text": [
        " no average\n",
        "(100, 943)\n",
        "(943,)\n"
       ]
      }
     ],
     "prompt_number": 4
    },
    {
     "cell_type": "code",
     "collapsed": false,
     "input": [
      "b = pysco.kpo('./kerphi/'+pupil+'.pick')\n",
      "b.name = 'Palomar - ' + tnames[1]\n",
      "if no_kp:\n",
      "    b.kpi.KerPhi = np.eye(b.kpi.nbuv)  # for speckle!\n",
      "    b.kpi.nkphi = b.kpi.nbuv  # for speckle!\n",
      "\n",
      "b.extract_kpd(ddir + fnames[1],sg_ld = 4.5,re_center=True,D=5.093,unwrap_kp=False,adjust_sampling=True,bsp=bispec)\n"
     ],
     "language": "python",
     "metadata": {},
     "outputs": [
      {
       "output_type": "stream",
       "stream": "stdout",
       "text": [
        "File ./kerphi/medcrossmodel.pick contains kpi information only\n",
        "Bsp data was not loaded\n",
        "Vis2 data was not loaded\n",
        "1 frames will be open\n",
        "\r",
        "extracting kp from img   1/100"
       ]
      },
      {
       "output_type": "stream",
       "stream": "stdout",
       "text": [
        "\r",
        "extracting kp from img   2/100"
       ]
      },
      {
       "output_type": "stream",
       "stream": "stdout",
       "text": [
        "\r",
        "extracting kp from img   3/100"
       ]
      },
      {
       "output_type": "stream",
       "stream": "stdout",
       "text": [
        "\r",
        "extracting kp from img   4/100"
       ]
      },
      {
       "output_type": "stream",
       "stream": "stdout",
       "text": [
        "\r",
        "extracting kp from img   5/100"
       ]
      },
      {
       "output_type": "stream",
       "stream": "stdout",
       "text": [
        "\r",
        "extracting kp from img   6/100"
       ]
      },
      {
       "output_type": "stream",
       "stream": "stdout",
       "text": [
        "\r",
        "extracting kp from img   7/100"
       ]
      },
      {
       "output_type": "stream",
       "stream": "stdout",
       "text": [
        "\r",
        "extracting kp from img   8/100"
       ]
      },
      {
       "output_type": "stream",
       "stream": "stdout",
       "text": [
        "\r",
        "extracting kp from img   9/100"
       ]
      },
      {
       "output_type": "stream",
       "stream": "stdout",
       "text": [
        "\r",
        "extracting kp from img  10/100"
       ]
      },
      {
       "output_type": "stream",
       "stream": "stdout",
       "text": [
        "\r",
        "extracting kp from img  11/100"
       ]
      },
      {
       "output_type": "stream",
       "stream": "stdout",
       "text": [
        "\r",
        "extracting kp from img  12/100"
       ]
      },
      {
       "output_type": "stream",
       "stream": "stdout",
       "text": [
        "\r",
        "extracting kp from img  13/100"
       ]
      },
      {
       "output_type": "stream",
       "stream": "stdout",
       "text": [
        "\r",
        "extracting kp from img  14/100"
       ]
      },
      {
       "output_type": "stream",
       "stream": "stdout",
       "text": [
        "\r",
        "extracting kp from img  15/100"
       ]
      },
      {
       "output_type": "stream",
       "stream": "stdout",
       "text": [
        "\r",
        "extracting kp from img  16/100"
       ]
      },
      {
       "output_type": "stream",
       "stream": "stdout",
       "text": [
        "\r",
        "extracting kp from img  17/100"
       ]
      },
      {
       "output_type": "stream",
       "stream": "stdout",
       "text": [
        "\r",
        "extracting kp from img  18/100"
       ]
      },
      {
       "output_type": "stream",
       "stream": "stdout",
       "text": [
        "\r",
        "extracting kp from img  19/100"
       ]
      },
      {
       "output_type": "stream",
       "stream": "stdout",
       "text": [
        "\r",
        "extracting kp from img  20/100"
       ]
      },
      {
       "output_type": "stream",
       "stream": "stdout",
       "text": [
        "\r",
        "extracting kp from img  21/100"
       ]
      },
      {
       "output_type": "stream",
       "stream": "stdout",
       "text": [
        "\r",
        "extracting kp from img  22/100"
       ]
      },
      {
       "output_type": "stream",
       "stream": "stdout",
       "text": [
        "\r",
        "extracting kp from img  23/100"
       ]
      },
      {
       "output_type": "stream",
       "stream": "stdout",
       "text": [
        "\r",
        "extracting kp from img  24/100"
       ]
      },
      {
       "output_type": "stream",
       "stream": "stdout",
       "text": [
        "\r",
        "extracting kp from img  25/100"
       ]
      },
      {
       "output_type": "stream",
       "stream": "stdout",
       "text": [
        "\r",
        "extracting kp from img  26/100"
       ]
      },
      {
       "output_type": "stream",
       "stream": "stdout",
       "text": [
        "\r",
        "extracting kp from img  27/100"
       ]
      },
      {
       "output_type": "stream",
       "stream": "stdout",
       "text": [
        "\r",
        "extracting kp from img  28/100"
       ]
      },
      {
       "output_type": "stream",
       "stream": "stdout",
       "text": [
        "\r",
        "extracting kp from img  29/100"
       ]
      },
      {
       "output_type": "stream",
       "stream": "stdout",
       "text": [
        "\r",
        "extracting kp from img  30/100"
       ]
      },
      {
       "output_type": "stream",
       "stream": "stdout",
       "text": [
        "\r",
        "extracting kp from img  31/100"
       ]
      },
      {
       "output_type": "stream",
       "stream": "stdout",
       "text": [
        "\r",
        "extracting kp from img  32/100"
       ]
      },
      {
       "output_type": "stream",
       "stream": "stdout",
       "text": [
        "\r",
        "extracting kp from img  33/100"
       ]
      },
      {
       "output_type": "stream",
       "stream": "stdout",
       "text": [
        "\r",
        "extracting kp from img  34/100"
       ]
      },
      {
       "output_type": "stream",
       "stream": "stdout",
       "text": [
        "\r",
        "extracting kp from img  35/100"
       ]
      },
      {
       "output_type": "stream",
       "stream": "stdout",
       "text": [
        "\r",
        "extracting kp from img  36/100"
       ]
      },
      {
       "output_type": "stream",
       "stream": "stdout",
       "text": [
        "\r",
        "extracting kp from img  37/100"
       ]
      },
      {
       "output_type": "stream",
       "stream": "stdout",
       "text": [
        "\r",
        "extracting kp from img  38/100"
       ]
      },
      {
       "output_type": "stream",
       "stream": "stdout",
       "text": [
        "\r",
        "extracting kp from img  39/100"
       ]
      },
      {
       "output_type": "stream",
       "stream": "stdout",
       "text": [
        "\r",
        "extracting kp from img  40/100"
       ]
      },
      {
       "output_type": "stream",
       "stream": "stdout",
       "text": [
        "\r",
        "extracting kp from img  41/100"
       ]
      },
      {
       "output_type": "stream",
       "stream": "stdout",
       "text": [
        "\r",
        "extracting kp from img  42/100"
       ]
      },
      {
       "output_type": "stream",
       "stream": "stdout",
       "text": [
        "\r",
        "extracting kp from img  43/100"
       ]
      },
      {
       "output_type": "stream",
       "stream": "stdout",
       "text": [
        "\r",
        "extracting kp from img  44/100"
       ]
      },
      {
       "output_type": "stream",
       "stream": "stdout",
       "text": [
        "\r",
        "extracting kp from img  45/100"
       ]
      },
      {
       "output_type": "stream",
       "stream": "stdout",
       "text": [
        "\r",
        "extracting kp from img  46/100"
       ]
      },
      {
       "output_type": "stream",
       "stream": "stdout",
       "text": [
        "\r",
        "extracting kp from img  47/100"
       ]
      },
      {
       "output_type": "stream",
       "stream": "stdout",
       "text": [
        "\r",
        "extracting kp from img  48/100"
       ]
      },
      {
       "output_type": "stream",
       "stream": "stdout",
       "text": [
        "\r",
        "extracting kp from img  49/100"
       ]
      },
      {
       "output_type": "stream",
       "stream": "stdout",
       "text": [
        "\r",
        "extracting kp from img  50/100"
       ]
      },
      {
       "output_type": "stream",
       "stream": "stdout",
       "text": [
        "\r",
        "extracting kp from img  51/100"
       ]
      },
      {
       "output_type": "stream",
       "stream": "stdout",
       "text": [
        "\r",
        "extracting kp from img  52/100"
       ]
      },
      {
       "output_type": "stream",
       "stream": "stdout",
       "text": [
        "\r",
        "extracting kp from img  53/100"
       ]
      },
      {
       "output_type": "stream",
       "stream": "stdout",
       "text": [
        "\r",
        "extracting kp from img  54/100"
       ]
      },
      {
       "output_type": "stream",
       "stream": "stdout",
       "text": [
        "\r",
        "extracting kp from img  55/100"
       ]
      },
      {
       "output_type": "stream",
       "stream": "stdout",
       "text": [
        "\r",
        "extracting kp from img  56/100"
       ]
      },
      {
       "output_type": "stream",
       "stream": "stdout",
       "text": [
        "\r",
        "extracting kp from img  57/100"
       ]
      },
      {
       "output_type": "stream",
       "stream": "stdout",
       "text": [
        "\r",
        "extracting kp from img  58/100"
       ]
      },
      {
       "output_type": "stream",
       "stream": "stdout",
       "text": [
        "\r",
        "extracting kp from img  59/100"
       ]
      },
      {
       "output_type": "stream",
       "stream": "stdout",
       "text": [
        "\r",
        "extracting kp from img  60/100"
       ]
      },
      {
       "output_type": "stream",
       "stream": "stdout",
       "text": [
        "\r",
        "extracting kp from img  61/100"
       ]
      },
      {
       "output_type": "stream",
       "stream": "stdout",
       "text": [
        "\r",
        "extracting kp from img  62/100"
       ]
      },
      {
       "output_type": "stream",
       "stream": "stdout",
       "text": [
        "\r",
        "extracting kp from img  63/100"
       ]
      },
      {
       "output_type": "stream",
       "stream": "stdout",
       "text": [
        "\r",
        "extracting kp from img  64/100"
       ]
      },
      {
       "output_type": "stream",
       "stream": "stdout",
       "text": [
        "\r",
        "extracting kp from img  65/100"
       ]
      },
      {
       "output_type": "stream",
       "stream": "stdout",
       "text": [
        "\r",
        "extracting kp from img  66/100"
       ]
      },
      {
       "output_type": "stream",
       "stream": "stdout",
       "text": [
        "\r",
        "extracting kp from img  67/100"
       ]
      },
      {
       "output_type": "stream",
       "stream": "stdout",
       "text": [
        "\r",
        "extracting kp from img  68/100"
       ]
      },
      {
       "output_type": "stream",
       "stream": "stdout",
       "text": [
        "\r",
        "extracting kp from img  69/100"
       ]
      },
      {
       "output_type": "stream",
       "stream": "stdout",
       "text": [
        "\r",
        "extracting kp from img  70/100"
       ]
      },
      {
       "output_type": "stream",
       "stream": "stdout",
       "text": [
        "\r",
        "extracting kp from img  71/100"
       ]
      },
      {
       "output_type": "stream",
       "stream": "stdout",
       "text": [
        "\r",
        "extracting kp from img  72/100"
       ]
      },
      {
       "output_type": "stream",
       "stream": "stdout",
       "text": [
        "\r",
        "extracting kp from img  73/100"
       ]
      },
      {
       "output_type": "stream",
       "stream": "stdout",
       "text": [
        "\r",
        "extracting kp from img  74/100"
       ]
      },
      {
       "output_type": "stream",
       "stream": "stdout",
       "text": [
        "\r",
        "extracting kp from img  75/100"
       ]
      },
      {
       "output_type": "stream",
       "stream": "stdout",
       "text": [
        "\r",
        "extracting kp from img  76/100"
       ]
      },
      {
       "output_type": "stream",
       "stream": "stdout",
       "text": [
        "\r",
        "extracting kp from img  77/100"
       ]
      },
      {
       "output_type": "stream",
       "stream": "stdout",
       "text": [
        "\r",
        "extracting kp from img  78/100"
       ]
      },
      {
       "output_type": "stream",
       "stream": "stdout",
       "text": [
        "\r",
        "extracting kp from img  79/100"
       ]
      },
      {
       "output_type": "stream",
       "stream": "stdout",
       "text": [
        "\r",
        "extracting kp from img  80/100"
       ]
      },
      {
       "output_type": "stream",
       "stream": "stdout",
       "text": [
        "\r",
        "extracting kp from img  81/100"
       ]
      },
      {
       "output_type": "stream",
       "stream": "stdout",
       "text": [
        "\r",
        "extracting kp from img  82/100"
       ]
      },
      {
       "output_type": "stream",
       "stream": "stdout",
       "text": [
        "\r",
        "extracting kp from img  83/100"
       ]
      },
      {
       "output_type": "stream",
       "stream": "stdout",
       "text": [
        "\r",
        "extracting kp from img  84/100"
       ]
      },
      {
       "output_type": "stream",
       "stream": "stdout",
       "text": [
        "\r",
        "extracting kp from img  85/100"
       ]
      },
      {
       "output_type": "stream",
       "stream": "stdout",
       "text": [
        "\r",
        "extracting kp from img  86/100"
       ]
      },
      {
       "output_type": "stream",
       "stream": "stdout",
       "text": [
        "\r",
        "extracting kp from img  87/100"
       ]
      },
      {
       "output_type": "stream",
       "stream": "stdout",
       "text": [
        "\r",
        "extracting kp from img  88/100"
       ]
      },
      {
       "output_type": "stream",
       "stream": "stdout",
       "text": [
        "\r",
        "extracting kp from img  89/100"
       ]
      },
      {
       "output_type": "stream",
       "stream": "stdout",
       "text": [
        "\r",
        "extracting kp from img  90/100"
       ]
      },
      {
       "output_type": "stream",
       "stream": "stdout",
       "text": [
        "\r",
        "extracting kp from img  91/100"
       ]
      },
      {
       "output_type": "stream",
       "stream": "stdout",
       "text": [
        "\r",
        "extracting kp from img  92/100"
       ]
      },
      {
       "output_type": "stream",
       "stream": "stdout",
       "text": [
        "\r",
        "extracting kp from img  93/100"
       ]
      },
      {
       "output_type": "stream",
       "stream": "stdout",
       "text": [
        "\r",
        "extracting kp from img  94/100"
       ]
      },
      {
       "output_type": "stream",
       "stream": "stdout",
       "text": [
        "\r",
        "extracting kp from img  95/100"
       ]
      },
      {
       "output_type": "stream",
       "stream": "stdout",
       "text": [
        "\r",
        "extracting kp from img  96/100"
       ]
      },
      {
       "output_type": "stream",
       "stream": "stdout",
       "text": [
        "\r",
        "extracting kp from img  97/100"
       ]
      },
      {
       "output_type": "stream",
       "stream": "stdout",
       "text": [
        "\r",
        "extracting kp from img  98/100"
       ]
      },
      {
       "output_type": "stream",
       "stream": "stdout",
       "text": [
        "\r",
        "extracting kp from img  99/100"
       ]
      },
      {
       "output_type": "stream",
       "stream": "stdout",
       "text": [
        "\r",
        "extracting kp from img 100/100"
       ]
      },
      {
       "output_type": "stream",
       "stream": "stdout",
       "text": [
        " no average\n"
       ]
      }
     ],
     "prompt_number": 5
    },
    {
     "cell_type": "code",
     "collapsed": true,
     "input": [
      "# some of the recentering seems to fail - only sometimes - on Palomar data and I can't work out why, so here are \n",
      "# some quick and easy tricks to get rid of bad kernel phases. \n",
      "# I have commented out lines that do this. Don't need to run this if it all looks ok! \n",
      "\n",
      "# newkpds = np.zeros(a.kpd.shape[1])\n",
      "# newkpes = np.zeros(a.kpd.shape[1])\n",
      "# for j in range(a.kpd.shape[1]):\n",
      "# \tnewsignal = pysco.clip_signal(a.kpd[:,j],threshold=2.0)\n",
      "# \tnewkpds[j],newkpes[j] = np.mean(newsignal),np.std(newsignal)/np.sqrt(np.size(newsignal))\n",
      "\n",
      "# a.kpd,a.kpe = newkpds,newkpes\n",
      "\n",
      "a.kpe = np.std(a.kpd,axis=0)/np.sqrt(a.kpd.shape[0])\n",
      "\n",
      "# b.kpe = np.std(a.kpd,axis=0)\n",
      "# b.kpd = np.mean(a.kpd,axis=0)\n",
      "\n",
      "# newkpds = np.zeros(b.kpd.shape[1])\n",
      "# newkpes = np.zeros(b.kpd.shape[1])\n",
      "# for j in range(b.kpd.shape[1]):\n",
      "# \tnewsignal = pysco.clip_signal(b.kpd[:,j],threshold=2.0)\n",
      "# \tnewkpds[j],newkpes[j] = np.mean(newsignal),np.std(newsignal)/np.sqrt(np.size(newsignal))\n",
      "\n",
      "# b.kpd,b.kpe = newkpds,newkpes\n",
      "\n",
      "b.kpe = np.std(b.kpd,axis=0)/np.sqrt(b.kpd.shape[0])\n",
      "\n",
      "# if it takes a lot of iterations this might be a bad sign and it will warn you\n",
      "# - you might want to turn off clipping! instead a.kpd = np.mean(a.kpd), a.kpe = np.std(a.kpd)/np.sqrt(nframes)\n",
      "\n",
      "if num == 0:\n",
      "    a.kpd = np.mean(a.kpd,axis=0)\n",
      "    a.nsets = 1\n",
      "    a.hdr = a.hdr[0]\n",
      "\n",
      "    b.kpd = np.mean(b.kpd,axis=0)\n",
      "    b.nsets = 1\n",
      "    b.hdr = b.hdr[0]"
     ],
     "language": "python",
     "metadata": {},
     "outputs": [],
     "prompt_number": 6
    },
    {
     "cell_type": "code",
     "collapsed": false,
     "input": [
      "if bispec:\n",
      "    print 'Doing Bispectrum!'\n",
      "#     a.bspe = np.std(a.bsp,axis=0)/np.sqrt(a.bsp.shape[0])\n",
      "\n",
      "    # b.kpe = np.std(a.kpd,axis=0)\n",
      "    # b.kpd = np.mean(a.kpd,axis=0)\n",
      "\n",
      "    # newkpds = np.zeros(b.kpd.shape[1])\n",
      "    # newkpes = np.zeros(b.kpd.shape[1])\n",
      "    # for j in range(b.kpd.shape[1]):\n",
      "    # \tnewsignal = pysco.clip_signal(b.kpd[:,j],threshold=2.0)\n",
      "    # \tnewkpds[j],newkpes[j] = np.mean(newsignal),np.std(newsignal)/np.sqrt(np.size(newsignal))\n",
      "\n",
      "    # b.kpd,b.kpe = newkpds,newkpes\n",
      "\n",
      "#     b.bspe = np.std(b.bsp,axis=0)/np.sqrt(b.bsp.shape[0])\n",
      "\n",
      "    # if it takes a lot of iterations this might be a bad sign and it will warn you\n",
      "    # - you might want to turn off clipping! instead a.kpd = np.mean(a.kpd), a.kpe = np.std(a.kpd)/np.sqrt(nframes)\n",
      "\n",
      "    if num == 0:\n",
      "        a.bsp = np.mean(a.bsp,axis=0)\n",
      "        a.nsets = 1\n",
      "\n",
      "        b.bsp = np.mean(b.bsp,axis=0)\n",
      "        b.nsets = 1\n"
     ],
     "language": "python",
     "metadata": {},
     "outputs": [
      {
       "output_type": "stream",
       "stream": "stdout",
       "text": [
        "Doing Bispectrum!\n"
       ]
      }
     ],
     "prompt_number": 7
    },
    {
     "cell_type": "code",
     "collapsed": false,
     "input": [
      "#calibrate - this is a crude way to do things, but as we discuss in the paper, the systematics are bad enough \n",
      "# that it is unlikely that a clever Bayesian way of doing things would be much better\n",
      "if num == 0:\n",
      "    if no_kp:\n",
      "        addederror = 8.5\n",
      "    else:\n",
      "        addederror = 1.05\n",
      "\n",
      "    a.kpd -= b.kpd #subtract systematic\n",
      "    a.kpe = np.sqrt(a.kpe**2. + b.kpe**2.+ addederror**2.) #add statistical and measurement in quadrature\n",
      "    if bispec:\n",
      "        print 'Calibrating Bispectrum'\n",
      "        bsp_addederror = 4.5\n",
      "        a.bsp -= b.bsp\n",
      "        a.bspe = np.sqrt(a.bspe**2. + b.bspe**2. * bsp_addederror**2)\n",
      "else:\n",
      "    addederror = 10.0\n",
      "    print 'no systematic subtraction'\n",
      "    a.kpe = np.sqrt(a.kpe**2. + addederror**2.) #add statistical and measurement in quadrature\n",
      "    print addederror\n",
      "\n",
      "\n",
      "# you may want to add an error term in quadrature - see the note later! We can cheat and tell you that 1. should do the job,\n",
      "# but try 0 if you want to see how well it does without it\n"
     ],
     "language": "python",
     "metadata": {},
     "outputs": [
      {
       "output_type": "stream",
       "stream": "stdout",
       "text": [
        "Calibrating Bispectrum\n"
       ]
      }
     ],
     "prompt_number": 8
    },
    {
     "cell_type": "markdown",
     "metadata": {},
     "source": [
      "In the following two cells we have two different ways of fitting a model to these data - one uses MultiNest and one uses emcee.\n",
      "\n",
      "MultiNest is available at http://ccpforge.cse.rl.ac.uk/gf/project/multinest/, and is accessed through Johannes Buchner's PyMultiNest Python wrapper available at http://johannesbuchner.github.io/PyMultiNest/ . These can be difficult to install, especially on some operating systems, and we do not use these results in the final paper, as we explore the posterior pdf more fully with emcee.\n",
      "\n",
      "emcee, the 'MCMC Hammer', is available from http://dan.iel.fm/emcee/current/ and is the main sampler used in the paper as submitted. We recommend initializing this and using its default values, as this will give the same results as we report in the paper. "
     ]
    },
    {
     "cell_type": "code",
     "collapsed": false,
     "input": [
      "# # MultiNest Option \n",
      "paramlimits = [50.,200.,0.,360.,5,50]\n",
      "\n",
      "results = pysco.nest(b,paramlimits=paramlimits,bispec=bispec)\n",
      "\n",
      "params = [results[0]['median'],results[1]['median'],results[2]['median']]\n",
      "\n",
      "print 'Sep %.3f mas  Position angle %.3f deg  Contrast %.3f' % (params[0], params[1], params[2])  "
     ],
     "language": "python",
     "metadata": {},
     "outputs": [
      {
       "output_type": "stream",
       "stream": "stdout",
       "text": [
        "  analysing data from chains/1-.txt\n",
        "Time elapsed = 54.9368810654 s\n",
        "\n",
        "------------------------------ ANALYSIS ------------------------------\n",
        "Global Evidence:\n",
        "\t-3.321377865219644e+04 +- 1.402970871611040e-01\n",
        "Separation: 157.632 pm 0.10\n",
        "Position angle: 357.239 pm 0.04\n",
        "Contrast at 2.145 um: 6.814 pm 0.020\n",
        "Sep 157.632 mas  Position angle 357.239 deg  Contrast 6.814\n"
       ]
      }
     ]
    },
    {
     "cell_type": "code",
     "collapsed": false,
     "input": [
      "flatchain = pysco.hammer(a,ivar = [131.23, 83, 20.59], burnin=200, nsteps=1000, paramlimits=[40,250,0,360,5,50.],\n",
      "                         bispec=bispec) \n",
      "# Parameters as determined by aperture masking: [131.23, 82.84, 27.59]\n",
      "\n",
      "seps = flatchain[:,0]\n",
      "ths = flatchain[:,1]\n",
      "cons = flatchain[:,2]\n",
      "\n",
      "sep = np.mean(seps)\n",
      "\n",
      "th = np.mean(ths) # remember on Palomar the position angle goes the other way - so check this is not 360 - your answer!\n",
      "\n",
      "con = np.mean(cons)\n",
      "\n",
      "print 'Sep %.3f mas  Position angle %.2f deg  Contrast %.3f' % (sep, th, con)  \n",
      "params = [sep,th,con]\n"
     ],
     "language": "python",
     "metadata": {},
     "outputs": [
      {
       "output_type": "stream",
       "stream": "stdout",
       "text": [
        "Running emcee now!\n",
        "Burnt in! Took 14.464 seconds"
       ]
      }
     ]
    },
    {
     "cell_type": "code",
     "collapsed": false,
     "input": [
      "# now plot your results! requires emcee output \n",
      "# if you have outliers you may have to fiddle with the extents \n",
      "\n",
      "fig = triangle.corner(flatchain, labels=[\"Separation (mas)\", \"Position Angle (deg)\", \"Contrast\"])#, extents = [0.92,0.92,0.92])\n",
      "plt.show()\n",
      "plt.savefig('./posterior.png')"
     ],
     "language": "python",
     "metadata": {},
     "outputs": []
    },
    {
     "cell_type": "code",
     "collapsed": false,
     "input": [
      "params = [sep,th,con]\n",
      "# params = [131.23,83, 19.59]\n",
      "d = pysco.binary_model(params,a.kpi,a.hdr,bispec=bispec)\n",
      "\n",
      "plt.clf()\n",
      "if bispec:\n",
      "    plt.errorbar(d[np.abs(a.bsp)<50],a.bsp[np.abs(a.bsp)<50],yerr=a.bspe[np.abs(a.bsp)<50],fmt='b.')\n",
      "    mm = np.round(np.max(np.abs(a.bsp)))\n",
      "    mm = 42\n",
      "    plt.axis([-mm,mm,-mm,mm],fontsize='large')\n",
      "else:\n",
      "    mm = np.round(np.max(np.abs(a.kpd)))\n",
      "    plt.errorbar(d,a.kpd,yerr=a.kpe,fmt='b.')\n",
      "    plt.axis('tight',fontsize='large')\n",
      "plt.plot([-mm,mm],[-mm,mm], 'g')\n",
      "\n",
      "\n",
      "if bispec:\n",
      "    plt.xlabel('Model Bispectral Phases',fontsize='large')\n",
      "    plt.ylabel('Bispectral Phase Signal', fontsize='large')\n",
      "    plt.title('Bispectrum Correlation Diagram',\n",
      "          fontsize='large') \n",
      "elif no_kp:\n",
      "    plt.xlabel('Model Phases',fontsize='large')\n",
      "    plt.ylabel('Raw Phase Signal', fontsize='large')\n",
      "    plt.title('Raw Phase Correlation Diagram',\n",
      "          fontsize='large')\n",
      "else:\n",
      "    plt.xlabel('Model Kernel Phases',fontsize='large')\n",
      "    plt.ylabel('Kernel Phase Signal', fontsize='large')\n",
      "    plt.title('Kernel Phase Correlation Diagram',\n",
      "\t\t  fontsize='large')\n",
      "plt.draw()\n",
      "plt.show()\n",
      "plt.savefig('./correlation_Ks.png')\n"
     ],
     "language": "python",
     "metadata": {},
     "outputs": []
    },
    {
     "cell_type": "markdown",
     "metadata": {},
     "source": [
      "There is a problem in the above! As you'll notice if you don't include an error term added in quadrature, it's got enormously more scatter than the error bars suggest. This is because the error bars are probably way too small - they are derived from scatter in the observations, whereas we know that due to saturation, a ghost (!) and poor AO performance they are likely to suffer from a systematic offset as well.\n",
      "\n",
      "As a result, we will recalculate all of the above, adding a second error term in quadrature to get a chi2 of 1 and redoing the MCMC.\n",
      "\n",
      "To help you out, as we note above, we found that the best error to do this is 1 degree, but feel free to play with this."
     ]
    },
    {
     "cell_type": "code",
     "collapsed": false,
     "input": [
      "if bispec:\n",
      "    chi2 = np.sum(((a.bsp -d)/a.bspe)**2.)\n",
      "else:\n",
      "    chi2 = np.sum(((a.bsp -d)/a.kpe)**2.)\n",
      "\n",
      "print 'Reduced chi2 = %03f'%(chi2/(a.kpi.nkphi-4.))"
     ],
     "language": "python",
     "metadata": {},
     "outputs": []
    },
    {
     "cell_type": "heading",
     "level": 2,
     "metadata": {},
     "source": [
      "Thank you for taking the time to read this! I hope this was enlightening and maybe you can even use some of this in your own research.\n",
      "\n",
      "Cheers,\n",
      "\n",
      "Ben"
     ]
    },
    {
     "cell_type": "code",
     "collapsed": false,
     "input": [
      "'''------------------------------------------------\n",
      "Write out a cleaned stacked cube\n",
      "------------------------------------------------'''\n",
      "\n",
      "#read it in - using the pysco routine so as to get the centering correct\n",
      "\n",
      "cube,hdr = pysco.load_cube(ddir+fnames[0])\n",
      "\n",
      "#stack centred images\n",
      "stacked_cube = np.sum(cube,axis = 0)\n",
      "\n",
      "#now save as a .fits file\n",
      "try:\n",
      "    f = fitsio.FITS('./stacked_cube_%s_%s.fits'%(tnames[0],bandn),'rw')\n",
      "    f.write(stacked_cube,hdr=hdr)\n",
      "    f.close()\n",
      "    print 'Written as ./stacked_cube_%s_%s.fits'%(tnames[0],bandn)\n",
      "except:\n",
      "    print 'Failed to write'\n",
      "\n",
      "#do calibrator\n",
      "calcube,calhdr = pysco.load_cube(ddir+fnames[1])\n",
      "\n",
      "#stack centred images\n",
      "stacked_cube_cal = np.sum(calcube,axis = 0)\n",
      "\n",
      "#now save as a .fits file\n",
      "try:\n",
      "    f = fitsio.FITS('./stacked_cube_%s_%s_cal.fits'%(tnames[1],bandn),'rw')\n",
      "    f.write(stacked_cube_cal,hdr=hdr)\n",
      "    f.close()\n",
      "    print 'Written as ./stacked_cube_%s_%s_cal.fits'%(tnames[1],bandn)\n",
      "except:\n",
      "    print 'Failed to write'"
     ],
     "language": "python",
     "metadata": {},
     "outputs": [
      {
       "ename": "KeyError",
       "evalue": "\"Keyword 'NAXIS3' not found.\"",
       "output_type": "pyerr",
       "traceback": [
        "\u001b[1;31m---------------------------------------------------------------------------\u001b[0m\n\u001b[1;31mKeyError\u001b[0m                                  Traceback (most recent call last)",
        "\u001b[1;32m<ipython-input-13-102a36e7ea3e>\u001b[0m in \u001b[0;36m<module>\u001b[1;34m()\u001b[0m\n\u001b[0;32m      5\u001b[0m \u001b[1;31m#read it in - using the pysco routine so as to get the centering correct\u001b[0m\u001b[1;33m\u001b[0m\u001b[1;33m\u001b[0m\u001b[0m\n\u001b[0;32m      6\u001b[0m \u001b[1;33m\u001b[0m\u001b[0m\n\u001b[1;32m----> 7\u001b[1;33m \u001b[0mcube\u001b[0m\u001b[1;33m,\u001b[0m\u001b[0mhdr\u001b[0m \u001b[1;33m=\u001b[0m \u001b[0mpysco\u001b[0m\u001b[1;33m.\u001b[0m\u001b[0mload_cube\u001b[0m\u001b[1;33m(\u001b[0m\u001b[0mddir\u001b[0m\u001b[1;33m+\u001b[0m\u001b[0mfnames\u001b[0m\u001b[1;33m[\u001b[0m\u001b[1;36m0\u001b[0m\u001b[1;33m]\u001b[0m\u001b[1;33m)\u001b[0m\u001b[1;33m\u001b[0m\u001b[0m\n\u001b[0m\u001b[0;32m      8\u001b[0m \u001b[1;33m\u001b[0m\u001b[0m\n\u001b[0;32m      9\u001b[0m \u001b[1;31m#stack centred images\u001b[0m\u001b[1;33m\u001b[0m\u001b[1;33m\u001b[0m\u001b[0m\n",
        "\u001b[1;32m/home/ben/code/whisky/whisky/core.pyc\u001b[0m in \u001b[0;36mload_cube\u001b[1;34m(fname, sg_rad)\u001b[0m\n\u001b[0;32m   1035\u001b[0m     \u001b[0mhdr\u001b[0m \u001b[1;33m=\u001b[0m \u001b[0mpf\u001b[0m\u001b[1;33m.\u001b[0m\u001b[0mgetheader\u001b[0m\u001b[1;33m(\u001b[0m\u001b[0mfname\u001b[0m\u001b[1;33m)\u001b[0m\u001b[1;33m\u001b[0m\u001b[0m\n\u001b[0;32m   1036\u001b[0m \u001b[1;33m\u001b[0m\u001b[0m\n\u001b[1;32m-> 1037\u001b[1;33m     \u001b[0mnslices\u001b[0m \u001b[1;33m=\u001b[0m \u001b[0mhdr\u001b[0m\u001b[1;33m[\u001b[0m\u001b[1;34m'NAXIS3'\u001b[0m\u001b[1;33m]\u001b[0m\u001b[1;33m\u001b[0m\u001b[0m\n\u001b[0m\u001b[0;32m   1038\u001b[0m \u001b[1;33m\u001b[0m\u001b[0m\n\u001b[0;32m   1039\u001b[0m     \u001b[1;32mif\u001b[0m \u001b[0msg_rad\u001b[0m\u001b[1;33m<=\u001b[0m\u001b[1;36m0\u001b[0m \u001b[1;33m:\u001b[0m \u001b[0msg_rad\u001b[0m\u001b[1;33m=\u001b[0m\u001b[0mdcube\u001b[0m\u001b[1;33m.\u001b[0m\u001b[0mshape\u001b[0m\u001b[1;33m[\u001b[0m\u001b[1;36m1\u001b[0m\u001b[1;33m]\u001b[0m\u001b[1;33m\u001b[0m\u001b[0m\n",
        "\u001b[1;32m/usr/local/lib/python2.7/dist-packages/pyfits/header.pyc\u001b[0m in \u001b[0;36m__getitem__\u001b[1;34m(self, key)\u001b[0m\n\u001b[0;32m    141\u001b[0m         \u001b[1;32melse\u001b[0m\u001b[1;33m:\u001b[0m\u001b[1;33m\u001b[0m\u001b[0m\n\u001b[0;32m    142\u001b[0m             \u001b[0mkeyword\u001b[0m \u001b[1;33m=\u001b[0m \u001b[0mkey\u001b[0m\u001b[1;33m\u001b[0m\u001b[0m\n\u001b[1;32m--> 143\u001b[1;33m         \u001b[0mcard\u001b[0m \u001b[1;33m=\u001b[0m \u001b[0mself\u001b[0m\u001b[1;33m.\u001b[0m\u001b[0m_cards\u001b[0m\u001b[1;33m[\u001b[0m\u001b[0mself\u001b[0m\u001b[1;33m.\u001b[0m\u001b[0m_cardindex\u001b[0m\u001b[1;33m(\u001b[0m\u001b[0mkey\u001b[0m\u001b[1;33m)\u001b[0m\u001b[1;33m]\u001b[0m\u001b[1;33m\u001b[0m\u001b[0m\n\u001b[0m\u001b[0;32m    144\u001b[0m         \u001b[1;32mif\u001b[0m \u001b[0mcard\u001b[0m\u001b[1;33m.\u001b[0m\u001b[0mfield_specifier\u001b[0m \u001b[1;32mis\u001b[0m \u001b[1;32mnot\u001b[0m \u001b[0mNone\u001b[0m \u001b[1;32mand\u001b[0m \u001b[0mkeyword\u001b[0m \u001b[1;33m==\u001b[0m \u001b[0mcard\u001b[0m\u001b[1;33m.\u001b[0m\u001b[0mrawkeyword\u001b[0m\u001b[1;33m:\u001b[0m\u001b[1;33m\u001b[0m\u001b[0m\n\u001b[0;32m    145\u001b[0m             \u001b[1;31m# This is RVKC; if only the top-level keyword was specified return\u001b[0m\u001b[1;33m\u001b[0m\u001b[1;33m\u001b[0m\u001b[0m\n",
        "\u001b[1;32m/usr/local/lib/python2.7/dist-packages/pyfits/header.pyc\u001b[0m in \u001b[0;36m_cardindex\u001b[1;34m(self, key)\u001b[0m\n\u001b[0;32m   1712\u001b[0m \u001b[1;33m\u001b[0m\u001b[0m\n\u001b[0;32m   1713\u001b[0m         \u001b[1;32mif\u001b[0m \u001b[1;32mnot\u001b[0m \u001b[0mindices\u001b[0m\u001b[1;33m:\u001b[0m\u001b[1;33m\u001b[0m\u001b[0m\n\u001b[1;32m-> 1714\u001b[1;33m             \u001b[1;32mraise\u001b[0m \u001b[0mKeyError\u001b[0m\u001b[1;33m(\u001b[0m\u001b[1;34m\"Keyword %r not found.\"\u001b[0m \u001b[1;33m%\u001b[0m \u001b[0mkeyword\u001b[0m\u001b[1;33m)\u001b[0m\u001b[1;33m\u001b[0m\u001b[0m\n\u001b[0m\u001b[0;32m   1715\u001b[0m \u001b[1;33m\u001b[0m\u001b[0m\n\u001b[0;32m   1716\u001b[0m         \u001b[1;32mtry\u001b[0m\u001b[1;33m:\u001b[0m\u001b[1;33m\u001b[0m\u001b[0m\n",
        "\u001b[1;31mKeyError\u001b[0m: \"Keyword 'NAXIS3' not found.\""
       ]
      }
     ],
     "prompt_number": 13
    },
    {
     "cell_type": "heading",
     "level": 2,
     "metadata": {},
     "source": [
      "Now we're going to use Alex and Mike's MEM code to try and use the kernel phase information to deconvolve the images differently. This at present uses a high-contrast approximation (small-phase, ie phase ~ imaginary component) to simplify the matrices (DFT -> sine, so no complex operations)."
     ]
    },
    {
     "cell_type": "code",
     "collapsed": false,
     "input": [
      "'''----------------------------------------------------\n",
      "Now to make deconvolved images! \n",
      "\n",
      "In mk_kp2implane run kerphimobj(kpi, keywords), \n",
      "giving it a kpi object & some necessary keywords outlined\n",
      "in the code, importantly kerph and kerpherr --- a set of \n",
      "kernel phases (radians) and errors. \n",
      "----------------------------------------------------'''\n",
      "\n",
      "from imaging import *\n",
      "\n",
      "fov = 40\n",
      "tic1= time()\n",
      "kpimobj = kerphimobj(a,fov=fov)\n",
      "if no_kp:\n",
      "    kpimobj.name = 'test_no_kp'\n",
      "else:\n",
      "    kpimobj.name = 'test'\n",
      "kpimobj.kp2pm,kpimobj.sym2im = kpimobj.kerph2im(theta=a.hdr['orient'])\n",
      "toc1=time()\n",
      "kpimobj.write()\n",
      "print toc1-tic1, 'seconds elapsed'"
     ],
     "language": "python",
     "metadata": {},
     "outputs": [
      {
       "output_type": "stream",
       "stream": "stderr",
       "text": [
        "WARNING:astropy:Overwriting existing file 'kerphim_test_no_kp.fits'.\n"
       ]
      },
      {
       "output_type": "stream",
       "stream": "stdout",
       "text": [
        "WARNING: Overwriting existing file 'kerphim_test_no_kp.fits'. [astropy.io.fits.hdu.hdulist]\n",
        "9.30044412613 seconds elapsed\n"
       ]
      }
     ],
     "prompt_number": 32
    },
    {
     "cell_type": "code",
     "collapsed": false,
     "input": [
      "'''------------------------------\n",
      "Now run it!\n",
      "------------------------------'''\n",
      "\n",
      "#\timsize -- the size of the image in pixels, needs to match input\n",
      "#\t\t\t  file 'pixel matrix' size\n",
      "#\talpha  -- A starting value for the MEM functional multiplier (default=1.0)\n",
      "#\tgain   -- The servo gain for adjusting alpha to achieve chi^2=1\n",
      "#\tniter  -- number of iterations\n",
      "#\tprior  -- as mentioned at the start of this script, the prior\n",
      "#\t\t\t  is used to contrain the flux\n",
      "\n",
      "from imaging import *\n",
      "%matplotlib inline\n",
      "\n",
      "'''defaults'''\n",
      "if no_kp:\n",
      "    imsize = 40\n",
      "    alpha = 0.5\n",
      "    gain = 0.0001\n",
      "    prior = np.ones(imsize**2)/imsize**2.0\n",
      "else:\n",
      "    imsize = 40\n",
      "    alpha = 10\n",
      "    gain = 0.0001\n",
      "    prior = np.ones(imsize**2)/imsize**2.0\n",
      "\n",
      "# xx,yy= np.meshgrid(np.arange(imsize)-imsize/2.,np.arange(imsize)-imsize/2.)\n",
      "# rr = np.sqrt(xx**2. + yy**2.)\n",
      "# prior1= np.exp(-(rr/(imsize/2.))**2)\n",
      "# prior = np.ravel(prior1/np.sum(prior1))\n",
      "\n",
      "niter = 400\n",
      "if no_kp:\n",
      "    fname_im = 'kerphim_test_no_kp.fits'\n",
      "else:\n",
      "    fname_im = 'kerphim_test.fits'\n",
      "# trial.read_data(fname_im)\n",
      "\n",
      "tic = time()\n",
      "trial = MemImage(fname_im, niter=niter,imsize=imsize,alpha=alpha,gain=gain,prior=prior)\n",
      "im = trial.mem_image()\n",
      "toc = time()\n",
      "print toc-tic, 'seconds elapsed'\n",
      "\n",
      "\n",
      "#now save as a .fits file\n",
      "try:\n",
      "    f = fitsio.FITS('./mem_image_kp.fits','rw')\n",
      "    f.write(im)\n",
      "    f.close()\n",
      "    print 'Written as ./mem_image_kp.fits'\n",
      "except:\n",
      "    print 'Failed to write'\n"
     ],
     "language": "python",
     "metadata": {},
     "outputs": [
      {
       "output_type": "stream",
       "stream": "stdout",
       "text": [
        "Initialized: image size 40\n",
        "Done: 10 of 400 iterations. Chi^2: 1451.49617768 alpha: 0.499948084945 chi2diff: -0.257788720657"
       ]
      },
      {
       "output_type": "stream",
       "stream": "stdout",
       "text": [
        "\n",
        "Done: 20 of 400 iterations. Chi^2: 1442.73462303 alpha: 0.499821550331 chi2diff: -0.249500945255"
       ]
      },
      {
       "output_type": "stream",
       "stream": "stdout",
       "text": [
        "\n",
        "Done: 30 of 400 iterations. Chi^2: 1433.69565626 alpha: 0.499698875433 chi2diff: -0.242307765625"
       ]
      },
      {
       "output_type": "stream",
       "stream": "stdout",
       "text": [
        "\n",
        "Done: 40 of 400 iterations. Chi^2: 1423.70097268 alpha: 0.499580161449 chi2diff: -0.233136474632"
       ]
      },
      {
       "output_type": "stream",
       "stream": "stdout",
       "text": [
        "\n",
        "Done: 50 of 400 iterations. Chi^2: 1411.28083246 alpha: 0.499466411376 chi2diff: -0.222676754361"
       ]
      },
      {
       "output_type": "stream",
       "stream": "stdout",
       "text": [
        "\n",
        "Done: 60 of 400 iterations. Chi^2: 1404.16622178 alpha: 0.499357021361 chi2diff: -0.216493664415"
       ]
      },
      {
       "output_type": "stream",
       "stream": "stdout",
       "text": [
        "\n",
        "Done: 70 of 400 iterations. Chi^2: 1396.2577277 alpha: 0.499250841187 chi2diff: -0.209063005512"
       ]
      },
      {
       "output_type": "stream",
       "stream": "stdout",
       "text": [
        "\n",
        "Done: 80 of 400 iterations. Chi^2: 1387.41102413 alpha: 0.49914836928 chi2diff: -0.201323520469"
       ]
      },
      {
       "output_type": "stream",
       "stream": "stdout",
       "text": [
        "\n",
        "Done: 90 of 400 iterations. Chi^2: 1376.18508936 alpha: 0.499050282489 chi2diff: -0.192341959282"
       ]
      },
      {
       "output_type": "stream",
       "stream": "stdout",
       "text": [
        "\n",
        "Done: 100 of 400 iterations. Chi^2: 1365.56454343 alpha: 0.498956772494 chi2diff: -0.184041002038"
       ]
      },
      {
       "output_type": "stream",
       "stream": "stdout",
       "text": [
        "\n",
        "Done: 110 of 400 iterations. Chi^2: 1355.24696925 alpha: 0.498867857651 chi2diff: -0.174115417492"
       ]
      },
      {
       "output_type": "stream",
       "stream": "stdout",
       "text": [
        "\n",
        "Done: 120 of 400 iterations. Chi^2: 1342.38101468 alpha: 0.498783659951 chi2diff: -0.163171521091"
       ]
      },
      {
       "output_type": "stream",
       "stream": "stdout",
       "text": [
        "\n",
        "Done: 130 of 400 iterations. Chi^2: 1321.78226267 alpha: 0.498707757886 chi2diff: -0.144400227417"
       ]
      },
      {
       "output_type": "stream",
       "stream": "stdout",
       "text": [
        "\n",
        "Done: 140 of 400 iterations. Chi^2: 1314.58522096 alpha: 0.498637515195 chi2diff: -0.138169022476"
       ]
      },
      {
       "output_type": "stream",
       "stream": "stdout",
       "text": [
        "\n",
        "Done: 150 of 400 iterations. Chi^2: 1306.19529556 alpha: 0.498570185185 chi2diff: -0.130941162889"
       ]
      },
      {
       "output_type": "stream",
       "stream": "stdout",
       "text": [
        "\n",
        "Done: 160 of 400 iterations. Chi^2: 1295.46791673 alpha: 0.498506580078 chi2diff: -0.124331867924"
       ]
      },
      {
       "output_type": "stream",
       "stream": "stdout",
       "text": [
        "\n",
        "Done: 170 of 400 iterations. Chi^2: 1292.09410254 alpha: 0.498446750933 chi2diff: -0.119005630992"
       ]
      },
      {
       "output_type": "stream",
       "stream": "stdout",
       "text": [
        "\n",
        "Done: 180 of 400 iterations. Chi^2: 1287.01902673 alpha: 0.498388889696 chi2diff: -0.114302188441"
       ]
      },
      {
       "output_type": "stream",
       "stream": "stdout",
       "text": [
        "\n",
        "Done: 190 of 400 iterations. Chi^2: 1283.44386769 alpha: 0.498332784851 chi2diff: -0.111206813382"
       ]
      },
      {
       "output_type": "stream",
       "stream": "stdout",
       "text": [
        "\n",
        "Done: 200 of 400 iterations. Chi^2: 1279.29260557 alpha: 0.498278218475 chi2diff: -0.107612646737"
       ]
      },
      {
       "output_type": "stream",
       "stream": "stdout",
       "text": [
        "\n",
        "Done: 210 of 400 iterations. Chi^2: 1275.45465494 alpha: 0.49822533787 chi2diff: -0.104966782814"
       ]
      },
      {
       "output_type": "stream",
       "stream": "stdout",
       "text": [
        "\n",
        "Done: 220 of 400 iterations. Chi^2: 1273.03541909 alpha: 0.498173859882 chi2diff: -0.10219504401"
       ]
      },
      {
       "output_type": "stream",
       "stream": "stdout",
       "text": [
        "\n",
        "Done: 230 of 400 iterations. Chi^2: 1263.68140159 alpha: 0.498123721766 chi2diff: -0.0988325593907"
       ]
      },
      {
       "output_type": "stream",
       "stream": "stdout",
       "text": [
        "\n",
        "Done: 240 of 400 iterations. Chi^2: 1260.886107 alpha: 0.498077396703 chi2diff: -0.0920443477725"
       ]
      },
      {
       "output_type": "stream",
       "stream": "stdout",
       "text": [
        "\n",
        "Done: 250 of 400 iterations. Chi^2: 1259.76273673 alpha: 0.498031938979 chi2diff: -0.0907036686024"
       ]
      },
      {
       "output_type": "stream",
       "stream": "stdout",
       "text": [
        "\n",
        "Done: 260 of 400 iterations. Chi^2: 1254.75437554 alpha: 0.497988449645 chi2diff: -0.0863674248179"
       ]
      },
      {
       "output_type": "stream",
       "stream": "stdout",
       "text": [
        "\n",
        "Done: 270 of 400 iterations. Chi^2: 1253.98313292 alpha: 0.497945555578 chi2diff: -0.0857286780252"
       ]
      },
      {
       "output_type": "stream",
       "stream": "stdout",
       "text": [
        "\n",
        "Done: 280 of 400 iterations. Chi^2: 1251.02644956 alpha: 0.49790337318 chi2diff: -0.0832241748055"
       ]
      },
      {
       "output_type": "stream",
       "stream": "stdout",
       "text": [
        "\n",
        "Done: 290 of 400 iterations. Chi^2: 1249.59591002 alpha: 0.49786224009 chi2diff: -0.0819011893817"
       ]
      },
      {
       "output_type": "stream",
       "stream": "stdout",
       "text": [
        "\n",
        "Done: 300 of 400 iterations. Chi^2: 1247.40979547 alpha: 0.497822058102 chi2diff: -0.0800084810018"
       ]
      },
      {
       "output_type": "stream",
       "stream": "stdout",
       "text": [
        "\n",
        "Done: 310 of 400 iterations. Chi^2: 1246.16162668 alpha: 0.497782565499 chi2diff: -0.0789277303844"
       ]
      },
      {
       "output_type": "stream",
       "stream": "stdout",
       "text": [
        "\n",
        "Done: 320 of 400 iterations. Chi^2: 1243.57957301 alpha: 0.497743776857 chi2diff: -0.0766922662594"
       ]
      },
      {
       "output_type": "stream",
       "stream": "stdout",
       "text": [
        "\n",
        "Done: 330 of 400 iterations. Chi^2: 1242.14623496 alpha: 0.497705907547 chi2diff: -0.0756571792757"
       ]
      },
      {
       "output_type": "stream",
       "stream": "stdout",
       "text": [
        "\n",
        "Done: 340 of 400 iterations. Chi^2: 1241.3437915 alpha: 0.497668526853 chi2diff: -0.0747617847886"
       ]
      },
      {
       "output_type": "stream",
       "stream": "stdout",
       "text": [
        "\n",
        "Done: 350 of 400 iterations. Chi^2: 1230.01631027 alpha: 0.497632886227 chi2diff: -0.0649491863838"
       ]
      },
      {
       "output_type": "stream",
       "stream": "stdout",
       "text": [
        "\n",
        "Done: 360 of 400 iterations. Chi^2: 1228.6087488 alpha: 0.497600805508 chi2diff: -0.0637308480027"
       ]
      },
      {
       "output_type": "stream",
       "stream": "stdout",
       "text": [
        "\n",
        "Done: 370 of 400 iterations. Chi^2: 1226.46350693 alpha: 0.497569494487 chi2diff: -0.0619478892159"
       ]
      },
      {
       "output_type": "stream",
       "stream": "stdout",
       "text": [
        "\n",
        "Done: 380 of 400 iterations. Chi^2: 1190.2367436 alpha: 0.497542780834 chi2diff: -0.0311265240317"
       ]
      },
      {
       "output_type": "stream",
       "stream": "stdout",
       "text": [
        "\n",
        "Done: 390 of 400 iterations. Chi^2: 1186.54416686 alpha: 0.497528287147 chi2diff: -0.0273109669825"
       ]
      },
      {
       "output_type": "stream",
       "stream": "stdout",
       "text": [
        "\n",
        "Done: 400 of 400 iterations. Chi^2: 1185.85330849 alpha: 0.497514885 chi2diff: -0.0267132504587"
       ]
      },
      {
       "output_type": "stream",
       "stream": "stdout",
       "text": [
        "\n",
        "Reduced Chi2: 1.02666274675\n",
        "9.28249621391 seconds elapsed\n",
        "Written as ./mem_image_kp.fits\n"
       ]
      }
     ],
     "prompt_number": 33
    },
    {
     "cell_type": "code",
     "collapsed": false,
     "input": [
      "'''--------------------------------\n",
      "the rest is a plot\n",
      "--------------------------------'''\n",
      "\n",
      "\n",
      "bestfit = np.array([-131.377*np.sin(np.pi/180.*85.98),131.377*np.cos(np.pi/180.*85.98)])\n",
      "\n",
      "plt.imshow(im.T/im.max(), interpolation='nearest',cmap=plt.get_cmap('gist_heat'),extent=trial.extent)\n",
      "plt.colorbar(label='Normalized intensity')\n",
      "plt.plot(0,0,'w*', ms=15)\n",
      "plt.axis(trial.extent)\n",
      "plt.axhline(bestfit[1],color='c',alpha=0.4)\n",
      "plt.axvline(bestfit[0],color='c',alpha=0.4)\n",
      "# plt.plot(bestfit[0],bestfit[1],'cs',alpha=0.8)\n",
      "plt.xlabel(r'$\\Delta$ RA (milli-arcsec)', fontsize='large')\n",
      "plt.ylabel(r'$\\Delta$ Dec (milli-arcsec)', fontsize='large')\n",
      "if no_kp:\n",
      "    plt.title('MaxEnt Image Reconstruction using Fourier Phases',fontsize='large')\n",
      "else:\n",
      "    plt.title('MaxEnt Image Reconstruction using Kernel Phases',fontsize='large')\n",
      "print \"Total contrast (mags): \" + str(-2.5*np.log10(np.sum(trial.pm)))\n",
      "plt.show()"
     ],
     "language": "python",
     "metadata": {},
     "outputs": [
      {
       "output_type": "stream",
       "stream": "stdout",
       "text": [
        "Total contrast (mags): 0.821327772537\n"
       ]
      },
      {
       "metadata": {},
       "output_type": "display_data",
       "png": "[encoded data removed]",
       "text": [
        "<matplotlib.figure.Figure at 0x7f4425335110>"
       ]
      }
     ],
     "prompt_number": 34
    },
    {
     "cell_type": "code",
     "collapsed": false,
     "input": [
      "a.hdr['filter']"
     ],
     "language": "python",
     "metadata": {},
     "outputs": [
      {
       "metadata": {},
       "output_type": "pyout",
       "prompt_number": 18,
       "text": [
        "2.145e-06"
       ]
      }
     ],
     "prompt_number": 18
    },
    {
     "cell_type": "code",
     "collapsed": false,
     "input": [
      "a.bsp"
     ],
     "language": "python",
     "metadata": {},
     "outputs": [
      {
       "ename": "AttributeError",
       "evalue": "kpo instance has no attribute 'bsp'",
       "output_type": "pyerr",
       "traceback": [
        "\u001b[1;31m---------------------------------------------------------------------------\u001b[0m\n\u001b[1;31mAttributeError\u001b[0m                            Traceback (most recent call last)",
        "\u001b[1;32m<ipython-input-10-71924a9e25a6>\u001b[0m in \u001b[0;36m<module>\u001b[1;34m()\u001b[0m\n\u001b[1;32m----> 1\u001b[1;33m \u001b[0ma\u001b[0m\u001b[1;33m.\u001b[0m\u001b[0mbsp\u001b[0m\u001b[1;33m\u001b[0m\u001b[0m\n\u001b[0m",
        "\u001b[1;31mAttributeError\u001b[0m: kpo instance has no attribute 'bsp'"
       ]
      }
     ],
     "prompt_number": 10
    },
    {
     "cell_type": "code",
     "collapsed": false,
     "input": [
      "plt.plot(a.kpi.uv_to_bsp[7,:],a.kpi.uv_to_bsp[8,:],'.k')"
     ],
     "language": "python",
     "metadata": {},
     "outputs": [
      {
       "metadata": {},
       "output_type": "pyout",
       "prompt_number": 37,
       "text": [
        "[<matplotlib.lines.Line2D at 0x7f83d2c5b3d0>]"
       ]
      },
      {
       "metadata": {},
       "output_type": "display_data",
       "png": "[encoded data removed]",
       "text": [
        "<matplotlib.figure.Figure at 0x7f83d5dfb0d0>"
       ]
      }
     ],
     "prompt_number": 37
    },
    {
     "cell_type": "code",
     "collapsed": false,
     "input": [],
     "language": "python",
     "metadata": {},
     "outputs": []
    }
   ],
   "metadata": {}
  }
 ]
}