{
 "metadata": {
  "name": "",
  "signature": "sha256:90ffbd9aba64a84eeb12fa219123c59323c9208e33c6621afb07d6cab7fd1d41"
 },
 "nbformat": 3,
 "nbformat_minor": 0,
 "worksheets": [
  {
   "cells": [
    {
     "cell_type": "heading",
     "level": 1,
     "metadata": {},
     "source": [
      "Analysis for the Pharo kernel phase paper as submitted by Pope et al., 2015. "
     ]
    },
    {
     "cell_type": "heading",
     "level": 3,
     "metadata": {},
     "source": [
      "Whisky is a modified distribution of pysco, available at https://github.com/benjaminpope/whisky .\n",
      "\n",
      "The original pysco code as developed by Martinache, Pope and Ireland is available at https://code.google.com/p/pysco/ ."
     ]
    },
    {
     "cell_type": "code",
     "collapsed": false,
     "input": [
      "import numpy as np\n",
      "import matplotlib.pyplot as plt\n",
      "import whisky as pysco\n",
      "import fitsio\n",
      "import triangle\n",
      "from time import time\n",
      "from astroML.plotting import setup_text_plots\n",
      "setup_text_plots(usetex=True)\n",
      "%matplotlib inline"
     ],
     "language": "python",
     "metadata": {},
     "outputs": [],
     "prompt_number": 15
    },
    {
     "cell_type": "markdown",
     "metadata": {},
     "source": [
      "Now define your data directory, bands - we have Ks and ch4, though the ch4 are provided basically only for illustrative purposes as they're horribly saturated and have been discarded from the paper as submitted."
     ]
    },
    {
     "cell_type": "code",
     "collapsed": false,
     "input": [
      "ddir = \"/home/ben/Research/pharo/data/\" # data directory\n",
      "\n",
      "bandn = 'Ks' \n",
      "# bandn = 'ch4' # this gives vaguely right astrometry at its best fit but a remarkably poor fit overall! try if you like\n",
      "\n",
      "num = 0 #0 for alpha Oph, 1 sim with masking params, 2 for sim with kp params\n",
      "\n",
      "tnames = ['alpOph','epsOph','epsHer']\n",
      "\n",
      "no_kp = False"
     ],
     "language": "python",
     "metadata": {},
     "outputs": [],
     "prompt_number": 16
    },
    {
     "cell_type": "code",
     "collapsed": false,
     "input": [
      "if bandn == 'ch4':\n",
      "\tfnames = ['cubeF_1856.fits','cubeF_2381.fits']\n",
      "\t# myf1 = open('alpOph_ch4_lin.pick','r')\n",
      "\t# myf2 = open('epsOph_ch4_lin.pick','r')\n",
      "\tpupil = 'stdcrossmodel'\n",
      "elif bandn == 'Ks':\n",
      "\tfnames = ['cubeF_2056.fits','cubeF_2881.fits']\n",
      "\t# myf1 = open('alpOph_Ks_lin.pick','r')\n",
      "\t# myf2 = open('epsHer_Ks_lin.pick','r')\n",
      "\tpupil = 'medcrossmodel'\n",
      "else: print 'Data directory failure'\n",
      "    \n",
      "if num == 1:\n",
      "    print 'Doing simulated observations'\n",
      "    fnames = ['Ks_0.8_bin_s129.6_a83.5_c28.7.fits', 'Ks_1.0_bin_s129.6_a83.5_c28.7.fits'] # ffa\n",
      "    pupil = 'medcrossmodel'\n",
      "else:\n",
      "    pass\n",
      "    \n",
      "if num == 2:\n",
      "    print 'Doing simulated observations'\n",
      "    fnames = ['Ks_0.8_bin_s131_a86_c19.7.fits', 'Ks_1.0_bin_s131_a86_c19.7.fits'] # ffa\n",
      "    pupil = 'medcrossmodel'\n",
      "else:\n",
      "    pass"
     ],
     "language": "python",
     "metadata": {},
     "outputs": [],
     "prompt_number": 17
    },
    {
     "cell_type": "markdown",
     "metadata": {},
     "source": [
      "After the \"import whisky\" command, the documentation for the code is\n",
      "available typing \"help(pysco)\"."
     ]
    },
    {
     "cell_type": "code",
     "collapsed": false,
     "input": [
      "# -------------------\n",
      "# 1. load the dataset\n",
      "# -------------------\n",
      "\n",
      "#load data and calibrators - each of these may take several minutes \n",
      "\n",
      "a = pysco.kpo('./kerphi/'+pupil+'.pick')\n",
      "a.name = 'Palomar - ' + tnames[0]\n",
      "if no_kp:\n",
      "    a.kpi.KerPhi = np.eye(a.kpi.nbuv)  # for speckle!\n",
      "    a.kpi.nkphi = a.kpi.nbuv  # for speckle!\n",
      "\n",
      "a.extract_kpd(ddir + fnames[0],sg_ld = 4.5,re_center=True,D=5.093,unwrap_kp=False,adjust_sampling=True)\n"
     ],
     "language": "python",
     "metadata": {},
     "outputs": [
      {
       "output_type": "stream",
       "stream": "stdout",
       "text": [
        "File ./kerphi/medcrossmodel.pick contains kpi information only\n",
        "Bsp data was not loaded\n",
        "Vis2 data was not loaded\n",
        "1 frames will be open\n",
        "\r",
        "extracting kp from img   1/100"
       ]
      },
      {
       "output_type": "stream",
       "stream": "stdout",
       "text": [
        "\r",
        "extracting kp from img   2/100"
       ]
      },
      {
       "output_type": "stream",
       "stream": "stdout",
       "text": [
        "\r",
        "extracting kp from img   3/100"
       ]
      },
      {
       "output_type": "stream",
       "stream": "stdout",
       "text": [
        "\r",
        "extracting kp from img   4/100"
       ]
      },
      {
       "output_type": "stream",
       "stream": "stdout",
       "text": [
        "\r",
        "extracting kp from img   5/100"
       ]
      },
      {
       "output_type": "stream",
       "stream": "stdout",
       "text": [
        "\r",
        "extracting kp from img   6/100"
       ]
      },
      {
       "output_type": "stream",
       "stream": "stdout",
       "text": [
        "\r",
        "extracting kp from img   7/100"
       ]
      },
      {
       "output_type": "stream",
       "stream": "stdout",
       "text": [
        "\r",
        "extracting kp from img   8/100"
       ]
      },
      {
       "output_type": "stream",
       "stream": "stdout",
       "text": [
        "\r",
        "extracting kp from img   9/100"
       ]
      },
      {
       "output_type": "stream",
       "stream": "stdout",
       "text": [
        "\r",
        "extracting kp from img  10/100"
       ]
      },
      {
       "output_type": "stream",
       "stream": "stdout",
       "text": [
        "\r",
        "extracting kp from img  11/100"
       ]
      },
      {
       "output_type": "stream",
       "stream": "stdout",
       "text": [
        "\r",
        "extracting kp from img  12/100"
       ]
      },
      {
       "output_type": "stream",
       "stream": "stdout",
       "text": [
        "\r",
        "extracting kp from img  13/100"
       ]
      },
      {
       "output_type": "stream",
       "stream": "stdout",
       "text": [
        "\r",
        "extracting kp from img  14/100"
       ]
      },
      {
       "output_type": "stream",
       "stream": "stdout",
       "text": [
        "\r",
        "extracting kp from img  15/100"
       ]
      },
      {
       "output_type": "stream",
       "stream": "stdout",
       "text": [
        "\r",
        "extracting kp from img  16/100"
       ]
      },
      {
       "output_type": "stream",
       "stream": "stdout",
       "text": [
        "\r",
        "extracting kp from img  17/100"
       ]
      },
      {
       "output_type": "stream",
       "stream": "stdout",
       "text": [
        "\r",
        "extracting kp from img  18/100"
       ]
      },
      {
       "output_type": "stream",
       "stream": "stdout",
       "text": [
        "\r",
        "extracting kp from img  19/100"
       ]
      },
      {
       "output_type": "stream",
       "stream": "stdout",
       "text": [
        "\r",
        "extracting kp from img  20/100"
       ]
      },
      {
       "output_type": "stream",
       "stream": "stdout",
       "text": [
        "\r",
        "extracting kp from img  21/100"
       ]
      },
      {
       "output_type": "stream",
       "stream": "stdout",
       "text": [
        "\r",
        "extracting kp from img  22/100"
       ]
      },
      {
       "output_type": "stream",
       "stream": "stdout",
       "text": [
        "\r",
        "extracting kp from img  23/100"
       ]
      },
      {
       "output_type": "stream",
       "stream": "stdout",
       "text": [
        "\r",
        "extracting kp from img  24/100"
       ]
      },
      {
       "output_type": "stream",
       "stream": "stdout",
       "text": [
        "\r",
        "extracting kp from img  25/100"
       ]
      },
      {
       "output_type": "stream",
       "stream": "stdout",
       "text": [
        "\r",
        "extracting kp from img  26/100"
       ]
      },
      {
       "output_type": "stream",
       "stream": "stdout",
       "text": [
        "\r",
        "extracting kp from img  27/100"
       ]
      },
      {
       "output_type": "stream",
       "stream": "stdout",
       "text": [
        "\r",
        "extracting kp from img  28/100"
       ]
      },
      {
       "output_type": "stream",
       "stream": "stdout",
       "text": [
        "\r",
        "extracting kp from img  29/100"
       ]
      },
      {
       "output_type": "stream",
       "stream": "stdout",
       "text": [
        "\r",
        "extracting kp from img  30/100"
       ]
      },
      {
       "output_type": "stream",
       "stream": "stdout",
       "text": [
        "\r",
        "extracting kp from img  31/100"
       ]
      },
      {
       "output_type": "stream",
       "stream": "stdout",
       "text": [
        "\r",
        "extracting kp from img  32/100"
       ]
      },
      {
       "output_type": "stream",
       "stream": "stdout",
       "text": [
        "\r",
        "extracting kp from img  33/100"
       ]
      },
      {
       "output_type": "stream",
       "stream": "stdout",
       "text": [
        "\r",
        "extracting kp from img  34/100"
       ]
      },
      {
       "output_type": "stream",
       "stream": "stdout",
       "text": [
        "\r",
        "extracting kp from img  35/100"
       ]
      },
      {
       "output_type": "stream",
       "stream": "stdout",
       "text": [
        "\r",
        "extracting kp from img  36/100"
       ]
      },
      {
       "output_type": "stream",
       "stream": "stdout",
       "text": [
        "\r",
        "extracting kp from img  37/100"
       ]
      },
      {
       "output_type": "stream",
       "stream": "stdout",
       "text": [
        "\r",
        "extracting kp from img  38/100"
       ]
      },
      {
       "output_type": "stream",
       "stream": "stdout",
       "text": [
        "\r",
        "extracting kp from img  39/100"
       ]
      },
      {
       "output_type": "stream",
       "stream": "stdout",
       "text": [
        "\r",
        "extracting kp from img  40/100"
       ]
      },
      {
       "output_type": "stream",
       "stream": "stdout",
       "text": [
        "\r",
        "extracting kp from img  41/100"
       ]
      },
      {
       "output_type": "stream",
       "stream": "stdout",
       "text": [
        "\r",
        "extracting kp from img  42/100"
       ]
      },
      {
       "output_type": "stream",
       "stream": "stdout",
       "text": [
        "\r",
        "extracting kp from img  43/100"
       ]
      },
      {
       "output_type": "stream",
       "stream": "stdout",
       "text": [
        "\r",
        "extracting kp from img  44/100"
       ]
      },
      {
       "output_type": "stream",
       "stream": "stdout",
       "text": [
        "\r",
        "extracting kp from img  45/100"
       ]
      },
      {
       "output_type": "stream",
       "stream": "stdout",
       "text": [
        "\r",
        "extracting kp from img  46/100"
       ]
      },
      {
       "output_type": "stream",
       "stream": "stdout",
       "text": [
        "\r",
        "extracting kp from img  47/100"
       ]
      },
      {
       "output_type": "stream",
       "stream": "stdout",
       "text": [
        "\r",
        "extracting kp from img  48/100"
       ]
      },
      {
       "output_type": "stream",
       "stream": "stdout",
       "text": [
        "\r",
        "extracting kp from img  49/100"
       ]
      },
      {
       "output_type": "stream",
       "stream": "stdout",
       "text": [
        "\r",
        "extracting kp from img  50/100"
       ]
      },
      {
       "output_type": "stream",
       "stream": "stdout",
       "text": [
        "\r",
        "extracting kp from img  51/100"
       ]
      },
      {
       "output_type": "stream",
       "stream": "stdout",
       "text": [
        "\r",
        "extracting kp from img  52/100"
       ]
      },
      {
       "output_type": "stream",
       "stream": "stdout",
       "text": [
        "\r",
        "extracting kp from img  53/100"
       ]
      },
      {
       "output_type": "stream",
       "stream": "stdout",
       "text": [
        "\r",
        "extracting kp from img  54/100"
       ]
      },
      {
       "output_type": "stream",
       "stream": "stdout",
       "text": [
        "\r",
        "extracting kp from img  55/100"
       ]
      },
      {
       "output_type": "stream",
       "stream": "stdout",
       "text": [
        "\r",
        "extracting kp from img  56/100"
       ]
      },
      {
       "output_type": "stream",
       "stream": "stdout",
       "text": [
        "\r",
        "extracting kp from img  57/100"
       ]
      },
      {
       "output_type": "stream",
       "stream": "stdout",
       "text": [
        "\r",
        "extracting kp from img  58/100"
       ]
      },
      {
       "output_type": "stream",
       "stream": "stdout",
       "text": [
        "\r",
        "extracting kp from img  59/100"
       ]
      },
      {
       "output_type": "stream",
       "stream": "stdout",
       "text": [
        "\r",
        "extracting kp from img  60/100"
       ]
      },
      {
       "output_type": "stream",
       "stream": "stdout",
       "text": [
        "\r",
        "extracting kp from img  61/100"
       ]
      },
      {
       "output_type": "stream",
       "stream": "stdout",
       "text": [
        "\r",
        "extracting kp from img  62/100"
       ]
      },
      {
       "output_type": "stream",
       "stream": "stdout",
       "text": [
        "\r",
        "extracting kp from img  63/100"
       ]
      },
      {
       "output_type": "stream",
       "stream": "stdout",
       "text": [
        "\r",
        "extracting kp from img  64/100"
       ]
      },
      {
       "output_type": "stream",
       "stream": "stdout",
       "text": [
        "\r",
        "extracting kp from img  65/100"
       ]
      },
      {
       "output_type": "stream",
       "stream": "stdout",
       "text": [
        "\r",
        "extracting kp from img  66/100"
       ]
      },
      {
       "output_type": "stream",
       "stream": "stdout",
       "text": [
        "\r",
        "extracting kp from img  67/100"
       ]
      },
      {
       "output_type": "stream",
       "stream": "stdout",
       "text": [
        "\r",
        "extracting kp from img  68/100"
       ]
      },
      {
       "output_type": "stream",
       "stream": "stdout",
       "text": [
        "\r",
        "extracting kp from img  69/100"
       ]
      },
      {
       "output_type": "stream",
       "stream": "stdout",
       "text": [
        "\r",
        "extracting kp from img  70/100"
       ]
      },
      {
       "output_type": "stream",
       "stream": "stdout",
       "text": [
        "\r",
        "extracting kp from img  71/100"
       ]
      },
      {
       "output_type": "stream",
       "stream": "stdout",
       "text": [
        "\r",
        "extracting kp from img  72/100"
       ]
      },
      {
       "output_type": "stream",
       "stream": "stdout",
       "text": [
        "\r",
        "extracting kp from img  73/100"
       ]
      },
      {
       "output_type": "stream",
       "stream": "stdout",
       "text": [
        "\r",
        "extracting kp from img  74/100"
       ]
      },
      {
       "output_type": "stream",
       "stream": "stdout",
       "text": [
        "\r",
        "extracting kp from img  75/100"
       ]
      },
      {
       "output_type": "stream",
       "stream": "stdout",
       "text": [
        "\r",
        "extracting kp from img  76/100"
       ]
      },
      {
       "output_type": "stream",
       "stream": "stdout",
       "text": [
        "\r",
        "extracting kp from img  77/100"
       ]
      },
      {
       "output_type": "stream",
       "stream": "stdout",
       "text": [
        "\r",
        "extracting kp from img  78/100"
       ]
      },
      {
       "output_type": "stream",
       "stream": "stdout",
       "text": [
        "\r",
        "extracting kp from img  79/100"
       ]
      },
      {
       "output_type": "stream",
       "stream": "stdout",
       "text": [
        "\r",
        "extracting kp from img  80/100"
       ]
      },
      {
       "output_type": "stream",
       "stream": "stdout",
       "text": [
        "\r",
        "extracting kp from img  81/100"
       ]
      },
      {
       "output_type": "stream",
       "stream": "stdout",
       "text": [
        "\r",
        "extracting kp from img  82/100"
       ]
      },
      {
       "output_type": "stream",
       "stream": "stdout",
       "text": [
        "\r",
        "extracting kp from img  83/100"
       ]
      },
      {
       "output_type": "stream",
       "stream": "stdout",
       "text": [
        "\r",
        "extracting kp from img  84/100"
       ]
      },
      {
       "output_type": "stream",
       "stream": "stdout",
       "text": [
        "\r",
        "extracting kp from img  85/100"
       ]
      },
      {
       "output_type": "stream",
       "stream": "stdout",
       "text": [
        "\r",
        "extracting kp from img  86/100"
       ]
      },
      {
       "output_type": "stream",
       "stream": "stdout",
       "text": [
        "\r",
        "extracting kp from img  87/100"
       ]
      },
      {
       "output_type": "stream",
       "stream": "stdout",
       "text": [
        "\r",
        "extracting kp from img  88/100"
       ]
      },
      {
       "output_type": "stream",
       "stream": "stdout",
       "text": [
        "\r",
        "extracting kp from img  89/100"
       ]
      },
      {
       "output_type": "stream",
       "stream": "stdout",
       "text": [
        "\r",
        "extracting kp from img  90/100"
       ]
      },
      {
       "output_type": "stream",
       "stream": "stdout",
       "text": [
        "\r",
        "extracting kp from img  91/100"
       ]
      },
      {
       "output_type": "stream",
       "stream": "stdout",
       "text": [
        "\r",
        "extracting kp from img  92/100"
       ]
      },
      {
       "output_type": "stream",
       "stream": "stdout",
       "text": [
        "\r",
        "extracting kp from img  93/100"
       ]
      },
      {
       "output_type": "stream",
       "stream": "stdout",
       "text": [
        "\r",
        "extracting kp from img  94/100"
       ]
      },
      {
       "output_type": "stream",
       "stream": "stdout",
       "text": [
        "\r",
        "extracting kp from img  95/100"
       ]
      },
      {
       "output_type": "stream",
       "stream": "stdout",
       "text": [
        "\r",
        "extracting kp from img  96/100"
       ]
      },
      {
       "output_type": "stream",
       "stream": "stdout",
       "text": [
        "\r",
        "extracting kp from img  97/100"
       ]
      },
      {
       "output_type": "stream",
       "stream": "stdout",
       "text": [
        "\r",
        "extracting kp from img  98/100"
       ]
      },
      {
       "output_type": "stream",
       "stream": "stdout",
       "text": [
        "\r",
        "extracting kp from img  99/100"
       ]
      },
      {
       "output_type": "stream",
       "stream": "stdout",
       "text": [
        "\r",
        "extracting kp from img 100/100"
       ]
      },
      {
       "output_type": "stream",
       "stream": "stdout",
       "text": [
        " no average\n"
       ]
      }
     ],
     "prompt_number": 18
    },
    {
     "cell_type": "code",
     "collapsed": false,
     "input": [
      "b = pysco.kpo('./kerphi/'+pupil+'.pick')\n",
      "b.name = 'Palomar - ' + tnames[1]\n",
      "if no_kp:\n",
      "    b.kpi.KerPhi = np.eye(b.kpi.nbuv)  # for speckle!\n",
      "    b.kpi.nkphi = b.kpi.nbuv  # for speckle!\n",
      "\n",
      "b.extract_kpd(ddir + fnames[1],sg_ld = 4.5,re_center=True,D=5.093,unwrap_kp=False,adjust_sampling=True)\n"
     ],
     "language": "python",
     "metadata": {},
     "outputs": [
      {
       "output_type": "stream",
       "stream": "stdout",
       "text": [
        "File ./kerphi/medcrossmodel.pick contains kpi information only\n",
        "Bsp data was not loaded\n",
        "Vis2 data was not loaded\n",
        "1 frames will be open\n",
        "\r",
        "extracting kp from img   1/100"
       ]
      },
      {
       "output_type": "stream",
       "stream": "stdout",
       "text": [
        "\r",
        "extracting kp from img   2/100"
       ]
      },
      {
       "output_type": "stream",
       "stream": "stdout",
       "text": [
        "\r",
        "extracting kp from img   3/100"
       ]
      },
      {
       "output_type": "stream",
       "stream": "stdout",
       "text": [
        "\r",
        "extracting kp from img   4/100"
       ]
      },
      {
       "output_type": "stream",
       "stream": "stdout",
       "text": [
        "\r",
        "extracting kp from img   5/100"
       ]
      },
      {
       "output_type": "stream",
       "stream": "stdout",
       "text": [
        "\r",
        "extracting kp from img   6/100"
       ]
      },
      {
       "output_type": "stream",
       "stream": "stdout",
       "text": [
        "\r",
        "extracting kp from img   7/100"
       ]
      },
      {
       "output_type": "stream",
       "stream": "stdout",
       "text": [
        "\r",
        "extracting kp from img   8/100"
       ]
      },
      {
       "output_type": "stream",
       "stream": "stdout",
       "text": [
        "\r",
        "extracting kp from img   9/100"
       ]
      },
      {
       "output_type": "stream",
       "stream": "stdout",
       "text": [
        "\r",
        "extracting kp from img  10/100"
       ]
      },
      {
       "output_type": "stream",
       "stream": "stdout",
       "text": [
        "\r",
        "extracting kp from img  11/100"
       ]
      },
      {
       "output_type": "stream",
       "stream": "stdout",
       "text": [
        "\r",
        "extracting kp from img  12/100"
       ]
      },
      {
       "output_type": "stream",
       "stream": "stdout",
       "text": [
        "\r",
        "extracting kp from img  13/100"
       ]
      },
      {
       "output_type": "stream",
       "stream": "stdout",
       "text": [
        "\r",
        "extracting kp from img  14/100"
       ]
      },
      {
       "output_type": "stream",
       "stream": "stdout",
       "text": [
        "\r",
        "extracting kp from img  15/100"
       ]
      },
      {
       "output_type": "stream",
       "stream": "stdout",
       "text": [
        "\r",
        "extracting kp from img  16/100"
       ]
      },
      {
       "output_type": "stream",
       "stream": "stdout",
       "text": [
        "\r",
        "extracting kp from img  17/100"
       ]
      },
      {
       "output_type": "stream",
       "stream": "stdout",
       "text": [
        "\r",
        "extracting kp from img  18/100"
       ]
      },
      {
       "output_type": "stream",
       "stream": "stdout",
       "text": [
        "\r",
        "extracting kp from img  19/100"
       ]
      },
      {
       "output_type": "stream",
       "stream": "stdout",
       "text": [
        "\r",
        "extracting kp from img  20/100"
       ]
      },
      {
       "output_type": "stream",
       "stream": "stdout",
       "text": [
        "\r",
        "extracting kp from img  21/100"
       ]
      },
      {
       "output_type": "stream",
       "stream": "stdout",
       "text": [
        "\r",
        "extracting kp from img  22/100"
       ]
      },
      {
       "output_type": "stream",
       "stream": "stdout",
       "text": [
        "\r",
        "extracting kp from img  23/100"
       ]
      },
      {
       "output_type": "stream",
       "stream": "stdout",
       "text": [
        "\r",
        "extracting kp from img  24/100"
       ]
      },
      {
       "output_type": "stream",
       "stream": "stdout",
       "text": [
        "\r",
        "extracting kp from img  25/100"
       ]
      },
      {
       "output_type": "stream",
       "stream": "stdout",
       "text": [
        "\r",
        "extracting kp from img  26/100"
       ]
      },
      {
       "output_type": "stream",
       "stream": "stdout",
       "text": [
        "\r",
        "extracting kp from img  27/100"
       ]
      },
      {
       "output_type": "stream",
       "stream": "stdout",
       "text": [
        "\r",
        "extracting kp from img  28/100"
       ]
      },
      {
       "output_type": "stream",
       "stream": "stdout",
       "text": [
        "\r",
        "extracting kp from img  29/100"
       ]
      },
      {
       "output_type": "stream",
       "stream": "stdout",
       "text": [
        "\r",
        "extracting kp from img  30/100"
       ]
      },
      {
       "output_type": "stream",
       "stream": "stdout",
       "text": [
        "\r",
        "extracting kp from img  31/100"
       ]
      },
      {
       "output_type": "stream",
       "stream": "stdout",
       "text": [
        "\r",
        "extracting kp from img  32/100"
       ]
      },
      {
       "output_type": "stream",
       "stream": "stdout",
       "text": [
        "\r",
        "extracting kp from img  33/100"
       ]
      },
      {
       "output_type": "stream",
       "stream": "stdout",
       "text": [
        "\r",
        "extracting kp from img  34/100"
       ]
      },
      {
       "output_type": "stream",
       "stream": "stdout",
       "text": [
        "\r",
        "extracting kp from img  35/100"
       ]
      },
      {
       "output_type": "stream",
       "stream": "stdout",
       "text": [
        "\r",
        "extracting kp from img  36/100"
       ]
      },
      {
       "output_type": "stream",
       "stream": "stdout",
       "text": [
        "\r",
        "extracting kp from img  37/100"
       ]
      },
      {
       "output_type": "stream",
       "stream": "stdout",
       "text": [
        "\r",
        "extracting kp from img  38/100"
       ]
      },
      {
       "output_type": "stream",
       "stream": "stdout",
       "text": [
        "\r",
        "extracting kp from img  39/100"
       ]
      },
      {
       "output_type": "stream",
       "stream": "stdout",
       "text": [
        "\r",
        "extracting kp from img  40/100"
       ]
      },
      {
       "output_type": "stream",
       "stream": "stdout",
       "text": [
        "\r",
        "extracting kp from img  41/100"
       ]
      },
      {
       "output_type": "stream",
       "stream": "stdout",
       "text": [
        "\r",
        "extracting kp from img  42/100"
       ]
      },
      {
       "output_type": "stream",
       "stream": "stdout",
       "text": [
        "\r",
        "extracting kp from img  43/100"
       ]
      },
      {
       "output_type": "stream",
       "stream": "stdout",
       "text": [
        "\r",
        "extracting kp from img  44/100"
       ]
      },
      {
       "output_type": "stream",
       "stream": "stdout",
       "text": [
        "\r",
        "extracting kp from img  45/100"
       ]
      },
      {
       "output_type": "stream",
       "stream": "stdout",
       "text": [
        "\r",
        "extracting kp from img  46/100"
       ]
      },
      {
       "output_type": "stream",
       "stream": "stdout",
       "text": [
        "\r",
        "extracting kp from img  47/100"
       ]
      },
      {
       "output_type": "stream",
       "stream": "stdout",
       "text": [
        "\r",
        "extracting kp from img  48/100"
       ]
      },
      {
       "output_type": "stream",
       "stream": "stdout",
       "text": [
        "\r",
        "extracting kp from img  49/100"
       ]
      },
      {
       "output_type": "stream",
       "stream": "stdout",
       "text": [
        "\r",
        "extracting kp from img  50/100"
       ]
      },
      {
       "output_type": "stream",
       "stream": "stdout",
       "text": [
        "\r",
        "extracting kp from img  51/100"
       ]
      },
      {
       "output_type": "stream",
       "stream": "stdout",
       "text": [
        "\r",
        "extracting kp from img  52/100"
       ]
      },
      {
       "output_type": "stream",
       "stream": "stdout",
       "text": [
        "\r",
        "extracting kp from img  53/100"
       ]
      },
      {
       "output_type": "stream",
       "stream": "stdout",
       "text": [
        "\r",
        "extracting kp from img  54/100"
       ]
      },
      {
       "output_type": "stream",
       "stream": "stdout",
       "text": [
        "\r",
        "extracting kp from img  55/100"
       ]
      },
      {
       "output_type": "stream",
       "stream": "stdout",
       "text": [
        "\r",
        "extracting kp from img  56/100"
       ]
      },
      {
       "output_type": "stream",
       "stream": "stdout",
       "text": [
        "\r",
        "extracting kp from img  57/100"
       ]
      },
      {
       "output_type": "stream",
       "stream": "stdout",
       "text": [
        "\r",
        "extracting kp from img  58/100"
       ]
      },
      {
       "output_type": "stream",
       "stream": "stdout",
       "text": [
        "\r",
        "extracting kp from img  59/100"
       ]
      },
      {
       "output_type": "stream",
       "stream": "stdout",
       "text": [
        "\r",
        "extracting kp from img  60/100"
       ]
      },
      {
       "output_type": "stream",
       "stream": "stdout",
       "text": [
        "\r",
        "extracting kp from img  61/100"
       ]
      },
      {
       "output_type": "stream",
       "stream": "stdout",
       "text": [
        "\r",
        "extracting kp from img  62/100"
       ]
      },
      {
       "output_type": "stream",
       "stream": "stdout",
       "text": [
        "\r",
        "extracting kp from img  63/100"
       ]
      },
      {
       "output_type": "stream",
       "stream": "stdout",
       "text": [
        "\r",
        "extracting kp from img  64/100"
       ]
      },
      {
       "output_type": "stream",
       "stream": "stdout",
       "text": [
        "\r",
        "extracting kp from img  65/100"
       ]
      },
      {
       "output_type": "stream",
       "stream": "stdout",
       "text": [
        "\r",
        "extracting kp from img  66/100"
       ]
      },
      {
       "output_type": "stream",
       "stream": "stdout",
       "text": [
        "\r",
        "extracting kp from img  67/100"
       ]
      },
      {
       "output_type": "stream",
       "stream": "stdout",
       "text": [
        "\r",
        "extracting kp from img  68/100"
       ]
      },
      {
       "output_type": "stream",
       "stream": "stdout",
       "text": [
        "\r",
        "extracting kp from img  69/100"
       ]
      },
      {
       "output_type": "stream",
       "stream": "stdout",
       "text": [
        "\r",
        "extracting kp from img  70/100"
       ]
      },
      {
       "output_type": "stream",
       "stream": "stdout",
       "text": [
        "\r",
        "extracting kp from img  71/100"
       ]
      },
      {
       "output_type": "stream",
       "stream": "stdout",
       "text": [
        "\r",
        "extracting kp from img  72/100"
       ]
      },
      {
       "output_type": "stream",
       "stream": "stdout",
       "text": [
        "\r",
        "extracting kp from img  73/100"
       ]
      },
      {
       "output_type": "stream",
       "stream": "stdout",
       "text": [
        "\r",
        "extracting kp from img  74/100"
       ]
      },
      {
       "output_type": "stream",
       "stream": "stdout",
       "text": [
        "\r",
        "extracting kp from img  75/100"
       ]
      },
      {
       "output_type": "stream",
       "stream": "stdout",
       "text": [
        "\r",
        "extracting kp from img  76/100"
       ]
      },
      {
       "output_type": "stream",
       "stream": "stdout",
       "text": [
        "\r",
        "extracting kp from img  77/100"
       ]
      },
      {
       "output_type": "stream",
       "stream": "stdout",
       "text": [
        "\r",
        "extracting kp from img  78/100"
       ]
      },
      {
       "output_type": "stream",
       "stream": "stdout",
       "text": [
        "\r",
        "extracting kp from img  79/100"
       ]
      },
      {
       "output_type": "stream",
       "stream": "stdout",
       "text": [
        "\r",
        "extracting kp from img  80/100"
       ]
      },
      {
       "output_type": "stream",
       "stream": "stdout",
       "text": [
        "\r",
        "extracting kp from img  81/100"
       ]
      },
      {
       "output_type": "stream",
       "stream": "stdout",
       "text": [
        "\r",
        "extracting kp from img  82/100"
       ]
      },
      {
       "output_type": "stream",
       "stream": "stdout",
       "text": [
        "\r",
        "extracting kp from img  83/100"
       ]
      },
      {
       "output_type": "stream",
       "stream": "stdout",
       "text": [
        "\r",
        "extracting kp from img  84/100"
       ]
      },
      {
       "output_type": "stream",
       "stream": "stdout",
       "text": [
        "\r",
        "extracting kp from img  85/100"
       ]
      },
      {
       "output_type": "stream",
       "stream": "stdout",
       "text": [
        "\r",
        "extracting kp from img  86/100"
       ]
      },
      {
       "output_type": "stream",
       "stream": "stdout",
       "text": [
        "\r",
        "extracting kp from img  87/100"
       ]
      },
      {
       "output_type": "stream",
       "stream": "stdout",
       "text": [
        "\r",
        "extracting kp from img  88/100"
       ]
      },
      {
       "output_type": "stream",
       "stream": "stdout",
       "text": [
        "\r",
        "extracting kp from img  89/100"
       ]
      },
      {
       "output_type": "stream",
       "stream": "stdout",
       "text": [
        "\r",
        "extracting kp from img  90/100"
       ]
      },
      {
       "output_type": "stream",
       "stream": "stdout",
       "text": [
        "\r",
        "extracting kp from img  91/100"
       ]
      },
      {
       "output_type": "stream",
       "stream": "stdout",
       "text": [
        "\r",
        "extracting kp from img  92/100"
       ]
      },
      {
       "output_type": "stream",
       "stream": "stdout",
       "text": [
        "\r",
        "extracting kp from img  93/100"
       ]
      },
      {
       "output_type": "stream",
       "stream": "stdout",
       "text": [
        "\r",
        "extracting kp from img  94/100"
       ]
      },
      {
       "output_type": "stream",
       "stream": "stdout",
       "text": [
        "\r",
        "extracting kp from img  95/100"
       ]
      },
      {
       "output_type": "stream",
       "stream": "stdout",
       "text": [
        "\r",
        "extracting kp from img  96/100"
       ]
      },
      {
       "output_type": "stream",
       "stream": "stdout",
       "text": [
        "\r",
        "extracting kp from img  97/100"
       ]
      },
      {
       "output_type": "stream",
       "stream": "stdout",
       "text": [
        "\r",
        "extracting kp from img  98/100"
       ]
      },
      {
       "output_type": "stream",
       "stream": "stdout",
       "text": [
        "\r",
        "extracting kp from img  99/100"
       ]
      },
      {
       "output_type": "stream",
       "stream": "stdout",
       "text": [
        "\r",
        "extracting kp from img 100/100"
       ]
      },
      {
       "output_type": "stream",
       "stream": "stdout",
       "text": [
        " no average\n"
       ]
      }
     ],
     "prompt_number": 19
    },
    {
     "cell_type": "code",
     "collapsed": true,
     "input": [
      "# some of the recentering seems to fail - only sometimes - on Palomar data and I can't work out why, so here are \n",
      "# some quick and easy tricks to get rid of bad kernel phases. \n",
      "# I have commented out lines that do this. Don't need to run this if it all looks ok! \n",
      "\n",
      "# newkpds = np.zeros(a.kpd.shape[1])\n",
      "# newkpes = np.zeros(a.kpd.shape[1])\n",
      "# for j in range(a.kpd.shape[1]):\n",
      "# \tnewsignal = pysco.clip_signal(a.kpd[:,j],threshold=2.0)\n",
      "# \tnewkpds[j],newkpes[j] = np.mean(newsignal),np.std(newsignal)/np.sqrt(np.size(newsignal))\n",
      "\n",
      "# a.kpd,a.kpe = newkpds,newkpes\n",
      "\n",
      "a.kpe = np.std(a.kpd,axis=0)/np.sqrt(a.kpd.shape[0])\n",
      "\n",
      "# b.kpe = np.std(a.kpd,axis=0)\n",
      "# b.kpd = np.mean(a.kpd,axis=0)\n",
      "\n",
      "# newkpds = np.zeros(b.kpd.shape[1])\n",
      "# newkpes = np.zeros(b.kpd.shape[1])\n",
      "# for j in range(b.kpd.shape[1]):\n",
      "# \tnewsignal = pysco.clip_signal(b.kpd[:,j],threshold=2.0)\n",
      "# \tnewkpds[j],newkpes[j] = np.mean(newsignal),np.std(newsignal)/np.sqrt(np.size(newsignal))\n",
      "\n",
      "# b.kpd,b.kpe = newkpds,newkpes\n",
      "\n",
      "b.kpe = np.std(b.kpd,axis=0)/np.sqrt(b.kpd.shape[0])\n",
      "\n",
      "# if it takes a lot of iterations this might be a bad sign and it will warn you\n",
      "# - you might want to turn off clipping! instead a.kpd = np.mean(a.kpd), a.kpe = np.std(a.kpd)/np.sqrt(nframes)\n",
      "\n",
      "if num == 0:\n",
      "    a.kpd= np.mean(a.kpd,axis=0)\n",
      "    a.nsets = 1\n",
      "    a.hdr = a.hdr[0]\n",
      "\n",
      "    b.kpd= np.mean(b.kpd,axis=0)\n",
      "    b.nsets = 1\n",
      "    b.hdr = b.hdr[0]"
     ],
     "language": "python",
     "metadata": {},
     "outputs": [],
     "prompt_number": 20
    },
    {
     "cell_type": "code",
     "collapsed": false,
     "input": [
      "#calibrate - this is a crude way to do things, but as we discuss in the paper, the systematics are bad enough \n",
      "# that it is unlikely that a clever Bayesian way of doing things would be much better\n",
      "if num == 0:\n",
      "    if no_kp:\n",
      "        addederror = 8.5\n",
      "    else:\n",
      "        addederror = 1.05\n",
      "\n",
      "    a.kpd -= b.kpd #subtract systematic\n",
      "    a.kpe = np.sqrt(a.kpe**2. + b.kpe**2.+ addederror**2.) #add statistical and measurement in quadrature\n",
      "else:\n",
      "    addederror = 10.0\n",
      "    print 'no systematic subtraction'\n",
      "    a.kpe = np.sqrt(a.kpe**2. + addederror**2.) #add statistical and measurement in quadrature\n",
      "    print addederror\n",
      "\n",
      "\n",
      "# you may want to add an error term in quadrature - see the note later! We can cheat and tell you that 1. should do the job,\n",
      "# but try 0 if you want to see how well it does without it\n"
     ],
     "language": "python",
     "metadata": {},
     "outputs": [],
     "prompt_number": 21
    },
    {
     "cell_type": "markdown",
     "metadata": {},
     "source": [
      "In the following two cells we have two different ways of fitting a model to these data - one uses MultiNest and one uses emcee.\n",
      "\n",
      "MultiNest is available at http://ccpforge.cse.rl.ac.uk/gf/project/multinest/, and is accessed through Johannes Buchner's PyMultiNest Python wrapper available at http://johannesbuchner.github.io/PyMultiNest/ . These can be difficult to install, especially on some operating systems, and we do not use these results in the final paper, as we explore the posterior pdf more fully with emcee.\n",
      "\n",
      "emcee, the 'MCMC Hammer', is available from http://dan.iel.fm/emcee/current/ and is the main sampler used in the paper as submitted. We recommend initializing this and using its default values, as this will give the same results as we report in the paper. "
     ]
    },
    {
     "cell_type": "code",
     "collapsed": false,
     "input": [
      "# # MultiNest Option \n",
      "\n",
      "results = pysco.nest(b,paramlimits=[50.,200.,0.,360.,10,50])\n",
      "\n",
      "params = [results[0]['median'],results[1]['median'],results[2]['median']]\n",
      "\n",
      "print 'Sep %.3f mas  Position angle %.3f deg  Contrast %.3f' % (params[0], params[1], params[2])  "
     ],
     "language": "python",
     "metadata": {},
     "outputs": [
      {
       "output_type": "stream",
       "stream": "stdout",
       "text": [
        "  analysing data from chains/1-.txt\n",
        "Time elapsed ="
       ]
      },
      {
       "output_type": "stream",
       "stream": "stdout",
       "text": [
        " 2.01795481443 mins\n",
        "\n",
        "------------------------------ ANALYSIS ------------------------------\n",
        "Global Evidence:\n",
        "\t-2.901493932934148e+03 +- 1.482214637250132e-01\n",
        "Separation: 128.599 pm 0.04\n",
        "Position angle: 86.333 pm 0.01\n",
        "Contrast at 2.15 um: 23.360 pm 0.023\n",
        "Sep 128.599 mas  Position angle 86.333 deg  Contrast 23.360\n"
       ]
      }
     ],
     "prompt_number": 8
    },
    {
     "cell_type": "code",
     "collapsed": false,
     "input": [
      "flatchain = pysco.hammer(b,ivar = [131.23, 83, 27.59],burnin=200,nsteps=1000, paramlimits=[40,250,0,360,5,50.]) \n",
      "# Parameters as determined by aperture masking: [131.23, 82.84, 27.59]\n",
      "\n",
      "seps = flatchain[:,0]\n",
      "ths = flatchain[:,1]\n",
      "cons = flatchain[:,2]\n",
      "\n",
      "sep = np.mean(seps)\n",
      "\n",
      "th = np.mean(ths) # remember on Palomar the position angle goes the other way - so check this is not 360 - your answer!\n",
      "\n",
      "con = np.mean(cons)\n",
      "\n",
      "print 'Sep %.3f mas  Position angle %.2f deg  Contrast %.3f' % (sep, th, con)  \n",
      "params = [sep,th,con]\n"
     ],
     "language": "python",
     "metadata": {},
     "outputs": [
      {
       "output_type": "stream",
       "stream": "stdout",
       "text": [
        "Running emcee now!\n",
        "Burnt in! Took 38.887 seconds"
       ]
      },
      {
       "output_type": "stream",
       "stream": "stdout",
       "text": [
        "\n",
        "Time elapsed = 240.022 s"
       ]
      },
      {
       "output_type": "stream",
       "stream": "stdout",
       "text": [
        "\n",
        "Separation 128.600 pm 0.041 mas\n",
        "Position angle 86.333 pm 0.011 deg\n",
        "Contrast at 2.15 um 23.359 pm 0.023\n",
        "Sep 128.600 mas  Position angle 86.33 deg  Contrast 23.359\n"
       ]
      }
     ],
     "prompt_number": 9
    },
    {
     "cell_type": "code",
     "collapsed": false,
     "input": [
      "# now plot your results! requires emcee output \n",
      "# if you have outliers you may have to fiddle with the extents \n",
      "\n",
      "fig = triangle.corner(flatchain, labels=[\"Separation (mas)\", \"Position Angle (deg)\", \"Contrast\"])#, extents = [0.92,0.92,0.92])\n",
      "plt.show()\n",
      "plt.savefig('./posterior.png')"
     ],
     "language": "python",
     "metadata": {},
     "outputs": [
      {
       "metadata": {},
       "output_type": "display_data",
       "png": "[encoded data removed]",
       "text": [
        "<matplotlib.figure.Figure at 0x7fcbfa13f690>"
       ]
      },
      {
       "metadata": {},
       "output_type": "display_data",
       "text": [
        "<matplotlib.figure.Figure at 0x7fcbf9bd4ad0>"
       ]
      }
     ],
     "prompt_number": 10
    },
    {
     "cell_type": "code",
     "collapsed": false,
     "input": [
      "params = [sep,th,con]\n",
      "d = pysco.binary_model(params,a.kpi,a.hdr)\n",
      "\n",
      "plt.clf()\n",
      "mm = np.round(np.max(np.abs(a.kpd)))\n",
      "plt.errorbar(d,a.kpd,yerr=0,fmt='b.')\n",
      "plt.plot([-mm,mm],[-mm,mm], 'g')\n",
      "plt.axis('tight',fontsize='large')\n",
      "if no_kp:\n",
      "    plt.xlabel('Model Phases',fontsize='large')\n",
      "    plt.ylabel('Raw Phase Signal', fontsize='large')\n",
      "    plt.title('Raw Phase Correlation Diagram',\n",
      "\t\t  fontsize='large')\n",
      "else:\n",
      "    plt.xlabel('Model Kernel Phases',fontsize='large')\n",
      "    plt.ylabel('Kernel Phase Signal', fontsize='large')\n",
      "    plt.title('Kernel Phase Correlation Diagram',\n",
      "\t\t  fontsize='large')\n",
      "plt.draw()\n",
      "plt.show()\n",
      "plt.savefig('./correlation_Ks.png')\n"
     ],
     "language": "python",
     "metadata": {},
     "outputs": [
      {
       "metadata": {},
       "output_type": "display_data",
       "png": "[encoded data removed]",
       "text": [
        "<matplotlib.figure.Figure at 0x7fcbfa13fc90>"
       ]
      },
      {
       "metadata": {},
       "output_type": "display_data",
       "text": [
        "<matplotlib.figure.Figure at 0x7fcbf7ea7ad0>"
       ]
      }
     ],
     "prompt_number": 11
    },
    {
     "cell_type": "markdown",
     "metadata": {},
     "source": [
      "There is a problem in the above! As you'll notice if you don't include an error term added in quadrature, it's got enormously more scatter than the error bars suggest. This is because the error bars are probably way too small - they are derived from scatter in the observations, whereas we know that due to saturation, a ghost (!) and poor AO performance they are likely to suffer from a systematic offset as well.\n",
      "\n",
      "As a result, we will recalculate all of the above, adding a second error term in quadrature to get a chi2 of 1 and redoing the MCMC.\n",
      "\n",
      "To help you out, as we note above, we found that the best error to do this is 1 degree, but feel free to play with this."
     ]
    },
    {
     "cell_type": "code",
     "collapsed": false,
     "input": [
      "chi2 = np.sum(((a.kpd -d)/a.kpe)**2.)\n",
      "\n",
      "print 'Reduced chi2 = %03f'%(chi2/(a.kpi.nkphi-4.))"
     ],
     "language": "python",
     "metadata": {},
     "outputs": [
      {
       "output_type": "stream",
       "stream": "stdout",
       "text": [
        "Reduced chi2 = 0.000108\n"
       ]
      }
     ],
     "prompt_number": 12
    },
    {
     "cell_type": "heading",
     "level": 2,
     "metadata": {},
     "source": [
      "Thank you for taking the time to read this! I hope this was enlightening and maybe you can even use some of this in your own research.\n",
      "\n",
      "Cheers,\n",
      "\n",
      "Ben"
     ]
    },
    {
     "cell_type": "code",
     "collapsed": false,
     "input": [
      "'''------------------------------------------------\n",
      "Write out a cleaned stacked cube\n",
      "------------------------------------------------'''\n",
      "\n",
      "#read it in - using the pysco routine so as to get the centering correct\n",
      "\n",
      "cube,hdr = pysco.load_cube(ddir+fnames[0])\n",
      "\n",
      "#stack centred images\n",
      "stacked_cube = np.sum(cube,axis = 0)\n",
      "\n",
      "#now save as a .fits file\n",
      "try:\n",
      "    f = fitsio.FITS('./stacked_cube_%s_%s.fits'%(tnames[0],bandn),'rw')\n",
      "    f.write(stacked_cube,hdr=hdr)\n",
      "    f.close()\n",
      "    print 'Written as ./stacked_cube_%s_%s.fits'%(tnames[0],bandn)\n",
      "except:\n",
      "    print 'Failed to write'\n",
      "\n",
      "#do calibrator\n",
      "calcube,calhdr = pysco.load_cube(ddir+fnames[1])\n",
      "\n",
      "#stack centred images\n",
      "stacked_cube_cal = np.sum(calcube,axis = 0)\n",
      "\n",
      "#now save as a .fits file\n",
      "try:\n",
      "    f = fitsio.FITS('./stacked_cube_%s_%s_cal.fits'%(tnames[1],bandn),'rw')\n",
      "    f.write(stacked_cube_cal,hdr=hdr)\n",
      "    f.close()\n",
      "    print 'Written as ./stacked_cube_%s_%s_cal.fits'%(tnames[1],bandn)\n",
      "except:\n",
      "    print 'Failed to write'"
     ],
     "language": "python",
     "metadata": {},
     "outputs": [
      {
       "ename": "KeyError",
       "evalue": "\"Keyword 'NAXIS3' not found.\"",
       "output_type": "pyerr",
       "traceback": [
        "\u001b[1;31m---------------------------------------------------------------------------\u001b[0m\n\u001b[1;31mKeyError\u001b[0m                                  Traceback (most recent call last)",
        "\u001b[1;32m<ipython-input-13-102a36e7ea3e>\u001b[0m in \u001b[0;36m<module>\u001b[1;34m()\u001b[0m\n\u001b[0;32m      5\u001b[0m \u001b[1;31m#read it in - using the pysco routine so as to get the centering correct\u001b[0m\u001b[1;33m\u001b[0m\u001b[1;33m\u001b[0m\u001b[0m\n\u001b[0;32m      6\u001b[0m \u001b[1;33m\u001b[0m\u001b[0m\n\u001b[1;32m----> 7\u001b[1;33m \u001b[0mcube\u001b[0m\u001b[1;33m,\u001b[0m\u001b[0mhdr\u001b[0m \u001b[1;33m=\u001b[0m \u001b[0mpysco\u001b[0m\u001b[1;33m.\u001b[0m\u001b[0mload_cube\u001b[0m\u001b[1;33m(\u001b[0m\u001b[0mddir\u001b[0m\u001b[1;33m+\u001b[0m\u001b[0mfnames\u001b[0m\u001b[1;33m[\u001b[0m\u001b[1;36m0\u001b[0m\u001b[1;33m]\u001b[0m\u001b[1;33m)\u001b[0m\u001b[1;33m\u001b[0m\u001b[0m\n\u001b[0m\u001b[0;32m      8\u001b[0m \u001b[1;33m\u001b[0m\u001b[0m\n\u001b[0;32m      9\u001b[0m \u001b[1;31m#stack centred images\u001b[0m\u001b[1;33m\u001b[0m\u001b[1;33m\u001b[0m\u001b[0m\n",
        "\u001b[1;32m/home/ben/code/whisky/whisky/core.pyc\u001b[0m in \u001b[0;36mload_cube\u001b[1;34m(fname, sg_rad)\u001b[0m\n\u001b[0;32m   1035\u001b[0m     \u001b[0mhdr\u001b[0m \u001b[1;33m=\u001b[0m \u001b[0mpf\u001b[0m\u001b[1;33m.\u001b[0m\u001b[0mgetheader\u001b[0m\u001b[1;33m(\u001b[0m\u001b[0mfname\u001b[0m\u001b[1;33m)\u001b[0m\u001b[1;33m\u001b[0m\u001b[0m\n\u001b[0;32m   1036\u001b[0m \u001b[1;33m\u001b[0m\u001b[0m\n\u001b[1;32m-> 1037\u001b[1;33m     \u001b[0mnslices\u001b[0m \u001b[1;33m=\u001b[0m \u001b[0mhdr\u001b[0m\u001b[1;33m[\u001b[0m\u001b[1;34m'NAXIS3'\u001b[0m\u001b[1;33m]\u001b[0m\u001b[1;33m\u001b[0m\u001b[0m\n\u001b[0m\u001b[0;32m   1038\u001b[0m \u001b[1;33m\u001b[0m\u001b[0m\n\u001b[0;32m   1039\u001b[0m     \u001b[1;32mif\u001b[0m \u001b[0msg_rad\u001b[0m\u001b[1;33m<=\u001b[0m\u001b[1;36m0\u001b[0m \u001b[1;33m:\u001b[0m \u001b[0msg_rad\u001b[0m\u001b[1;33m=\u001b[0m\u001b[0mdcube\u001b[0m\u001b[1;33m.\u001b[0m\u001b[0mshape\u001b[0m\u001b[1;33m[\u001b[0m\u001b[1;36m1\u001b[0m\u001b[1;33m]\u001b[0m\u001b[1;33m\u001b[0m\u001b[0m\n",
        "\u001b[1;32m/usr/local/lib/python2.7/dist-packages/pyfits/header.pyc\u001b[0m in \u001b[0;36m__getitem__\u001b[1;34m(self, key)\u001b[0m\n\u001b[0;32m    141\u001b[0m         \u001b[1;32melse\u001b[0m\u001b[1;33m:\u001b[0m\u001b[1;33m\u001b[0m\u001b[0m\n\u001b[0;32m    142\u001b[0m             \u001b[0mkeyword\u001b[0m \u001b[1;33m=\u001b[0m \u001b[0mkey\u001b[0m\u001b[1;33m\u001b[0m\u001b[0m\n\u001b[1;32m--> 143\u001b[1;33m         \u001b[0mcard\u001b[0m \u001b[1;33m=\u001b[0m \u001b[0mself\u001b[0m\u001b[1;33m.\u001b[0m\u001b[0m_cards\u001b[0m\u001b[1;33m[\u001b[0m\u001b[0mself\u001b[0m\u001b[1;33m.\u001b[0m\u001b[0m_cardindex\u001b[0m\u001b[1;33m(\u001b[0m\u001b[0mkey\u001b[0m\u001b[1;33m)\u001b[0m\u001b[1;33m]\u001b[0m\u001b[1;33m\u001b[0m\u001b[0m\n\u001b[0m\u001b[0;32m    144\u001b[0m         \u001b[1;32mif\u001b[0m \u001b[0mcard\u001b[0m\u001b[1;33m.\u001b[0m\u001b[0mfield_specifier\u001b[0m \u001b[1;32mis\u001b[0m \u001b[1;32mnot\u001b[0m \u001b[0mNone\u001b[0m \u001b[1;32mand\u001b[0m \u001b[0mkeyword\u001b[0m \u001b[1;33m==\u001b[0m \u001b[0mcard\u001b[0m\u001b[1;33m.\u001b[0m\u001b[0mrawkeyword\u001b[0m\u001b[1;33m:\u001b[0m\u001b[1;33m\u001b[0m\u001b[0m\n\u001b[0;32m    145\u001b[0m             \u001b[1;31m# This is RVKC; if only the top-level keyword was specified return\u001b[0m\u001b[1;33m\u001b[0m\u001b[1;33m\u001b[0m\u001b[0m\n",
        "\u001b[1;32m/usr/local/lib/python2.7/dist-packages/pyfits/header.pyc\u001b[0m in \u001b[0;36m_cardindex\u001b[1;34m(self, key)\u001b[0m\n\u001b[0;32m   1712\u001b[0m \u001b[1;33m\u001b[0m\u001b[0m\n\u001b[0;32m   1713\u001b[0m         \u001b[1;32mif\u001b[0m \u001b[1;32mnot\u001b[0m \u001b[0mindices\u001b[0m\u001b[1;33m:\u001b[0m\u001b[1;33m\u001b[0m\u001b[0m\n\u001b[1;32m-> 1714\u001b[1;33m             \u001b[1;32mraise\u001b[0m \u001b[0mKeyError\u001b[0m\u001b[1;33m(\u001b[0m\u001b[1;34m\"Keyword %r not found.\"\u001b[0m \u001b[1;33m%\u001b[0m \u001b[0mkeyword\u001b[0m\u001b[1;33m)\u001b[0m\u001b[1;33m\u001b[0m\u001b[0m\n\u001b[0m\u001b[0;32m   1715\u001b[0m \u001b[1;33m\u001b[0m\u001b[0m\n\u001b[0;32m   1716\u001b[0m         \u001b[1;32mtry\u001b[0m\u001b[1;33m:\u001b[0m\u001b[1;33m\u001b[0m\u001b[0m\n",
        "\u001b[1;31mKeyError\u001b[0m: \"Keyword 'NAXIS3' not found.\""
       ]
      }
     ],
     "prompt_number": 13
    },
    {
     "cell_type": "heading",
     "level": 2,
     "metadata": {},
     "source": [
      "Now we're going to use Alex and Mike's MEM code to try and use the kernel phase information to deconvolve the images differently. This at present uses a high-contrast approximation (small-phase, ie phase ~ imaginary component) to simplify the matrices (DFT -> sine, so no complex operations)."
     ]
    },
    {
     "cell_type": "code",
     "collapsed": false,
     "input": [
      "'''----------------------------------------------------\n",
      "Now to make deconvolved images! \n",
      "\n",
      "In mk_kp2implane run kerphimobj(kpi, keywords), \n",
      "giving it a kpi object & some necessary keywords outlined\n",
      "in the code, importantly kerph and kerpherr --- a set of \n",
      "kernel phases (radians) and errors. \n",
      "----------------------------------------------------'''\n",
      "\n",
      "from imaging import *\n",
      "\n",
      "fov = 40\n",
      "tic1= time()\n",
      "kpimobj = kerphimobj(a,fov=fov)\n",
      "if no_kp:\n",
      "    kpimobj.name = 'test_no_kp'\n",
      "else:\n",
      "    kpimobj.name = 'test'\n",
      "kpimobj.kp2pm,kpimobj.sym2im = kpimobj.kerph2im(theta=a.hdr['orient'])\n",
      "toc1=time()\n",
      "kpimobj.write()\n",
      "print toc1-tic1, 'seconds elapsed'"
     ],
     "language": "python",
     "metadata": {},
     "outputs": [
      {
       "output_type": "stream",
       "stream": "stderr",
       "text": [
        "WARNING:astropy:Overwriting existing file 'kerphim_test.fits'.\n"
       ]
      },
      {
       "output_type": "stream",
       "stream": "stdout",
       "text": [
        "WARNING: Overwriting existing file 'kerphim_test.fits'. [astropy.io.fits.hdu.hdulist]\n",
        "8.47597694397 seconds elapsed\n"
       ]
      }
     ],
     "prompt_number": 22
    },
    {
     "cell_type": "code",
     "collapsed": false,
     "input": [
      "'''------------------------------\n",
      "Now run it!\n",
      "------------------------------'''\n",
      "\n",
      "#\timsize -- the size of the image in pixels, needs to match input\n",
      "#\t\t\t  file 'pixel matrix' size\n",
      "#\talpha  -- A starting value for the MEM functional multiplier (default=1.0)\n",
      "#\tgain   -- The servo gain for adjusting alpha to achieve chi^2=1\n",
      "#\tniter  -- number of iterations\n",
      "#\tprior  -- as mentioned at the start of this script, the prior\n",
      "#\t\t\t  is used to contrain the flux\n",
      "\n",
      "from imaging import *\n",
      "%matplotlib inline\n",
      "\n",
      "'''defaults'''\n",
      "if no_kp:\n",
      "    imsize = 40\n",
      "    alpha = 0.5\n",
      "    gain = 0.0001\n",
      "    prior = np.ones(imsize**2)/imsize**2.0\n",
      "else:\n",
      "    imsize = 40\n",
      "    alpha = 10\n",
      "    gain = 0.0001\n",
      "    prior = np.ones(imsize**2)/imsize**2.0\n",
      "\n",
      "# xx,yy= np.meshgrid(np.arange(imsize)-imsize/2.,np.arange(imsize)-imsize/2.)\n",
      "# rr = np.sqrt(xx**2. + yy**2.)\n",
      "# prior1= np.exp(-(rr/(imsize/2.))**2)\n",
      "# prior = np.ravel(prior1/np.sum(prior1))\n",
      "\n",
      "niter = 400\n",
      "if no_kp:\n",
      "    fname_im = 'kerphim_test_no_kp.fits'\n",
      "else:\n",
      "    fname_im = 'kerphim_test.fits'\n",
      "# trial.read_data(fname_im)\n",
      "\n",
      "tic = time()\n",
      "trial = MemImage(fname_im, niter=niter,imsize=imsize,alpha=alpha,gain=gain,prior=prior)\n",
      "im = trial.mem_image()\n",
      "toc = time()\n",
      "print toc-tic, 'seconds elapsed'\n",
      "\n",
      "\n",
      "#now save as a .fits file\n",
      "try:\n",
      "    f = fitsio.FITS('./mem_image_kp.fits','rw')\n",
      "    f.write(im)\n",
      "    f.close()\n",
      "    print 'Written as ./mem_image_kp.fits'\n",
      "except:\n",
      "    print 'Failed to write'\n"
     ],
     "language": "python",
     "metadata": {},
     "outputs": [
      {
       "output_type": "stream",
       "stream": "stdout",
       "text": [
        "Initialized: image size 40\n",
        "Done: 10 of 400 iterations. Chi^2: 1521.22238471 alpha: 9.99699097744 chi2diff: -0.644265299443"
       ]
      },
      {
       "output_type": "stream",
       "stream": "stdout",
       "text": [
        "\n",
        "Done: 20 of 400 iterations. Chi^2: 1075.15290409 alpha: 9.99361256681 chi2diff: -0.152937215855"
       ]
      },
      {
       "output_type": "stream",
       "stream": "stdout",
       "text": [
        "\n",
        "Done: 30 of 400 iterations. Chi^2: 997.040228072 alpha: 9.99286366712 chi2diff: -0.056522242734"
       ]
      },
      {
       "output_type": "stream",
       "stream": "stdout",
       "text": [
        "\n",
        "Done: 40 of 400 iterations. Chi^2: 1010.7866051 alpha: 9.99218391169 chi2diff: -0.0767970908206"
       ]
      },
      {
       "output_type": "stream",
       "stream": "stdout",
       "text": [
        "\n",
        "Done: 50 of 400 iterations. Chi^2: 973.310499892 alpha: 9.99167649102 chi2diff: -0.0351193660844"
       ]
      },
      {
       "output_type": "stream",
       "stream": "stdout",
       "text": [
        "\n",
        "Done: 60 of 400 iterations. Chi^2: 966.407382956 alpha: 9.99138841351 chi2diff: -0.0258500230956"
       ]
      },
      {
       "output_type": "stream",
       "stream": "stdout",
       "text": [
        "\n",
        "Done: 70 of 400 iterations. Chi^2: 952.590767785 alpha: 9.99121346661 chi2diff: -0.0101044216484"
       ]
      },
      {
       "output_type": "stream",
       "stream": "stdout",
       "text": [
        "\n",
        "Done: 80 of 400 iterations. Chi^2: 952.703446157 alpha: 9.99111948754 chi2diff: -0.010267102483"
       ]
      },
      {
       "output_type": "stream",
       "stream": "stdout",
       "text": [
        "\n",
        "Done: 90 of 400 iterations. Chi^2: 953.928840994 alpha: 9.99100455879 chi2diff: -0.011589444704"
       ]
      },
      {
       "output_type": "stream",
       "stream": "stdout",
       "text": [
        "\n",
        "Done: 100 of 400 iterations. Chi^2: 953.493259714 alpha: 9.99089175931 chi2diff: -0.0111270074106"
       ]
      },
      {
       "output_type": "stream",
       "stream": "stdout",
       "text": [
        "\n",
        "Done: 110 of 400 iterations. Chi^2: 952.843470211 alpha: 9.99078508942 chi2diff: -0.0104380038538"
       ]
      },
      {
       "output_type": "stream",
       "stream": "stdout",
       "text": [
        "\n",
        "Done: 120 of 400 iterations. Chi^2: 953.000005143 alpha: 9.99067995368 chi2diff: -0.0106040978535"
       ]
      },
      {
       "output_type": "stream",
       "stream": "stdout",
       "text": [
        "\n",
        "Done: 130 of 400 iterations. Chi^2: 953.019596586 alpha: 9.99057392904 chi2diff: -0.0106252411887"
       ]
      },
      {
       "output_type": "stream",
       "stream": "stdout",
       "text": [
        "\n",
        "Done: 140 of 400 iterations. Chi^2: 953.001333525 alpha: 9.99046779785 chi2diff: -0.0106157510659"
       ]
      },
      {
       "output_type": "stream",
       "stream": "stdout",
       "text": [
        "\n",
        "Done: 150 of 400 iterations. Chi^2: 952.99077596 alpha: 9.99036190127 chi2diff: -0.01059493417"
       ]
      },
      {
       "output_type": "stream",
       "stream": "stdout",
       "text": [
        "\n",
        "Done: 160 of 400 iterations. Chi^2: 952.980699199 alpha: 9.99025609864 chi2diff: -0.0105849926492"
       ]
      },
      {
       "output_type": "stream",
       "stream": "stdout",
       "text": [
        "\n",
        "Done: 170 of 400 iterations. Chi^2: 952.974490332 alpha: 9.99015040222 chi2diff: -0.0105792929444"
       ]
      },
      {
       "output_type": "stream",
       "stream": "stdout",
       "text": [
        "\n",
        "Done: 180 of 400 iterations. Chi^2: 952.969028077 alpha: 9.99004475589 chi2diff: -0.0105728436105"
       ]
      },
      {
       "output_type": "stream",
       "stream": "stdout",
       "text": [
        "\n",
        "Done: 190 of 400 iterations. Chi^2: 952.960303369 alpha: 9.98993919391 chi2diff: -0.010562216292"
       ]
      },
      {
       "output_type": "stream",
       "stream": "stdout",
       "text": [
        "\n",
        "Done: 200 of 400 iterations. Chi^2: 952.9507539 alpha: 9.98983373558 chi2diff: -0.010552174397"
       ]
      },
      {
       "output_type": "stream",
       "stream": "stdout",
       "text": [
        "\n",
        "Done: 210 of 400 iterations. Chi^2: 952.943124738 alpha: 9.9897283581 chi2diff: -0.0105441407618"
       ]
      },
      {
       "output_type": "stream",
       "stream": "stdout",
       "text": [
        "\n",
        "Done: 220 of 400 iterations. Chi^2: 952.935493801 alpha: 9.98962305477 chi2diff: -0.0105369152025"
       ]
      },
      {
       "output_type": "stream",
       "stream": "stdout",
       "text": [
        "\n",
        "Done: 230 of 400 iterations. Chi^2: 952.930708209 alpha: 9.98951783146 chi2diff: -0.0105309737108"
       ]
      },
      {
       "output_type": "stream",
       "stream": "stdout",
       "text": [
        "\n",
        "Done: 240 of 400 iterations. Chi^2: 952.922879207 alpha: 9.98941266213 chi2diff: -0.0105255019547"
       ]
      },
      {
       "output_type": "stream",
       "stream": "stdout",
       "text": [
        "\n",
        "Done: 250 of 400 iterations. Chi^2: 952.916408768 alpha: 9.98930758148 chi2diff: -0.0105158315352"
       ]
      },
      {
       "output_type": "stream",
       "stream": "stdout",
       "text": [
        "\n",
        "Done: 260 of 400 iterations. Chi^2: 952.90856643 alpha: 9.98920258558 chi2diff: -0.0105075551428"
       ]
      },
      {
       "output_type": "stream",
       "stream": "stdout",
       "text": [
        "\n",
        "Done: 270 of 400 iterations. Chi^2: 952.899413141 alpha: 9.98909766729 chi2diff: -0.0104996205002"
       ]
      },
      {
       "output_type": "stream",
       "stream": "stdout",
       "text": [
        "\n",
        "Done: 280 of 400 iterations. Chi^2: 952.892439155 alpha: 9.98899284848 chi2diff: -0.0104905817871"
       ]
      },
      {
       "output_type": "stream",
       "stream": "stdout",
       "text": [
        "\n",
        "Done: 290 of 400 iterations. Chi^2: 952.8858063 alpha: 9.98888809665 chi2diff: -0.010483375166"
       ]
      },
      {
       "output_type": "stream",
       "stream": "stdout",
       "text": [
        "\n",
        "Done: 300 of 400 iterations. Chi^2: 952.880962395 alpha: 9.98878340787 chi2diff: -0.0104783323689"
       ]
      },
      {
       "output_type": "stream",
       "stream": "stdout",
       "text": [
        "\n",
        "Done: 310 of 400 iterations. Chi^2: 952.873851722 alpha: 9.98867878958 chi2diff: -0.0104709053431"
       ]
      },
      {
       "output_type": "stream",
       "stream": "stdout",
       "text": [
        "\n",
        "Done: 320 of 400 iterations. Chi^2: 952.860978951 alpha: 9.98857426876 chi2diff: -0.0104584310474"
       ]
      },
      {
       "output_type": "stream",
       "stream": "stdout",
       "text": [
        "\n",
        "Done: 330 of 400 iterations. Chi^2: 952.853918111 alpha: 9.98846984771 chi2diff: -0.0104504413111"
       ]
      },
      {
       "output_type": "stream",
       "stream": "stdout",
       "text": [
        "\n",
        "Done: 340 of 400 iterations. Chi^2: 952.849578298 alpha: 9.98836549192 chi2diff: -0.0104448322846"
       ]
      },
      {
       "output_type": "stream",
       "stream": "stdout",
       "text": [
        "\n",
        "Done: 350 of 400 iterations. Chi^2: 952.838047794 alpha: 9.98826121628 chi2diff: -0.0104333822667"
       ]
      },
      {
       "output_type": "stream",
       "stream": "stdout",
       "text": [
        "\n",
        "Done: 360 of 400 iterations. Chi^2: 952.829235918 alpha: 9.98815703395 chi2diff: -0.0104248300699"
       ]
      },
      {
       "output_type": "stream",
       "stream": "stdout",
       "text": [
        "\n",
        "Done: 370 of 400 iterations. Chi^2: 952.82237411 alpha: 9.98805294494 chi2diff: -0.0104175896699"
       ]
      },
      {
       "output_type": "stream",
       "stream": "stdout",
       "text": [
        "\n",
        "Done: 380 of 400 iterations. Chi^2: 952.817317285 alpha: 9.98794892711 chi2diff: -0.0104107288287"
       ]
      },
      {
       "output_type": "stream",
       "stream": "stdout",
       "text": [
        "\n",
        "Done: 390 of 400 iterations. Chi^2: 952.807435382 alpha: 9.98784497869 chi2diff: -0.0104011123812"
       ]
      },
      {
       "output_type": "stream",
       "stream": "stdout",
       "text": [
        "\n",
        "Done: 400 of 400 iterations. Chi^2: 952.800145854 alpha: 9.98774112178 chi2diff: -0.0103948265554"
       ]
      },
      {
       "output_type": "stream",
       "stream": "stdout",
       "text": [
        "\n",
        "Reduced Chi2: 1.01039197875\n",
        "8.31292414665 seconds elapsed\n",
        "Written as ./mem_image_kp.fits"
       ]
      },
      {
       "output_type": "stream",
       "stream": "stdout",
       "text": [
        "\n"
       ]
      }
     ],
     "prompt_number": 23
    },
    {
     "cell_type": "code",
     "collapsed": false,
     "input": [
      "'''--------------------------------\n",
      "the rest is a plot\n",
      "--------------------------------'''\n",
      "\n",
      "\n",
      "bestfit = np.array([-131.377*np.sin(np.pi/180.*85.98),131.377*np.cos(np.pi/180.*85.98)])\n",
      "\n",
      "plt.imshow(im.T/im.max(), interpolation='nearest',cmap=plt.get_cmap('gist_heat'),extent=trial.extent)\n",
      "plt.colorbar(label='Normalized intensity')\n",
      "plt.plot(0,0,'w*', ms=15)\n",
      "plt.axis(trial.extent)\n",
      "plt.axhline(bestfit[1],color='c',alpha=0.4)\n",
      "plt.axvline(bestfit[0],color='c',alpha=0.4)\n",
      "# plt.plot(bestfit[0],bestfit[1],'cs',alpha=0.8)\n",
      "plt.xlabel(r'$\\Delta$ RA (milli-arcsec)', fontsize='large')\n",
      "plt.ylabel(r'$\\Delta$ Dec (milli-arcsec)', fontsize='large')\n",
      "if no_kp:\n",
      "    plt.title('MaxEnt Image Reconstruction using Fourier Phases',fontsize='large')\n",
      "else:\n",
      "    plt.title('MaxEnt Image Reconstruction using Kernel Phases',fontsize='large')\n",
      "print \"Total contrast (mags): \" + str(-2.5*np.log10(np.sum(trial.pm)))\n",
      "plt.show()"
     ],
     "language": "python",
     "metadata": {},
     "outputs": [
      {
       "output_type": "stream",
       "stream": "stdout",
       "text": [
        "Total contrast (mags): 0.990092954684\n"
       ]
      },
      {
       "metadata": {},
       "output_type": "display_data",
       "png": "[encoded data removed]",
       "text": [
        "<matplotlib.figure.Figure at 0x7f4426a79050>"
       ]
      }
     ],
     "prompt_number": 24
    },
    {
     "cell_type": "code",
     "collapsed": false,
     "input": [
      "a.hdr['filter']"
     ],
     "language": "python",
     "metadata": {},
     "outputs": [
      {
       "metadata": {},
       "output_type": "pyout",
       "prompt_number": 13,
       "text": [
        "2.15e-06"
       ]
      }
     ],
     "prompt_number": 13
    },
    {
     "cell_type": "code",
     "collapsed": false,
     "input": [
      "print a.kpd,a.kpe"
     ],
     "language": "python",
     "metadata": {},
     "outputs": [
      {
       "output_type": "stream",
       "stream": "stdout",
       "text": [
        "[  7.68122298e-01  -2.26627236e+00  -1.51342465e+00  -3.28303377e-01\n",
        "  -7.92728245e-01   3.63100239e-01   1.06825480e+00   6.06075537e-01\n",
        "  -1.65201585e-02  -9.25935072e-01  -4.07899069e-01   1.03049597e+00\n",
        "   1.92869991e+00  -1.21327751e+00   4.60753548e-01   7.27315708e-01\n",
        "   2.28278528e+00  -5.69396971e-01  -1.92272081e+00  -5.04673087e-01\n",
        "   6.74786349e-02  -2.11075812e+00  -2.33570520e-01   1.99598129e+00\n",
        "  -3.85815290e+00  -2.09838714e+00   9.36604792e-01  -1.37629490e+00\n",
        "  -8.46457875e-01  -2.10412344e+00   8.91995083e-01  -1.67382092e+00\n",
        "  -1.95169363e+00   2.79096658e-03  -1.15089930e+00  -1.62631120e+00\n",
        "  -1.63329837e+00  -7.92644918e-01  -2.71724511e+00   4.75765762e-01\n",
        "  -1.82140163e+00  -2.76816131e-01  -2.26109256e+00   9.59201520e-01\n",
        "  -1.96186804e-02   1.73451857e+00   4.08701950e-01  -1.95196473e-01\n",
        "   1.73884063e-01   1.23054436e+00   2.10691630e-01  -8.30565826e-01\n",
        "   1.78117172e+00  -9.14820183e-01  -2.23050518e-01   7.08963781e-01\n",
        "  -2.87889696e+00  -1.15983548e+00  -1.99628299e+00  -3.06551293e-01\n",
        "   1.00766203e+00   6.14733261e-02  -3.00551427e+00   4.79390380e-01\n",
        "   1.29643815e-01   1.30070544e+00  -1.00527377e-01  -1.80644144e+00\n",
        "  -1.43735722e+00   2.27252283e-01   3.23696474e-02  -1.01950204e+00\n",
        "   1.46103503e-01   2.91441108e-02  -1.33047940e+00  -7.28630943e-01\n",
        "  -1.39481693e+00   8.45902732e-01  -9.48924826e-02   4.63834151e-02\n",
        "   2.15096649e+00  -2.05954466e-01  -8.82684005e-01   7.08623548e-01\n",
        "   5.77871836e-01   3.56283106e-01   4.69320103e-01  -1.48425856e+00\n",
        "  -3.60491285e-01   9.23055801e-01  -1.55291762e+00   1.62313163e+00\n",
        "   1.63259105e+00   5.56323889e-01  -2.15780066e-01   1.73677767e+00\n",
        "  -2.22361553e-01   5.31281728e-01  -2.45677162e+00  -8.91597563e-01\n",
        "   1.90396212e-01  -1.58524886e-01  -2.25713772e-01  -6.24805651e-01\n",
        "  -1.15511208e+00  -1.97778763e-01  -2.31752490e+00  -1.87021662e+00\n",
        "   1.36574947e+00  -1.94228159e+00  -3.85273222e-01   3.54200853e+00\n",
        "  -1.65386595e+00  -1.04618906e+00   7.30968222e-01   2.65441186e+00\n",
        "   2.80521774e-01  -4.83573700e-01   1.53671542e-01   8.92567067e-01\n",
        "  -5.88575444e-01   1.99825619e+00  -1.36096922e+00   5.46829993e-01\n",
        "  -7.49763448e-01   9.84555602e-01  -5.65004278e-01   1.03300457e+00\n",
        "   3.46042713e-01  -2.06321375e+00   2.06182012e+00  -5.57670220e-01\n",
        "   8.99121360e-01  -4.53852594e-01  -4.65162536e-01  -2.68319066e+00\n",
        "  -2.79528038e+00  -4.61336734e-02   3.45388559e+00   1.73311518e-01\n",
        "   3.13511065e+00   5.80441650e-01  -1.80906128e+00  -1.15070669e+00\n",
        "   1.82286446e+00  -1.55957855e+00  -2.31874613e+00   1.24743184e+00\n",
        "  -1.07984226e+00   5.19639241e-01  -4.32586479e-02   1.92203759e+00\n",
        "  -1.65139078e+00   1.09871411e+00  -2.82186023e-01   2.06763584e+00\n",
        "  -7.94168309e-01   1.48234302e+00   1.09821816e+00   1.89420574e-01\n",
        "  -1.03846242e+00   1.10914962e+00   1.90926710e+00   5.83529165e-01\n",
        "  -4.75434953e-01  -9.30582653e-01  -1.35448307e+00   2.46689645e+00\n",
        "   4.79370935e-01  -4.90283888e-01  -4.94992856e+00   1.97697325e+00\n",
        "  -1.02103863e+00   1.90277482e+00   7.81169005e-01   1.42880396e+00\n",
        "  -2.73162051e+00   9.12640888e-01  -1.20438996e+00   5.28186921e+00\n",
        "  -1.85722930e+00   1.59880360e+00   1.41421530e+00  -3.97121986e-01\n",
        "  -1.22723531e-01   3.26459982e-01   6.09030734e-01  -4.72122535e+00\n",
        "  -2.22248007e+00  -4.16138574e+00   2.58416288e+00  -2.36163540e-01\n",
        "  -2.96542956e+00   9.20204443e-01  -1.27814260e+00   9.12465750e-01\n",
        "  -3.19218010e+00  -1.56316806e-01  -2.76676122e+00   2.76959919e-02\n",
        "  -4.54599568e+00   2.28856841e+00   3.36656717e-01  -7.00072846e-01\n",
        "   1.82443519e+00   8.28411177e-01   8.46994189e-01   1.76105684e+00\n",
        "   2.76798785e-01  -1.02144230e+00   1.74488641e+00  -3.61648578e+00\n",
        "  -3.27867304e+00  -2.31227104e+00  -2.38021441e+00  -1.71360386e+00\n",
        "  -1.34981946e-01   1.68302179e+00   2.16065172e-01   1.41222767e+00\n",
        "   2.81975557e-01  -6.74683590e-01  -6.68902091e-01  -1.80945894e-01\n",
        "  -3.38537584e-01   4.04157326e-01  -2.32654222e+00  -2.01939405e+00\n",
        "  -1.91191267e-01  -1.79149329e+00  -1.41307732e+00  -1.39295242e+00\n",
        "  -4.85137071e-01  -1.85124816e+00  -7.90206288e-01  -1.19755947e+00\n",
        "  -7.45486606e-01  -2.00063666e+00  -6.27637932e-02  -8.18084874e-01\n",
        "  -6.56691199e-01  -8.26433845e-01   8.05299673e-03  -3.61160111e+00\n",
        "  -2.73656493e+00  -3.97612587e+00  -2.28255598e+00  -4.00521390e+00\n",
        "   7.81208265e-01  -1.70312959e-01  -1.26376980e+00  -1.58297018e+00\n",
        "  -1.35747733e+00  -2.04640043e+00   1.06941526e+00  -1.10232366e+00\n",
        "  -1.88728148e+00  -1.96614524e-01   5.45029318e-01   1.09178259e+00\n",
        "   1.54433354e+00   6.67794475e-01  -6.96048088e-01   1.41191981e+00\n",
        "   1.60645360e-02  -1.93864955e-01   2.18615342e-01  -2.85063068e-01\n",
        "  -6.09747475e-01  -2.59611636e+00  -1.42233450e+00  -7.43883817e-01\n",
        "   1.97510202e+00   2.21910853e-01   1.54832162e+00   1.04910475e+00\n",
        "  -5.50609933e-01   1.31302871e-01   6.09111340e-01  -1.10759075e+00\n",
        "   2.45721587e-01   1.21035168e+00   9.24791255e-01  -1.56062090e+00\n",
        "   1.57838951e+00   1.27724778e+00  -4.19910948e+00  -1.09709736e-01\n",
        "  -3.46753937e+00  -3.46112479e+00  -2.55763298e+00  -4.81769296e-01\n",
        "  -1.04651632e+00  -6.54199015e-01  -5.37834750e-01  -8.72583280e-02\n",
        "  -3.02934527e+00  -1.39934236e-01  -1.14546225e+00   9.35139379e-02\n",
        "  -2.68568310e-01  -1.92873045e+00  -6.22111192e-01  -7.16163394e-01\n",
        "  -9.45929333e-01   1.38866556e+00   2.33380059e+00  -8.29388924e-01\n",
        "  -5.98458555e-01   8.84661252e-01  -1.69041930e+00  -1.30994695e+00\n",
        "  -1.29674916e+00  -1.77316421e+00   6.19032658e-01   8.44502742e-01\n",
        "  -2.41230494e-01   5.53818650e-01   7.24323466e-01   4.00672414e-01\n",
        "   1.38637560e-01   1.77863640e-01   1.22235206e+00  -8.64235258e-01\n",
        "   1.18685170e-01  -5.17076479e-01  -1.04289349e+00   6.60665117e-01\n",
        "   4.80182696e-01   3.14841347e+00  -1.16171431e+00  -2.42506374e+00\n",
        "  -2.96637712e+00  -2.81172425e+00  -3.70967861e+00  -2.11548126e-02\n",
        "  -6.27132969e-01   1.02265265e+00  -9.78133338e-01  -6.09616141e-01\n",
        "   7.86094871e-01   2.90082170e-01  -8.24599946e-01   4.29245467e-01\n",
        "  -1.85535383e+00  -9.74205990e-01   1.02887725e+00   1.62456962e+00\n",
        "  -9.12729694e-01   1.31964817e+00   1.30595600e+00   1.07452964e+00\n",
        "  -3.37900057e-01  -1.59788243e+00   1.66180251e-01  -4.46466721e-01\n",
        "   1.53038405e+00  -6.27973459e-01  -2.09355924e+00   3.98804413e-01\n",
        "   1.79672188e+00   2.06475072e+00   1.61674442e+00   8.37445595e-01\n",
        "   1.55271487e-02   2.99435934e-01   1.72763666e+00   4.98383671e-01\n",
        "   1.33424300e+00   2.42707203e+00  -1.89225976e+00  -2.26581038e-01\n",
        "  -2.03291046e-01   3.40015229e-01   2.36136808e+00  -7.22449544e-01\n",
        "   7.55591399e-01  -1.03216935e+00  -9.30836071e-01   2.08583749e-01\n",
        "   9.03362547e-01   7.46140785e-01  -2.88102192e-01  -4.39078951e-01\n",
        "   1.87383613e-01  -7.17328526e-01  -5.86041035e-01  -7.31063266e-01\n",
        "  -1.36652273e+00  -1.74417535e+00  -2.19082713e+00  -9.35164052e-01\n",
        "   1.92578410e+00   9.75125118e-01   3.50384931e-01   1.73023799e+00\n",
        "   1.66113615e+00   3.94381112e+00   1.49476660e+00   4.62979533e-01\n",
        "   1.11160078e-01   6.40802790e-01   1.01807487e+00   1.57323924e+00\n",
        "   7.77169089e-01  -8.34024997e-01   1.40691532e+00   4.81554661e-01\n",
        "  -1.07707433e+00  -1.66461005e+00  -7.57173322e-01   1.42644399e+00\n",
        "  -4.47862715e-01   1.19929128e+00   3.26633619e+00   2.07530098e+00\n",
        "   9.69746724e-01   2.06717187e+00   3.91905849e+00   1.36132671e+00\n",
        "   2.33735829e+00   2.45359217e-02   1.24349423e+00  -3.82004651e-02\n",
        "  -7.67625643e-01   4.83451363e-01   4.59103456e-01   1.84597734e+00\n",
        "   5.92171037e-01   1.21385090e+00   2.33520851e+00   6.41081208e-01\n",
        "   1.54519692e-01  -3.17971101e-01   4.44017727e-02  -1.22863593e-02\n",
        "  -1.72977275e-01   9.66195193e-01   1.29385516e-01   6.23115045e-01\n",
        "   8.00655245e-01   2.44424826e+00   1.93165929e+00   1.96063370e+00\n",
        "   7.16456820e-01   2.56952943e+00   1.28069132e+00   3.81716390e+00\n",
        "   1.66601232e+00   2.02036532e+00   2.11551536e+00   2.00921802e+00\n",
        "   4.18470953e+00   5.96517899e+00   4.30492762e+00   1.35341899e+00\n",
        "  -5.16025138e-01   3.27861491e-01   1.64800155e+00   1.21446052e+00\n",
        "   2.48190409e+00   3.66844546e+00   2.74288325e+00   3.05886702e+00\n",
        "   3.04589479e-01   1.96445126e-01   2.18285321e+00   1.07090983e+00\n",
        "   3.05219418e+00   1.51551191e-01   1.63326134e+00  -1.25497780e+00\n",
        "   5.55463642e-01   6.99064791e-01   1.74583042e+00   2.89625422e+00\n",
        "   2.31499026e+00   2.73623788e+00   2.82503149e+00   2.03069756e+00\n",
        "   6.82637104e-02  -1.16046373e+00  -1.37170221e+00  -2.85629418e+00\n",
        "  -9.99268162e-01   5.07996407e-02   1.79111114e+00   1.03422290e+00\n",
        "   1.78912871e-01   1.36661758e+00   3.09443098e+00   2.68252874e+00\n",
        "   2.55146888e+00   2.67988542e+00   2.79931996e+00   1.76534344e+00\n",
        "   2.22967820e+00   3.71288395e+00   3.48306508e+00   2.97622829e+00\n",
        "   3.79346124e+00   1.76369091e+00   1.37098199e+00  -5.21274110e-01\n",
        "   1.09695636e+00   1.56912215e+00   3.82835839e+00   2.62052620e+00\n",
        "   3.80572099e+00   3.69700077e+00   4.70092512e+00   1.77726659e+00\n",
        "   4.88318801e+00   4.61914255e-01  -3.41332234e-02   7.98907097e-01\n",
        "   1.08417456e+00   2.58804818e+00   3.18309016e+00   1.33840005e+00\n",
        "   1.87466776e+00   4.29298363e-01   4.01691037e+00   4.29963505e+00\n",
        "   3.47369774e+00   3.43129705e+00   4.29315222e+00   2.19354829e+00\n",
        "   7.07006857e-01  -1.13966415e+00  -1.37316766e+00  -1.63718220e+00\n",
        "  -2.03652688e+00  -6.21452049e-01  -1.68540503e-01   2.04485249e-01\n",
        "   1.56995643e+00   1.72077689e+00   1.71315629e+00   2.10274314e+00\n",
        "   2.69371592e-01   3.42455515e+00   3.28358608e+00   3.21956735e+00\n",
        "   3.74215090e+00   3.42407179e+00   2.72987580e+00   1.77404808e+00\n",
        "   4.68993702e+00   1.86243419e+00   3.44375653e+00  -5.73136409e-01\n",
        "   2.76750553e+00   2.05666949e+00   7.20713433e-01   7.33484652e-01\n",
        "   2.02512488e+00   3.52279094e+00   4.47835085e+00   1.28102011e+00\n",
        "   7.88312288e-01   3.06526195e+00   1.91395114e+00  -1.71542419e-01\n",
        "  -1.04995288e+00   2.53257032e+00   4.52456884e+00   2.89453516e+00\n",
        "   1.04110081e+00   1.68268948e+00   1.76845369e+00   3.02005259e+00\n",
        "   4.41892563e+00   3.81026333e+00   2.84736072e+00   3.02170248e+00\n",
        "   1.83781993e+00   1.52830802e+00   1.34364455e+00  -1.48601229e-01\n",
        "  -9.08698900e-01   3.75981021e-01   8.88608015e-01   5.96162980e-01\n",
        "   1.29098252e+00   8.29340460e-01   1.55772168e+00   2.47199734e+00\n",
        "   1.82246026e+00   1.04885827e+00   1.86982714e+00   2.63758253e+00\n",
        "   2.37893682e+00   2.51633613e+00   3.08945768e+00   2.57230530e+00\n",
        "   2.35047427e+00   2.62547847e+00   3.58068708e+00   4.31759681e+00\n",
        "   1.62333133e+00   1.02372774e+00   4.33163574e+00   3.13515062e+00\n",
        "   1.42831925e+00   6.75619040e-01   1.31903930e+00   4.34938917e+00\n",
        "   2.68703909e+00   1.77256038e+00   1.87843182e+00  -8.97269222e-01\n",
        "   1.69365086e+00   8.15758538e-01  -2.43724240e+00  -1.39625688e+00\n",
        "   2.80357053e+00   4.59595415e+00   5.09824200e+00   3.93202396e+00\n",
        "   4.79647527e+00   4.61649159e+00   3.10883479e+00   5.03471634e+00\n",
        "   4.49082208e+00   4.21313943e+00   2.81071620e+00   2.40582135e+00\n",
        "   2.11817399e+00   1.12046617e+00   7.98565258e-01  -1.88334940e-02\n",
        "  -1.80826968e+00   4.54654020e-01  -2.60493907e-01  -8.08145555e-01\n",
        "   2.03134245e-01   2.25487271e+00   1.29698401e+00   1.94367548e+00\n",
        "   1.95852355e+00   1.80868907e+00   1.80338458e+00   3.81376249e+00\n",
        "   2.04602744e+00   4.14361558e+00   3.82565074e+00   2.30346168e+00\n",
        "   2.56107290e+00   2.45800503e+00   4.09821420e+00   8.64594932e-01\n",
        "   1.89327327e+00   8.59426434e-01   4.71852758e-01   3.27514622e+00\n",
        "   2.79221111e+00   2.31256161e+00   4.08094829e+00   3.73437914e+00\n",
        "   3.35225209e+00   4.98984111e+00   2.69392321e+00   3.48823907e+00\n",
        "   1.88333999e-02   2.25379913e+00   3.47473913e+00   3.00485041e+00\n",
        "   5.25186940e+00   2.54785117e+00   4.62340351e+00   2.99262166e+00\n",
        "   5.74851470e+00   3.76509849e+00   3.23712000e+00   4.39846040e+00\n",
        "   3.55079001e+00   2.36707606e+00   1.83171820e+00   7.54724944e-01\n",
        "   6.63014973e-01   1.60623712e+00   2.99035816e-01  -6.64844987e-01\n",
        "   8.03114303e-03   1.40805948e+00   1.10596039e+00  -5.98046777e-02\n",
        "  -2.85373108e-01   4.68450302e-01   5.53685803e-01   1.10760126e+00\n",
        "   1.59978967e+00   1.52301707e+00   1.26068993e+00   1.42796308e+00\n",
        "   3.21068557e+00   3.51163088e+00   3.98194820e+00   2.70018486e+00\n",
        "   2.56935593e+00   1.31719039e+00   2.39164130e+00   2.60186562e-01\n",
        "   4.10779772e-01   1.53272325e-01   4.72631116e-01   6.74734892e-01\n",
        "   1.33053241e+00   7.07724191e-01   2.49438210e+00   1.08454501e+00\n",
        "   2.13634829e+00   2.43408030e+00  -8.02340763e-01   1.23627264e+00\n",
        "   2.88652567e+00   3.66282753e+00   5.20532185e+00   5.04585903e+00\n",
        "   6.54180812e+00   4.41002261e+00   4.31746989e+00   4.53682144e+00\n",
        "   4.49606356e+00   4.31877073e+00   4.19818490e+00   2.87430474e+00\n",
        "   2.80622934e+00   2.12230731e+00   3.76670636e-01  -3.45888728e-01\n",
        "  -1.12083230e+00   5.91515712e-01  -5.57304305e-02  -9.45717677e-02\n",
        "   6.56539520e-02   5.28759576e-02   5.15732297e-01  -2.94843482e-01\n",
        "   1.15964552e+00   1.21185417e+00   1.71267501e+00   1.65273512e+00\n",
        "   1.78807895e+00   1.80539389e+00   4.09601191e+00   2.30474848e+00\n",
        "   3.61106248e+00   1.28451705e+00   2.11504054e+00   1.98198563e+00\n",
        "   7.44289156e-01   2.63982029e-01  -1.04763901e-01  -2.54490801e+00\n",
        "   7.41123634e-01   1.28925776e-01   1.54935000e-01   1.27338556e+00\n",
        "   1.78086771e+00   3.34593847e+00   4.07343716e+00   2.49720614e+00\n",
        "   2.09471917e+00   1.38118405e+00  -7.88122722e-01   4.13185135e+00\n",
        "   2.75503792e+00   3.22815984e+00   4.76621390e+00   3.98621468e+00\n",
        "   3.27209330e+00   3.69888719e+00   3.58759501e+00   2.80472823e+00\n",
        "   3.62487030e+00   2.11879029e+00   2.37153057e+00   1.86372260e+00\n",
        "  -5.83050087e-01   1.89065489e+00   3.81043415e-01   9.23061695e-01\n",
        "   6.57214235e-01  -1.41281622e-01  -1.19532849e-01  -1.87041382e-01\n",
        "  -7.03763100e-01   7.05019564e-01   5.58370582e-01  -1.24965438e-01\n",
        "   6.53413549e-01   4.29233571e-01   1.22449228e+00   1.19150902e+00\n",
        "   2.29182462e+00   3.26815815e+00   1.69629125e+00   3.85481801e-01\n",
        "   1.62206903e+00   1.60739649e+00   6.23459989e-01   2.27194245e-01\n",
        "  -3.50373857e-01  -1.21834347e+00  -8.41043350e-01  -1.60393029e+00\n",
        "  -6.00590020e-02   6.07756638e-01   2.76617416e-01   1.84527018e+00\n",
        "  -9.59673136e-02   1.62731886e+00   2.08415167e-01   1.61076630e+00\n",
        "  -7.49055007e-01   8.76158234e-01   2.74900052e+00   2.16727018e+00\n",
        "   4.39136895e+00   2.85194527e+00   4.88626821e+00   1.53519727e+00\n",
        "   4.64222581e+00   3.12188534e+00   1.93898601e+00   2.77334524e+00\n",
        "   2.98890954e+00   2.00971115e+00   1.07186770e+00   1.80694838e+00\n",
        "   1.00675137e+00   1.18153284e+00  -1.24766314e+00   5.29587402e-01\n",
        "  -4.04640336e-01   7.97865887e-01   5.42676046e-01  -2.25500089e-01\n",
        "  -1.42578401e+00   4.64118366e-01   4.84907572e-01   7.60558269e-01\n",
        "   9.97676147e-01   1.13403646e+00   1.04295193e+00   1.33701627e+00\n",
        "   1.87500186e+00   1.73359482e+00  -1.24111246e+00  -7.88250773e-01\n",
        "  -8.13921940e-01   2.44891511e-01   1.45396291e+00  -1.85548192e+00\n",
        "  -5.37799727e-01  -4.76265276e-01  -7.03330219e-01   1.17276100e+00\n",
        "   1.33024778e+00   1.25781027e+00   4.45071403e-01  -2.51824156e-01\n",
        "   1.86173872e+00  -4.82643684e-01   1.70068725e+00   1.55862833e+00\n",
        "  -1.82603307e+00  -1.46274087e+00   4.96484733e+00   5.65419390e+00\n",
        "   4.38316757e+00   1.99603114e+00   2.46629854e+00   4.21161326e+00\n",
        "   2.65687658e+00   1.27816220e+00   1.80021754e+00   5.08050382e-01\n",
        "   1.22271596e+00   3.06373959e+00  -2.63481646e-01  -1.38444082e-01\n",
        "   3.30978305e-01  -1.37719626e-01   1.35980886e-01   4.13316149e-01\n",
        "  -1.07324248e+00   9.42126167e-02  -2.81943996e-01  -1.10275556e-01\n",
        "  -1.42396343e-01   3.56097115e-01  -2.11974223e-01   3.22467006e-01\n",
        "   1.07474531e+00   7.64509088e-01   7.49722733e-01   3.93103561e-01\n",
        "  -1.02520882e+00  -1.98341199e+00  -1.28994400e+00   1.25112780e-01\n",
        "  -8.15512058e-01  -1.24492422e+00  -4.14610963e-02  -1.12396396e-01\n",
        "  -1.37375870e+00  -2.68097758e+00  -1.69409506e+00  -1.06056697e-01\n",
        "  -8.74441597e-01  -1.11704959e+00  -1.53115656e+00  -3.67565308e+00\n",
        "   1.14339074e+00   2.43288127e+00  -3.45513645e+00   1.74834826e+00\n",
        "   7.62077852e-01   2.66758273e+00   7.97050267e-01   5.92581074e-01\n",
        "   1.95050839e+00   2.22117993e+00   2.12001691e+00   1.37640941e+00\n",
        "   3.66594801e-01   1.29106869e+00   5.34709074e-01   2.34116649e+00\n",
        "  -3.84901557e-01   9.32816343e-01  -3.63571880e-01   4.20590583e-01\n",
        "   1.98697134e+00   8.30318681e-01   2.14205325e-01  -7.89672862e-01\n",
        "  -7.38513737e-01  -9.40329840e-01   4.76468934e-02] 1.05493804813\n"
       ]
      }
     ],
     "prompt_number": 14
    },
    {
     "cell_type": "code",
     "collapsed": false,
     "input": [],
     "language": "python",
     "metadata": {},
     "outputs": []
    }
   ],
   "metadata": {}
  }
 ]
}