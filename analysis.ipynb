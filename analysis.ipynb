{
 "metadata": {
  "name": "",
  "signature": "sha256:a3b8d40866e6fe5fb62e490aa1ba5671a88ebeca952681035524e3514c6aad76"
 },
 "nbformat": 3,
 "nbformat_minor": 0,
 "worksheets": [
  {
   "cells": [
    {
     "cell_type": "heading",
     "level": 1,
     "metadata": {},
     "source": [
      "Analysis for the Pharo kernel phase paper as submitted by Pope et al., 2015. "
     ]
    },
    {
     "cell_type": "heading",
     "level": 3,
     "metadata": {},
     "source": [
      "Whisky is a modified distribution of pysco, available at https://github.com/benjaminpope/whisky .\n",
      "\n",
      "The original pysco code as developed by Martinache, Pope and Ireland is available at https://code.google.com/p/pysco/ ."
     ]
    },
    {
     "cell_type": "code",
     "collapsed": false,
     "input": [
      "import numpy as np\n",
      "import matplotlib.pyplot as plt\n",
      "import whisky as pysco\n",
      "\n",
      "import fitsio\n",
      "import triangle\n",
      "from time import time\n",
      "from astroML.plotting import setup_text_plots\n",
      "setup_text_plots(usetex=True)\n",
      "%matplotlib inline"
     ],
     "language": "python",
     "metadata": {},
     "outputs": [
      {
       "output_type": "stream",
       "stream": "stderr",
       "text": [
        "/usr/local/lib/python2.7/dist-packages/numpy/core/fromnumeric.py:2499: VisibleDeprecationWarning: `rank` is deprecated; use the `ndim` attribute or function instead. To find the rank of a matrix see `numpy.linalg.matrix_rank`.\n",
        "  VisibleDeprecationWarning)\n"
       ]
      }
     ],
     "prompt_number": 1
    },
    {
     "cell_type": "markdown",
     "metadata": {},
     "source": [
      "Now define your data directory, bands - we have Ks and ch4, though the ch4 are provided basically only for illustrative purposes as they're horribly saturated and have been discarded from the paper as submitted."
     ]
    },
    {
     "cell_type": "code",
     "collapsed": false,
     "input": [
      "ddir = \"/home/ben/Research/pharo/data/\" # data directory\n",
      "\n",
      "bandn = 'Ks' \n",
      "# bandn = 'ch4' # this gives vaguely right astrometry at its best fit but a remarkably poor fit overall! try if you like\n",
      "\n",
      "num = 0 #0 for alpha Oph, 1 sim with masking params, 2 for sim with kp params\n",
      "\n",
      "tnames = ['alpOph','epsOph','epsHer']\n",
      "\n",
      "no_kp = False\n",
      "bispec = False"
     ],
     "language": "python",
     "metadata": {},
     "outputs": [],
     "prompt_number": 2
    },
    {
     "cell_type": "code",
     "collapsed": false,
     "input": [
      "if bandn == 'ch4':\n",
      "\tfnames = ['cubeF_1856.fits','cubeF_2381.fits']\n",
      "\t# myf1 = open('alpOph_ch4_lin.pick','r')\n",
      "\t# myf2 = open('epsOph_ch4_lin.pick','r')\n",
      "\tpupil = 'stdcrossmodel'\n",
      "elif bandn == 'Ks':\n",
      "\tfnames = ['cubeF_2056.fits','cubeF_2881.fits']\n",
      "\t# myf1 = open('alpOph_Ks_lin.pick','r')\n",
      "\t# myf2 = open('epsHer_Ks_lin.pick','r')\n",
      "\tpupil = 'medcrossmodel'\n",
      "else: print 'Data directory failure'\n",
      "    \n",
      "if num == 1:\n",
      "    print 'Doing simulated observations'\n",
      "    fnames = ['Ks_0.8_bin_s129.6_a83.5_c28.7.fits', 'Ks_1.0_bin_s129.6_a83.5_c28.7.fits'] # ffa\n",
      "    pupil = 'medcrossmodel_new'\n",
      "else:\n",
      "    pass\n",
      "    \n",
      "if num == 2:\n",
      "    print 'Doing simulated observations'\n",
      "    fnames = ['Ks_0.8_bin_s131_a86_c19.7.fits', 'Ks_1.0_bin_s131_a86_c19.7.fits'] # ffa\n",
      "    pupil = 'medcrossmodel_new'\n",
      "else:\n",
      "    pass\n",
      "\n",
      "print 'Using',pupil,'pupil model.'"
     ],
     "language": "python",
     "metadata": {},
     "outputs": [],
     "prompt_number": 3
    },
    {
     "cell_type": "markdown",
     "metadata": {},
     "source": [
      "After the \"import whisky\" command, the documentation for the code is\n",
      "available typing \"help(pysco)\"."
     ]
    },
    {
     "cell_type": "code",
     "collapsed": false,
     "input": [
      "# -------------------\n",
      "# 1. load the dataset\n",
      "# -------------------\n",
      "\n",
      "#load data and calibrators - each of these may take several minutes \n",
      "\n",
      "try:\n",
      "    a = pysco.kpo('./kerphi/'+pupil+'.pick')\n",
      "except:\n",
      "    a = pysco.kpi('./kerphi/medcross.txt') # in case you need to make it - edit this!\n",
      "    a.save_to_file('./kerphi/medcrossmodel.pick')\n",
      "    a = pysco.kpo('./kerphi/'+pupil+'.pick')\n",
      "\n",
      "a.name = 'Palomar - ' + tnames[0]\n",
      "if no_kp:\n",
      "    a.kpi.KerPhi = np.eye(a.kpi.nbuv)  # for speckle!\n",
      "    a.kpi.nkphi = a.kpi.nbuv  # for speckle!\n",
      "\n",
      "a.extract_kpd(ddir + fnames[0],sg_ld = 4.5,re_center=True,D=5.093,unwrap_kp=False,adjust_sampling=True,bsp=bispec)\n",
      "\n",
      "print a.kpd.shape\n",
      "print a.kpe.shape\n",
      "\n",
      "if bispec:\n",
      "    print a.bsp.shape\n"
     ],
     "language": "python",
     "metadata": {},
     "outputs": [
      {
       "output_type": "stream",
       "stream": "stdout",
       "text": [
        "File ./kerphi/medcrossmodel_new.pick contains kpi information only\n",
        "Bsp data was not loaded\n",
        "Vis2 data was not loaded\n",
        "1 frames will be open\n",
        "\r",
        "extracting kp from img   1/100"
       ]
      },
      {
       "output_type": "stream",
       "stream": "stdout",
       "text": [
        "\r",
        "extracting kp from img   2/100"
       ]
      },
      {
       "output_type": "stream",
       "stream": "stdout",
       "text": [
        "\r",
        "extracting kp from img   3/100"
       ]
      },
      {
       "output_type": "stream",
       "stream": "stdout",
       "text": [
        "\r",
        "extracting kp from img   4/100"
       ]
      },
      {
       "output_type": "stream",
       "stream": "stdout",
       "text": [
        "\r",
        "extracting kp from img   5/100"
       ]
      },
      {
       "output_type": "stream",
       "stream": "stdout",
       "text": [
        "\r",
        "extracting kp from img   6/100"
       ]
      },
      {
       "output_type": "stream",
       "stream": "stdout",
       "text": [
        "\r",
        "extracting kp from img   7/100"
       ]
      },
      {
       "output_type": "stream",
       "stream": "stdout",
       "text": [
        "\r",
        "extracting kp from img   8/100"
       ]
      },
      {
       "output_type": "stream",
       "stream": "stdout",
       "text": [
        "\r",
        "extracting kp from img   9/100"
       ]
      },
      {
       "output_type": "stream",
       "stream": "stdout",
       "text": [
        "\r",
        "extracting kp from img  10/100"
       ]
      },
      {
       "output_type": "stream",
       "stream": "stdout",
       "text": [
        "\r",
        "extracting kp from img  11/100"
       ]
      },
      {
       "output_type": "stream",
       "stream": "stdout",
       "text": [
        "\r",
        "extracting kp from img  12/100"
       ]
      },
      {
       "output_type": "stream",
       "stream": "stdout",
       "text": [
        "\r",
        "extracting kp from img  13/100"
       ]
      },
      {
       "output_type": "stream",
       "stream": "stdout",
       "text": [
        "\r",
        "extracting kp from img  14/100"
       ]
      },
      {
       "output_type": "stream",
       "stream": "stdout",
       "text": [
        "\r",
        "extracting kp from img  15/100"
       ]
      },
      {
       "output_type": "stream",
       "stream": "stdout",
       "text": [
        "\r",
        "extracting kp from img  16/100"
       ]
      },
      {
       "output_type": "stream",
       "stream": "stdout",
       "text": [
        "\r",
        "extracting kp from img  17/100"
       ]
      },
      {
       "output_type": "stream",
       "stream": "stdout",
       "text": [
        "\r",
        "extracting kp from img  18/100"
       ]
      },
      {
       "output_type": "stream",
       "stream": "stdout",
       "text": [
        "\r",
        "extracting kp from img  19/100"
       ]
      },
      {
       "output_type": "stream",
       "stream": "stdout",
       "text": [
        "\r",
        "extracting kp from img  20/100"
       ]
      },
      {
       "output_type": "stream",
       "stream": "stdout",
       "text": [
        "\r",
        "extracting kp from img  21/100"
       ]
      },
      {
       "output_type": "stream",
       "stream": "stdout",
       "text": [
        "\r",
        "extracting kp from img  22/100"
       ]
      },
      {
       "output_type": "stream",
       "stream": "stdout",
       "text": [
        "\r",
        "extracting kp from img  23/100"
       ]
      },
      {
       "output_type": "stream",
       "stream": "stdout",
       "text": [
        "\r",
        "extracting kp from img  24/100"
       ]
      },
      {
       "output_type": "stream",
       "stream": "stdout",
       "text": [
        "\r",
        "extracting kp from img  25/100"
       ]
      },
      {
       "output_type": "stream",
       "stream": "stdout",
       "text": [
        "\r",
        "extracting kp from img  26/100"
       ]
      },
      {
       "output_type": "stream",
       "stream": "stdout",
       "text": [
        "\r",
        "extracting kp from img  27/100"
       ]
      },
      {
       "output_type": "stream",
       "stream": "stdout",
       "text": [
        "\r",
        "extracting kp from img  28/100"
       ]
      },
      {
       "output_type": "stream",
       "stream": "stdout",
       "text": [
        "\r",
        "extracting kp from img  29/100"
       ]
      },
      {
       "output_type": "stream",
       "stream": "stdout",
       "text": [
        "\r",
        "extracting kp from img  30/100"
       ]
      },
      {
       "output_type": "stream",
       "stream": "stdout",
       "text": [
        "\r",
        "extracting kp from img  31/100"
       ]
      },
      {
       "output_type": "stream",
       "stream": "stdout",
       "text": [
        "\r",
        "extracting kp from img  32/100"
       ]
      },
      {
       "output_type": "stream",
       "stream": "stdout",
       "text": [
        "\r",
        "extracting kp from img  33/100"
       ]
      },
      {
       "output_type": "stream",
       "stream": "stdout",
       "text": [
        "\r",
        "extracting kp from img  34/100"
       ]
      },
      {
       "output_type": "stream",
       "stream": "stdout",
       "text": [
        "\r",
        "extracting kp from img  35/100"
       ]
      },
      {
       "output_type": "stream",
       "stream": "stdout",
       "text": [
        "\r",
        "extracting kp from img  36/100"
       ]
      },
      {
       "output_type": "stream",
       "stream": "stdout",
       "text": [
        "\r",
        "extracting kp from img  37/100"
       ]
      },
      {
       "output_type": "stream",
       "stream": "stdout",
       "text": [
        "\r",
        "extracting kp from img  38/100"
       ]
      },
      {
       "output_type": "stream",
       "stream": "stdout",
       "text": [
        "\r",
        "extracting kp from img  39/100"
       ]
      },
      {
       "output_type": "stream",
       "stream": "stdout",
       "text": [
        "\r",
        "extracting kp from img  40/100"
       ]
      },
      {
       "output_type": "stream",
       "stream": "stdout",
       "text": [
        "\r",
        "extracting kp from img  41/100"
       ]
      },
      {
       "output_type": "stream",
       "stream": "stdout",
       "text": [
        "\r",
        "extracting kp from img  42/100"
       ]
      },
      {
       "output_type": "stream",
       "stream": "stdout",
       "text": [
        "\r",
        "extracting kp from img  43/100"
       ]
      },
      {
       "output_type": "stream",
       "stream": "stdout",
       "text": [
        "\r",
        "extracting kp from img  44/100"
       ]
      },
      {
       "output_type": "stream",
       "stream": "stdout",
       "text": [
        "\r",
        "extracting kp from img  45/100"
       ]
      },
      {
       "output_type": "stream",
       "stream": "stdout",
       "text": [
        "\r",
        "extracting kp from img  46/100"
       ]
      },
      {
       "output_type": "stream",
       "stream": "stdout",
       "text": [
        "\r",
        "extracting kp from img  47/100"
       ]
      },
      {
       "output_type": "stream",
       "stream": "stdout",
       "text": [
        "\r",
        "extracting kp from img  48/100"
       ]
      },
      {
       "output_type": "stream",
       "stream": "stdout",
       "text": [
        "\r",
        "extracting kp from img  49/100"
       ]
      },
      {
       "output_type": "stream",
       "stream": "stdout",
       "text": [
        "\r",
        "extracting kp from img  50/100"
       ]
      },
      {
       "output_type": "stream",
       "stream": "stdout",
       "text": [
        "\r",
        "extracting kp from img  51/100"
       ]
      },
      {
       "output_type": "stream",
       "stream": "stdout",
       "text": [
        "\r",
        "extracting kp from img  52/100"
       ]
      },
      {
       "output_type": "stream",
       "stream": "stdout",
       "text": [
        "\r",
        "extracting kp from img  53/100"
       ]
      },
      {
       "output_type": "stream",
       "stream": "stdout",
       "text": [
        "\r",
        "extracting kp from img  54/100"
       ]
      },
      {
       "output_type": "stream",
       "stream": "stdout",
       "text": [
        "\r",
        "extracting kp from img  55/100"
       ]
      },
      {
       "output_type": "stream",
       "stream": "stdout",
       "text": [
        "\r",
        "extracting kp from img  56/100"
       ]
      },
      {
       "output_type": "stream",
       "stream": "stdout",
       "text": [
        "\r",
        "extracting kp from img  57/100"
       ]
      },
      {
       "output_type": "stream",
       "stream": "stdout",
       "text": [
        "\r",
        "extracting kp from img  58/100"
       ]
      },
      {
       "output_type": "stream",
       "stream": "stdout",
       "text": [
        "\r",
        "extracting kp from img  59/100"
       ]
      },
      {
       "output_type": "stream",
       "stream": "stdout",
       "text": [
        "\r",
        "extracting kp from img  60/100"
       ]
      },
      {
       "output_type": "stream",
       "stream": "stdout",
       "text": [
        "\r",
        "extracting kp from img  61/100"
       ]
      },
      {
       "output_type": "stream",
       "stream": "stdout",
       "text": [
        "\r",
        "extracting kp from img  62/100"
       ]
      },
      {
       "output_type": "stream",
       "stream": "stdout",
       "text": [
        "\r",
        "extracting kp from img  63/100"
       ]
      },
      {
       "output_type": "stream",
       "stream": "stdout",
       "text": [
        "\r",
        "extracting kp from img  64/100"
       ]
      },
      {
       "output_type": "stream",
       "stream": "stdout",
       "text": [
        "\r",
        "extracting kp from img  65/100"
       ]
      },
      {
       "output_type": "stream",
       "stream": "stdout",
       "text": [
        "\r",
        "extracting kp from img  66/100"
       ]
      },
      {
       "output_type": "stream",
       "stream": "stdout",
       "text": [
        "\r",
        "extracting kp from img  67/100"
       ]
      },
      {
       "output_type": "stream",
       "stream": "stdout",
       "text": [
        "\r",
        "extracting kp from img  68/100"
       ]
      },
      {
       "output_type": "stream",
       "stream": "stdout",
       "text": [
        "\r",
        "extracting kp from img  69/100"
       ]
      },
      {
       "output_type": "stream",
       "stream": "stdout",
       "text": [
        "\r",
        "extracting kp from img  70/100"
       ]
      },
      {
       "output_type": "stream",
       "stream": "stdout",
       "text": [
        "\r",
        "extracting kp from img  71/100"
       ]
      },
      {
       "output_type": "stream",
       "stream": "stdout",
       "text": [
        "\r",
        "extracting kp from img  72/100"
       ]
      },
      {
       "output_type": "stream",
       "stream": "stdout",
       "text": [
        "\r",
        "extracting kp from img  73/100"
       ]
      },
      {
       "output_type": "stream",
       "stream": "stdout",
       "text": [
        "\r",
        "extracting kp from img  74/100"
       ]
      },
      {
       "output_type": "stream",
       "stream": "stdout",
       "text": [
        "\r",
        "extracting kp from img  75/100"
       ]
      },
      {
       "output_type": "stream",
       "stream": "stdout",
       "text": [
        "\r",
        "extracting kp from img  76/100"
       ]
      },
      {
       "output_type": "stream",
       "stream": "stdout",
       "text": [
        "\r",
        "extracting kp from img  77/100"
       ]
      },
      {
       "output_type": "stream",
       "stream": "stdout",
       "text": [
        "\r",
        "extracting kp from img  78/100"
       ]
      },
      {
       "output_type": "stream",
       "stream": "stdout",
       "text": [
        "\r",
        "extracting kp from img  79/100"
       ]
      },
      {
       "output_type": "stream",
       "stream": "stdout",
       "text": [
        "\r",
        "extracting kp from img  80/100"
       ]
      },
      {
       "output_type": "stream",
       "stream": "stdout",
       "text": [
        "\r",
        "extracting kp from img  81/100"
       ]
      },
      {
       "output_type": "stream",
       "stream": "stdout",
       "text": [
        "\r",
        "extracting kp from img  82/100"
       ]
      },
      {
       "output_type": "stream",
       "stream": "stdout",
       "text": [
        "\r",
        "extracting kp from img  83/100"
       ]
      },
      {
       "output_type": "stream",
       "stream": "stdout",
       "text": [
        "\r",
        "extracting kp from img  84/100"
       ]
      },
      {
       "output_type": "stream",
       "stream": "stdout",
       "text": [
        "\r",
        "extracting kp from img  85/100"
       ]
      },
      {
       "output_type": "stream",
       "stream": "stdout",
       "text": [
        "\r",
        "extracting kp from img  86/100"
       ]
      },
      {
       "output_type": "stream",
       "stream": "stdout",
       "text": [
        "\r",
        "extracting kp from img  87/100"
       ]
      },
      {
       "output_type": "stream",
       "stream": "stdout",
       "text": [
        "\r",
        "extracting kp from img  88/100"
       ]
      },
      {
       "output_type": "stream",
       "stream": "stdout",
       "text": [
        "\r",
        "extracting kp from img  89/100"
       ]
      },
      {
       "output_type": "stream",
       "stream": "stdout",
       "text": [
        "\r",
        "extracting kp from img  90/100"
       ]
      },
      {
       "output_type": "stream",
       "stream": "stdout",
       "text": [
        "\r",
        "extracting kp from img  91/100"
       ]
      },
      {
       "output_type": "stream",
       "stream": "stdout",
       "text": [
        "\r",
        "extracting kp from img  92/100"
       ]
      },
      {
       "output_type": "stream",
       "stream": "stdout",
       "text": [
        "\r",
        "extracting kp from img  93/100"
       ]
      },
      {
       "output_type": "stream",
       "stream": "stdout",
       "text": [
        "\r",
        "extracting kp from img  94/100"
       ]
      },
      {
       "output_type": "stream",
       "stream": "stdout",
       "text": [
        "\r",
        "extracting kp from img  95/100"
       ]
      },
      {
       "output_type": "stream",
       "stream": "stdout",
       "text": [
        "\r",
        "extracting kp from img  96/100"
       ]
      },
      {
       "output_type": "stream",
       "stream": "stdout",
       "text": [
        "\r",
        "extracting kp from img  97/100"
       ]
      },
      {
       "output_type": "stream",
       "stream": "stdout",
       "text": [
        "\r",
        "extracting kp from img  98/100"
       ]
      },
      {
       "output_type": "stream",
       "stream": "stdout",
       "text": [
        "\r",
        "extracting kp from img  99/100"
       ]
      },
      {
       "output_type": "stream",
       "stream": "stdout",
       "text": [
        "\r",
        "extracting kp from img 100/100"
       ]
      },
      {
       "output_type": "stream",
       "stream": "stdout",
       "text": [
        " no average\n",
        "(100, 1255)\n",
        "(1255,)\n"
       ]
      }
     ],
     "prompt_number": 4
    },
    {
     "cell_type": "code",
     "collapsed": false,
     "input": [
      "b = pysco.kpo('./kerphi/'+pupil+'.pick')\n",
      "b.name = 'Palomar - ' + tnames[1]\n",
      "if no_kp:\n",
      "    b.kpi.KerPhi = np.eye(b.kpi.nbuv)  # for speckle!\n",
      "    b.kpi.nkphi = b.kpi.nbuv  # for speckle!\n",
      "\n",
      "b.extract_kpd(ddir + fnames[1],sg_ld = 4.5,re_center=True,D=5.093,unwrap_kp=False,adjust_sampling=True,bsp=bispec)\n"
     ],
     "language": "python",
     "metadata": {},
     "outputs": [
      {
       "output_type": "stream",
       "stream": "stdout",
       "text": [
        "File ./kerphi/medcrossmodel_new.pick contains kpi information only\n",
        "Bsp data was not loaded\n",
        "Vis2 data was not loaded\n",
        "1 frames will be open\n",
        "\r",
        "extracting kp from img   1/100"
       ]
      },
      {
       "output_type": "stream",
       "stream": "stdout",
       "text": [
        "\r",
        "extracting kp from img   2/100"
       ]
      },
      {
       "output_type": "stream",
       "stream": "stdout",
       "text": [
        "\r",
        "extracting kp from img   3/100"
       ]
      },
      {
       "output_type": "stream",
       "stream": "stdout",
       "text": [
        "\r",
        "extracting kp from img   4/100"
       ]
      },
      {
       "output_type": "stream",
       "stream": "stdout",
       "text": [
        "\r",
        "extracting kp from img   5/100"
       ]
      },
      {
       "output_type": "stream",
       "stream": "stdout",
       "text": [
        "\r",
        "extracting kp from img   6/100"
       ]
      },
      {
       "output_type": "stream",
       "stream": "stdout",
       "text": [
        "\r",
        "extracting kp from img   7/100"
       ]
      },
      {
       "output_type": "stream",
       "stream": "stdout",
       "text": [
        "\r",
        "extracting kp from img   8/100"
       ]
      },
      {
       "output_type": "stream",
       "stream": "stdout",
       "text": [
        "\r",
        "extracting kp from img   9/100"
       ]
      },
      {
       "output_type": "stream",
       "stream": "stdout",
       "text": [
        "\r",
        "extracting kp from img  10/100"
       ]
      },
      {
       "output_type": "stream",
       "stream": "stdout",
       "text": [
        "\r",
        "extracting kp from img  11/100"
       ]
      },
      {
       "output_type": "stream",
       "stream": "stdout",
       "text": [
        "\r",
        "extracting kp from img  12/100"
       ]
      },
      {
       "output_type": "stream",
       "stream": "stdout",
       "text": [
        "\r",
        "extracting kp from img  13/100"
       ]
      },
      {
       "output_type": "stream",
       "stream": "stdout",
       "text": [
        "\r",
        "extracting kp from img  14/100"
       ]
      },
      {
       "output_type": "stream",
       "stream": "stdout",
       "text": [
        "\r",
        "extracting kp from img  15/100"
       ]
      },
      {
       "output_type": "stream",
       "stream": "stdout",
       "text": [
        "\r",
        "extracting kp from img  16/100"
       ]
      },
      {
       "output_type": "stream",
       "stream": "stdout",
       "text": [
        "\r",
        "extracting kp from img  17/100"
       ]
      },
      {
       "output_type": "stream",
       "stream": "stdout",
       "text": [
        "\r",
        "extracting kp from img  18/100"
       ]
      },
      {
       "output_type": "stream",
       "stream": "stdout",
       "text": [
        "\r",
        "extracting kp from img  19/100"
       ]
      },
      {
       "output_type": "stream",
       "stream": "stdout",
       "text": [
        "\r",
        "extracting kp from img  20/100"
       ]
      },
      {
       "output_type": "stream",
       "stream": "stdout",
       "text": [
        "\r",
        "extracting kp from img  21/100"
       ]
      },
      {
       "output_type": "stream",
       "stream": "stdout",
       "text": [
        "\r",
        "extracting kp from img  22/100"
       ]
      },
      {
       "output_type": "stream",
       "stream": "stdout",
       "text": [
        "\r",
        "extracting kp from img  23/100"
       ]
      },
      {
       "output_type": "stream",
       "stream": "stdout",
       "text": [
        "\r",
        "extracting kp from img  24/100"
       ]
      },
      {
       "output_type": "stream",
       "stream": "stdout",
       "text": [
        "\r",
        "extracting kp from img  25/100"
       ]
      },
      {
       "output_type": "stream",
       "stream": "stdout",
       "text": [
        "\r",
        "extracting kp from img  26/100"
       ]
      },
      {
       "output_type": "stream",
       "stream": "stdout",
       "text": [
        "\r",
        "extracting kp from img  27/100"
       ]
      },
      {
       "output_type": "stream",
       "stream": "stdout",
       "text": [
        "\r",
        "extracting kp from img  28/100"
       ]
      },
      {
       "output_type": "stream",
       "stream": "stdout",
       "text": [
        "\r",
        "extracting kp from img  29/100"
       ]
      },
      {
       "output_type": "stream",
       "stream": "stdout",
       "text": [
        "\r",
        "extracting kp from img  30/100"
       ]
      },
      {
       "output_type": "stream",
       "stream": "stdout",
       "text": [
        "\r",
        "extracting kp from img  31/100"
       ]
      },
      {
       "output_type": "stream",
       "stream": "stdout",
       "text": [
        "\r",
        "extracting kp from img  32/100"
       ]
      },
      {
       "output_type": "stream",
       "stream": "stdout",
       "text": [
        "\r",
        "extracting kp from img  33/100"
       ]
      },
      {
       "output_type": "stream",
       "stream": "stdout",
       "text": [
        "\r",
        "extracting kp from img  34/100"
       ]
      },
      {
       "output_type": "stream",
       "stream": "stdout",
       "text": [
        "\r",
        "extracting kp from img  35/100"
       ]
      },
      {
       "output_type": "stream",
       "stream": "stdout",
       "text": [
        "\r",
        "extracting kp from img  36/100"
       ]
      },
      {
       "output_type": "stream",
       "stream": "stdout",
       "text": [
        "\r",
        "extracting kp from img  37/100"
       ]
      },
      {
       "output_type": "stream",
       "stream": "stdout",
       "text": [
        "\r",
        "extracting kp from img  38/100"
       ]
      },
      {
       "output_type": "stream",
       "stream": "stdout",
       "text": [
        "\r",
        "extracting kp from img  39/100"
       ]
      },
      {
       "output_type": "stream",
       "stream": "stdout",
       "text": [
        "\r",
        "extracting kp from img  40/100"
       ]
      },
      {
       "output_type": "stream",
       "stream": "stdout",
       "text": [
        "\r",
        "extracting kp from img  41/100"
       ]
      },
      {
       "output_type": "stream",
       "stream": "stdout",
       "text": [
        "\r",
        "extracting kp from img  42/100"
       ]
      },
      {
       "output_type": "stream",
       "stream": "stdout",
       "text": [
        "\r",
        "extracting kp from img  43/100"
       ]
      },
      {
       "output_type": "stream",
       "stream": "stdout",
       "text": [
        "\r",
        "extracting kp from img  44/100"
       ]
      },
      {
       "output_type": "stream",
       "stream": "stdout",
       "text": [
        "\r",
        "extracting kp from img  45/100"
       ]
      },
      {
       "output_type": "stream",
       "stream": "stdout",
       "text": [
        "\r",
        "extracting kp from img  46/100"
       ]
      },
      {
       "output_type": "stream",
       "stream": "stdout",
       "text": [
        "\r",
        "extracting kp from img  47/100"
       ]
      },
      {
       "output_type": "stream",
       "stream": "stdout",
       "text": [
        "\r",
        "extracting kp from img  48/100"
       ]
      },
      {
       "output_type": "stream",
       "stream": "stdout",
       "text": [
        "\r",
        "extracting kp from img  49/100"
       ]
      },
      {
       "output_type": "stream",
       "stream": "stdout",
       "text": [
        "\r",
        "extracting kp from img  50/100"
       ]
      },
      {
       "output_type": "stream",
       "stream": "stdout",
       "text": [
        "\r",
        "extracting kp from img  51/100"
       ]
      },
      {
       "output_type": "stream",
       "stream": "stdout",
       "text": [
        "\r",
        "extracting kp from img  52/100"
       ]
      },
      {
       "output_type": "stream",
       "stream": "stdout",
       "text": [
        "\r",
        "extracting kp from img  53/100"
       ]
      },
      {
       "output_type": "stream",
       "stream": "stdout",
       "text": [
        "\r",
        "extracting kp from img  54/100"
       ]
      },
      {
       "output_type": "stream",
       "stream": "stdout",
       "text": [
        "\r",
        "extracting kp from img  55/100"
       ]
      },
      {
       "output_type": "stream",
       "stream": "stdout",
       "text": [
        "\r",
        "extracting kp from img  56/100"
       ]
      },
      {
       "output_type": "stream",
       "stream": "stdout",
       "text": [
        "\r",
        "extracting kp from img  57/100"
       ]
      },
      {
       "output_type": "stream",
       "stream": "stdout",
       "text": [
        "\r",
        "extracting kp from img  58/100"
       ]
      },
      {
       "output_type": "stream",
       "stream": "stdout",
       "text": [
        "\r",
        "extracting kp from img  59/100"
       ]
      },
      {
       "output_type": "stream",
       "stream": "stdout",
       "text": [
        "\r",
        "extracting kp from img  60/100"
       ]
      },
      {
       "output_type": "stream",
       "stream": "stdout",
       "text": [
        "\r",
        "extracting kp from img  61/100"
       ]
      },
      {
       "output_type": "stream",
       "stream": "stdout",
       "text": [
        "\r",
        "extracting kp from img  62/100"
       ]
      },
      {
       "output_type": "stream",
       "stream": "stdout",
       "text": [
        "\r",
        "extracting kp from img  63/100"
       ]
      },
      {
       "output_type": "stream",
       "stream": "stdout",
       "text": [
        "\r",
        "extracting kp from img  64/100"
       ]
      },
      {
       "output_type": "stream",
       "stream": "stdout",
       "text": [
        "\r",
        "extracting kp from img  65/100"
       ]
      },
      {
       "output_type": "stream",
       "stream": "stdout",
       "text": [
        "\r",
        "extracting kp from img  66/100"
       ]
      },
      {
       "output_type": "stream",
       "stream": "stdout",
       "text": [
        "\r",
        "extracting kp from img  67/100"
       ]
      },
      {
       "output_type": "stream",
       "stream": "stdout",
       "text": [
        "\r",
        "extracting kp from img  68/100"
       ]
      },
      {
       "output_type": "stream",
       "stream": "stdout",
       "text": [
        "\r",
        "extracting kp from img  69/100"
       ]
      },
      {
       "output_type": "stream",
       "stream": "stdout",
       "text": [
        "\r",
        "extracting kp from img  70/100"
       ]
      },
      {
       "output_type": "stream",
       "stream": "stdout",
       "text": [
        "\r",
        "extracting kp from img  71/100"
       ]
      },
      {
       "output_type": "stream",
       "stream": "stdout",
       "text": [
        "\r",
        "extracting kp from img  72/100"
       ]
      },
      {
       "output_type": "stream",
       "stream": "stdout",
       "text": [
        "\r",
        "extracting kp from img  73/100"
       ]
      },
      {
       "output_type": "stream",
       "stream": "stdout",
       "text": [
        "\r",
        "extracting kp from img  74/100"
       ]
      },
      {
       "output_type": "stream",
       "stream": "stdout",
       "text": [
        "\r",
        "extracting kp from img  75/100"
       ]
      },
      {
       "output_type": "stream",
       "stream": "stdout",
       "text": [
        "\r",
        "extracting kp from img  76/100"
       ]
      },
      {
       "output_type": "stream",
       "stream": "stdout",
       "text": [
        "\r",
        "extracting kp from img  77/100"
       ]
      },
      {
       "output_type": "stream",
       "stream": "stdout",
       "text": [
        "\r",
        "extracting kp from img  78/100"
       ]
      },
      {
       "output_type": "stream",
       "stream": "stdout",
       "text": [
        "\r",
        "extracting kp from img  79/100"
       ]
      },
      {
       "output_type": "stream",
       "stream": "stdout",
       "text": [
        "\r",
        "extracting kp from img  80/100"
       ]
      },
      {
       "output_type": "stream",
       "stream": "stdout",
       "text": [
        "\r",
        "extracting kp from img  81/100"
       ]
      },
      {
       "output_type": "stream",
       "stream": "stdout",
       "text": [
        "\r",
        "extracting kp from img  82/100"
       ]
      },
      {
       "output_type": "stream",
       "stream": "stdout",
       "text": [
        "\r",
        "extracting kp from img  83/100"
       ]
      },
      {
       "output_type": "stream",
       "stream": "stdout",
       "text": [
        "\r",
        "extracting kp from img  84/100"
       ]
      },
      {
       "output_type": "stream",
       "stream": "stdout",
       "text": [
        "\r",
        "extracting kp from img  85/100"
       ]
      },
      {
       "output_type": "stream",
       "stream": "stdout",
       "text": [
        "\r",
        "extracting kp from img  86/100"
       ]
      },
      {
       "output_type": "stream",
       "stream": "stdout",
       "text": [
        "\r",
        "extracting kp from img  87/100"
       ]
      },
      {
       "output_type": "stream",
       "stream": "stdout",
       "text": [
        "\r",
        "extracting kp from img  88/100"
       ]
      },
      {
       "output_type": "stream",
       "stream": "stdout",
       "text": [
        "\r",
        "extracting kp from img  89/100"
       ]
      },
      {
       "output_type": "stream",
       "stream": "stdout",
       "text": [
        "\r",
        "extracting kp from img  90/100"
       ]
      },
      {
       "output_type": "stream",
       "stream": "stdout",
       "text": [
        "\r",
        "extracting kp from img  91/100"
       ]
      },
      {
       "output_type": "stream",
       "stream": "stdout",
       "text": [
        "\r",
        "extracting kp from img  92/100"
       ]
      },
      {
       "output_type": "stream",
       "stream": "stdout",
       "text": [
        "\r",
        "extracting kp from img  93/100"
       ]
      },
      {
       "output_type": "stream",
       "stream": "stdout",
       "text": [
        "\r",
        "extracting kp from img  94/100"
       ]
      },
      {
       "output_type": "stream",
       "stream": "stdout",
       "text": [
        "\r",
        "extracting kp from img  95/100"
       ]
      },
      {
       "output_type": "stream",
       "stream": "stdout",
       "text": [
        "\r",
        "extracting kp from img  96/100"
       ]
      },
      {
       "output_type": "stream",
       "stream": "stdout",
       "text": [
        "\r",
        "extracting kp from img  97/100"
       ]
      },
      {
       "output_type": "stream",
       "stream": "stdout",
       "text": [
        "\r",
        "extracting kp from img  98/100"
       ]
      },
      {
       "output_type": "stream",
       "stream": "stdout",
       "text": [
        "\r",
        "extracting kp from img  99/100"
       ]
      },
      {
       "output_type": "stream",
       "stream": "stdout",
       "text": [
        "\r",
        "extracting kp from img 100/100"
       ]
      },
      {
       "output_type": "stream",
       "stream": "stdout",
       "text": [
        " no average\n"
       ]
      }
     ],
     "prompt_number": 5
    },
    {
     "cell_type": "code",
     "collapsed": true,
     "input": [
      "# some of the recentering seems to fail - only sometimes - on Palomar data and I can't work out why, so here are \n",
      "# some quick and easy tricks to get rid of bad kernel phases. \n",
      "# I have commented out lines that do this. Don't need to run this if it all looks ok! \n",
      "\n",
      "# newkpds = np.zeros(a.kpd.shape[1])\n",
      "# newkpes = np.zeros(a.kpd.shape[1])\n",
      "# for j in range(a.kpd.shape[1]):\n",
      "# \tnewsignal = pysco.clip_signal(a.kpd[:,j],threshold=2.0)\n",
      "# \tnewkpds[j],newkpes[j] = np.mean(newsignal),np.std(newsignal)/np.sqrt(np.size(newsignal))\n",
      "\n",
      "# a.kpd,a.kpe = newkpds,newkpes\n",
      "\n",
      "a.kpe = np.std(a.kpd,axis=0)/np.sqrt(a.kpd.shape[0])\n",
      "\n",
      "# b.kpe = np.std(a.kpd,axis=0)\n",
      "# b.kpd = np.mean(a.kpd,axis=0)\n",
      "\n",
      "# newkpds = np.zeros(b.kpd.shape[1])\n",
      "# newkpes = np.zeros(b.kpd.shape[1])\n",
      "# for j in range(b.kpd.shape[1]):\n",
      "# \tnewsignal = pysco.clip_signal(b.kpd[:,j],threshold=2.0)\n",
      "# \tnewkpds[j],newkpes[j] = np.mean(newsignal),np.std(newsignal)/np.sqrt(np.size(newsignal))\n",
      "\n",
      "# b.kpd,b.kpe = newkpds,newkpes\n",
      "\n",
      "b.kpe = np.std(b.kpd,axis=0)/np.sqrt(b.kpd.shape[0])\n",
      "\n",
      "# if it takes a lot of iterations this might be a bad sign and it will warn you\n",
      "# - you might want to turn off clipping! instead a.kpd = np.mean(a.kpd), a.kpe = np.std(a.kpd)/np.sqrt(nframes)\n",
      "\n",
      "if num == 0:\n",
      "    a.kpd = np.mean(a.kpd,axis=0)\n",
      "    a.nsets = 1\n",
      "    a.hdr = a.hdr[0]\n",
      "\n",
      "    b.kpd = np.mean(b.kpd,axis=0)\n",
      "    b.nsets = 1\n",
      "    b.hdr = b.hdr[0]\n",
      "# else:\n",
      "#     a.kpe = error_kp"
     ],
     "language": "python",
     "metadata": {},
     "outputs": [],
     "prompt_number": 6
    },
    {
     "cell_type": "code",
     "collapsed": false,
     "input": [
      "if bispec:\n",
      "    print 'Doing Bispectrum!'\n",
      "#     a.bspe = np.std(a.bsp,axis=0)/np.sqrt(a.bsp.shape[0])\n",
      "\n",
      "    # b.kpe = np.std(a.kpd,axis=0)\n",
      "    # b.kpd = np.mean(a.kpd,axis=0)\n",
      "\n",
      "    # newkpds = np.zeros(b.kpd.shape[1])\n",
      "    # newkpes = np.zeros(b.kpd.shape[1])\n",
      "    # for j in range(b.kpd.shape[1]):\n",
      "    # \tnewsignal = pysco.clip_signal(b.kpd[:,j],threshold=2.0)\n",
      "    # \tnewkpds[j],newkpes[j] = np.mean(newsignal),np.std(newsignal)/np.sqrt(np.size(newsignal))\n",
      "\n",
      "    # b.kpd,b.kpe = newkpds,newkpes\n",
      "\n",
      "#     b.bspe = np.std(b.bsp,axis=0)/np.sqrt(b.bsp.shape[0])\n",
      "\n",
      "    # if it takes a lot of iterations this might be a bad sign and it will warn you\n",
      "    # - you might want to turn off clipping! instead a.kpd = np.mean(a.kpd), a.kpe = np.std(a.kpd)/np.sqrt(nframes)\n",
      "\n",
      "    if num == 0:\n",
      "        a.bsp = np.mean(a.bsp,axis=0)\n",
      "        a.nsets = 1\n",
      "\n",
      "        b.bsp = np.mean(b.bsp,axis=0)\n",
      "        b.nsets = 1\n",
      "    else:\n",
      "        a.bspe = errors\n",
      "        a.nsets = 1"
     ],
     "language": "python",
     "metadata": {},
     "outputs": [],
     "prompt_number": 7
    },
    {
     "cell_type": "code",
     "collapsed": false,
     "input": [
      "#calibrate - this is a crude way to do things, but as we discuss in the paper, the systematics are bad enough \n",
      "# that it is unlikely that a clever Bayesian way of doing things would be much better\n",
      "if num == 0:\n",
      "    if no_kp:\n",
      "        addederror = 8.5\n",
      "    else:\n",
      "        addederror = 5.0#1.05\n",
      "\n",
      "    a.kpd -= b.kpd #subtract systematic\n",
      "    a.kpe = np.sqrt(a.kpe**2. + b.kpe**2.+ addederror**2.) #add statistical and measurement in quadrature\n",
      "    if bispec:\n",
      "        print 'Calibrating Bispectrum'\n",
      "        bsp_addederror = 5.3\n",
      "        a.bsp -= b.bsp\n",
      "        a.bspe = np.sqrt(a.bspe**2. + b.bspe**2. * bsp_addederror**2)\n",
      "else:\n",
      "    addederror = 1.05\n",
      "    print 'no systematic subtraction'\n",
      "    a.kpe = np.sqrt(a.kpe**2. + addederror**2.) #add statistical and measurement in quadrature\n",
      "    print addederror\n",
      "\n",
      "\n",
      "# you may want to add an error term in quadrature - see the note later! We can cheat and tell you that 1. should do the job,\n",
      "# but try 0 if you want to see how well it does without it\n",
      "# a.kpe = error_kp "
     ],
     "language": "python",
     "metadata": {},
     "outputs": [],
     "prompt_number": 8
    },
    {
     "cell_type": "markdown",
     "metadata": {},
     "source": [
      "In the following two cells we have two different ways of fitting a model to these data - one uses MultiNest and one uses emcee.\n",
      "\n",
      "MultiNest is available at http://ccpforge.cse.rl.ac.uk/gf/project/multinest/, and is accessed through Johannes Buchner's PyMultiNest Python wrapper available at http://johannesbuchner.github.io/PyMultiNest/ . These can be difficult to install, especially on some operating systems, and we do not use these results in the final paper, as we explore the posterior pdf more fully with emcee.\n",
      "\n",
      "emcee, the 'MCMC Hammer', is available from http://dan.iel.fm/emcee/current/ and is the main sampler used in the paper as submitted. We recommend initializing this and using its default values, as this will give the same results as we report in the paper. "
     ]
    },
    {
     "cell_type": "code",
     "collapsed": false,
     "input": [
      "# # MultiNest Option \n",
      "paramlimits = [50.,200.,0.,360.,5,50]\n",
      "\n",
      "results = pysco.nest(b,paramlimits=paramlimits,bispec=bispec)\n",
      "\n",
      "params = [results[0]['median'],results[1]['median'],results[2]['median']]\n",
      "\n",
      "print 'Sep %.3f mas  Position angle %.3f deg  Contrast %.3f' % (params[0], params[1], params[2])  "
     ],
     "language": "python",
     "metadata": {},
     "outputs": [
      {
       "output_type": "stream",
       "stream": "stdout",
       "text": [
        "  analysing data from chains/1-.txt\n",
        "Time elapsed ="
       ]
      },
      {
       "output_type": "stream",
       "stream": "stdout",
       "text": [
        " 2.96196971734 mins\n",
        "\n",
        "------------------------------ ANALYSIS ------------------------------\n",
        "Global Evidence:\n",
        "\t-4.705295707045157e+03 +- 1.305654426689438e-01\n",
        "Separation: 50.270 pm 0.26\n",
        "Position angle: 155.481 pm 0.63\n",
        "Contrast at 2.145 um: 5.008 pm 0.009\n",
        "Sep 50.270 mas  Position angle 155.481 deg  Contrast 5.008\n"
       ]
      }
     ],
     "prompt_number": 9
    },
    {
     "cell_type": "code",
     "collapsed": false,
     "input": [
      "flatchain = pysco.hammer(a,ivar = [131.23, 82.84, 27.59], burnin=100, nsteps=1000, paramlimits=[40,250,0,360,5,50.],\n",
      "                         bispec=bispec) \n",
      "# Parameters as determined by aperture masking: [131.23, 82.84, 27.59]\n",
      "\n",
      "seps = flatchain[:,0]\n",
      "ths = flatchain[:,1]\n",
      "cons = flatchain[:,2]\n",
      "\n",
      "sep = np.mean(seps)\n",
      "\n",
      "th = np.mean(ths) # remember on Palomar the position angle goes the other way - so check this is not 360 - your answer!\n",
      "\n",
      "con = np.mean(cons)\n",
      "\n",
      "print 'Sep %.3f mas  Position angle %.2f deg  Contrast %.3f' % (sep, th, con)  \n",
      "params = [sep,th,con]\n"
     ],
     "language": "python",
     "metadata": {},
     "outputs": [
      {
       "output_type": "stream",
       "stream": "stdout",
       "text": [
        "Running emcee now!\n",
        "Burnt in! Took 26.594 seconds"
       ]
      },
      {
       "output_type": "stream",
       "stream": "stdout",
       "text": [
        "\n",
        "Time elapsed = 284.996 s"
       ]
      },
      {
       "output_type": "stream",
       "stream": "stdout",
       "text": [
        "\n",
        "Separation 98.788 pm 13.597 mas\n",
        "Position angle 80.812 pm 4.501 deg\n",
        "Contrast at 2.145 um 5.573 pm 3.673\n",
        "Sep 98.788 mas  Position angle 80.81 deg  Contrast 5.573\n"
       ]
      }
     ],
     "prompt_number": 10
    },
    {
     "cell_type": "code",
     "collapsed": false,
     "input": [
      "# now plot your results! requires emcee output \n",
      "# if you have outliers you may have to fiddle with the extents \n",
      "\n",
      "fig = triangle.corner(flatchain, labels=[\"Separation (mas)\", \"Position Angle (deg)\", \"Contrast\"])#, extents = [0.92,0.92,0.92])\n",
      "plt.show()\n",
      "plt.savefig('./posterior.png')"
     ],
     "language": "python",
     "metadata": {},
     "outputs": [
      {
       "metadata": {},
       "output_type": "display_data",
       "png": "[encoded data removed]",
       "text": [
        "<matplotlib.figure.Figure at 0x7f217f07a250>"
       ]
      },
      {
       "metadata": {},
       "output_type": "display_data",
       "text": [
        "<matplotlib.figure.Figure at 0x7f217eaae3d0>"
       ]
      }
     ],
     "prompt_number": 11
    },
    {
     "cell_type": "code",
     "collapsed": false,
     "input": [
      "params = [sep,th,con]\n",
      "params = [131.23,82.6, 19.7]\n",
      "d = pysco.binary_model(params,a.kpi,a.hdr,bispec=bispec)\n",
      "\n",
      "plt.clf()\n",
      "if bispec:\n",
      "#     plt.errorbar(d[np.abs(a.bsp)<50],a.bsp[np.abs(a.bsp)<50],yerr=a.bspe[np.abs(a.bsp)<50],fmt='b.')\n",
      "    plt.errorbar(d,a.bsp,yerr=a.bspe,fmt='b.')\n",
      "    mm = np.round(np.max(np.abs(a.bsp)))\n",
      "#     mm = 42\n",
      "#     mm = 10\n",
      "    plt.axis([-mm,mm,-mm,mm],fontsize='large')\n",
      "else:\n",
      "    mm = np.round(np.max(np.abs(a.kpd)))\n",
      "    plt.errorbar(d,a.kpd,yerr=a.kpe,fmt='b.')\n",
      "    plt.axis('tight',fontsize='large')\n",
      "plt.plot([-mm,mm],[-mm,mm], 'g')\n",
      "\n",
      "\n",
      "if bispec:\n",
      "    plt.xlabel('Model Bispectral Phases (deg)',fontsize='large')\n",
      "    plt.ylabel('Bispectral Phase Signal (deg)', fontsize='large')\n",
      "    plt.title('Bispectrum Correlation Diagram',\n",
      "          fontsize='large') \n",
      "elif no_kp:\n",
      "    plt.xlabel('Model Phases',fontsize='large')\n",
      "    plt.ylabel('Raw Phase Signal', fontsize='large')\n",
      "    plt.title('Raw Phase Correlation Diagram',\n",
      "          fontsize='large')\n",
      "else:\n",
      "    plt.xlabel('Model Kernel Phases (deg)',fontsize='large')\n",
      "    plt.ylabel('Kernel Phase Signal (deg)', fontsize='large')\n",
      "    plt.title('Kernel Phase Correlation Diagram',\n",
      "\t\t  fontsize='large')\n",
      "plt.draw()\n",
      "plt.show()\n",
      "plt.savefig('./correlation_Ks.png')\n"
     ],
     "language": "python",
     "metadata": {},
     "outputs": [
      {
       "metadata": {},
       "output_type": "display_data",
       "png": "[encoded data removed]",
       "text": [
        "<matplotlib.figure.Figure at 0x7f217e0e7850>"
       ]
      },
      {
       "metadata": {},
       "output_type": "display_data",
       "text": [
        "<matplotlib.figure.Figure at 0x7f217dff05d0>"
       ]
      }
     ],
     "prompt_number": 15
    },
    {
     "cell_type": "markdown",
     "metadata": {},
     "source": [
      "There is a problem in the above! As you'll notice if you don't include an error term added in quadrature, it's got enormously more scatter than the error bars suggest. This is because the error bars are probably way too small - they are derived from scatter in the observations, whereas we know that due to saturation, a ghost (!) and poor AO performance they are likely to suffer from a systematic offset as well.\n",
      "\n",
      "As a result, we will recalculate all of the above, adding a second error term in quadrature to get a chi2 of 1 and redoing the MCMC.\n",
      "\n",
      "To help you out, as we note above, we found that the best error to do this is 1 degree, but feel free to play with this."
     ]
    },
    {
     "cell_type": "code",
     "collapsed": false,
     "input": [
      "if bispec:\n",
      "    chi2 = np.sum(((a.bsp -d)/a.bspe)**2.)\n",
      "    print a.bsp.max()\n",
      "else:\n",
      "    chi2 = np.sum(((a.kpd -d)/a.kpe)**2.)\n",
      "\n",
      "print 'Reduced chi2 = %03f'%(chi2/(a.kpi.nkphi-4.))"
     ],
     "language": "python",
     "metadata": {},
     "outputs": [
      {
       "output_type": "stream",
       "stream": "stdout",
       "text": [
        "Reduced chi2 = 15.262433\n"
       ]
      }
     ],
     "prompt_number": 13
    },
    {
     "cell_type": "heading",
     "level": 2,
     "metadata": {},
     "source": [
      "Thank you for taking the time to read this! I hope this was enlightening and maybe you can even use some of this in your own research.\n",
      "\n",
      "Cheers,\n",
      "\n",
      "Ben"
     ]
    },
    {
     "cell_type": "code",
     "collapsed": false,
     "input": [
      "'''------------------------------------------------\n",
      "Write out a cleaned stacked cube\n",
      "------------------------------------------------'''\n",
      "\n",
      "#read it in - using the pysco routine so as to get the centering correct\n",
      "\n",
      "cube,hdr = pysco.load_cube(ddir+fnames[0])\n",
      "\n",
      "#stack centred images\n",
      "stacked_cube = np.sum(cube,axis = 0)\n",
      "\n",
      "#now save as a .fits file\n",
      "try:\n",
      "    f = fitsio.FITS('./stacked_cube_%s_%s.fits'%(tnames[0],bandn),'rw')\n",
      "    f.write(stacked_cube,hdr=hdr)\n",
      "    f.close()\n",
      "    print 'Written as ./stacked_cube_%s_%s.fits'%(tnames[0],bandn)\n",
      "except:\n",
      "    print 'Failed to write'\n",
      "\n",
      "#do calibrator\n",
      "calcube,calhdr = pysco.load_cube(ddir+fnames[1])\n",
      "\n",
      "#stack centred images\n",
      "stacked_cube_cal = np.sum(calcube,axis = 0)\n",
      "\n",
      "#now save as a .fits file\n",
      "try:\n",
      "    f = fitsio.FITS('./stacked_cube_%s_%s_cal.fits'%(tnames[1],bandn),'rw')\n",
      "    f.write(stacked_cube_cal,hdr=hdr)\n",
      "    f.close()\n",
      "    print 'Written as ./stacked_cube_%s_%s_cal.fits'%(tnames[1],bandn)\n",
      "except:\n",
      "    print 'Failed to write'"
     ],
     "language": "python",
     "metadata": {},
     "outputs": [
      {
       "output_type": "stream",
       "stream": "stdout",
       "text": [
        "Written as ./stacked_cube_alpOph_Ks.fits\n",
        "Written as ./stacked_cube_epsOph_Ks_cal.fits"
       ]
      },
      {
       "output_type": "stream",
       "stream": "stdout",
       "text": [
        "\n"
       ]
      }
     ],
     "prompt_number": 14
    },
    {
     "cell_type": "heading",
     "level": 2,
     "metadata": {},
     "source": [
      "Now we're going to use Alex and Mike's MEM code to try and use the kernel phase information to deconvolve the images differently. This at present uses a high-contrast approximation (small-phase, ie phase ~ imaginary component) to simplify the matrices (DFT -> sine, so no complex operations)."
     ]
    },
    {
     "cell_type": "code",
     "collapsed": false,
     "input": [
      "'''----------------------------------------------------\n",
      "Now to make deconvolved images! \n",
      "\n",
      "In mk_kp2implane run kerphimobj(kpi, keywords), \n",
      "giving it a kpi object & some necessary keywords outlined\n",
      "in the code, importantly kerph and kerpherr --- a set of \n",
      "kernel phases (radians) and errors. \n",
      "----------------------------------------------------'''\n",
      "\n",
      "from imaging import *\n",
      "\n",
      "fov = 40\n",
      "tic1= time()\n",
      "kpimobj = kerphimobj(a,fov=fov,bsp=True)\n",
      "if no_kp:\n",
      "    kpimobj.name = 'test_no_kp'\n",
      "else:\n",
      "    kpimobj.name = 'test'\n",
      "kpimobj.kp2pm,kpimobj.sym2im = kpimobj.kerph2im(theta=a.hdr['orient'])\n",
      "toc1=time()\n",
      "kpimobj.write()\n",
      "print toc1-tic1, 'seconds elapsed'"
     ],
     "language": "python",
     "metadata": {},
     "outputs": [
      {
       "output_type": "stream",
       "stream": "stdout",
       "text": [
        "Doing bispectrum\n",
        "WARNING"
       ]
      },
      {
       "output_type": "stream",
       "stream": "stderr",
       "text": [
        "WARNING:astropy:Overwriting existing file 'kerphim_test.fits'.\n"
       ]
      },
      {
       "output_type": "stream",
       "stream": "stdout",
       "text": [
        ": Overwriting existing file 'kerphim_test.fits'. [astropy.io.fits.hdu.hdulist]\n",
        "3.86425900459 seconds elapsed\n"
       ]
      }
     ],
     "prompt_number": 15
    },
    {
     "cell_type": "code",
     "collapsed": false,
     "input": [
      "'''------------------------------\n",
      "Now run it!\n",
      "------------------------------'''\n",
      "\n",
      "#\timsize -- the size of the image in pixels, needs to match input\n",
      "#\t\t\t  file 'pixel matrix' size\n",
      "#\talpha  -- A starting value for the MEM functional multiplier (default=1.0)\n",
      "#\tgain   -- The servo gain for adjusting alpha to achieve chi^2=1\n",
      "#\tniter  -- number of iterations\n",
      "#\tprior  -- as mentioned at the start of this script, the prior\n",
      "#\t\t\t  is used to contrain the flux\n",
      "\n",
      "from imaging import *\n",
      "%matplotlib inline\n",
      "\n",
      "'''defaults'''\n",
      "if no_kp:\n",
      "    imsize = 40\n",
      "    alpha = 0.5\n",
      "    gain = 0.0001\n",
      "    prior = np.ones(imsize**2)/imsize**2.0\n",
      "elif bispec:\n",
      "    imsize = 40\n",
      "    alpha = 100000\n",
      "    gain = 0.01\n",
      "    prior = np.ones(imsize**2)/imsize**2.0   \n",
      "else:\n",
      "    imsize = 40\n",
      "    alpha = 0.5\n",
      "    gain = 0.0001\n",
      "    prior = np.ones(imsize**2)/imsize**2.0\n",
      "\n",
      "# xx,yy= np.meshgrid(np.arange(imsize)-imsize/2.,np.arange(imsize)-imsize/2.)\n",
      "# rr = np.sqrt(xx**2. + yy**2.)\n",
      "# prior1= np.exp(-(rr/(imsize/2.))**2)\n",
      "# prior = np.ravel(prior1/np.sum(prior1))\n",
      "\n",
      "niter = 1000\n",
      "if no_kp:\n",
      "    fname_im = 'kerphim_test_no_kp.fits'\n",
      "else:\n",
      "    fname_im = 'kerphim_test.fits'\n",
      "# trial.read_data(fname_im)\n",
      "\n",
      "tic = time()\n",
      "trial = MemImage(fname_im, niter=niter,imsize=imsize,alpha=alpha,gain=gain,prior=prior)\n",
      "im = trial.mem_image()\n",
      "toc = time()\n",
      "print toc-tic, 'seconds elapsed'\n",
      "\n",
      "\n",
      "#now save as a .fits file\n",
      "try:\n",
      "    f = fitsio.FITS('./mem_image_kp.fits','rw')\n",
      "    f.write(im)\n",
      "    f.close()\n",
      "    print 'Written as ./mem_image_kp.fits'\n",
      "except:\n",
      "    print 'Failed to write'\n"
     ],
     "language": "python",
     "metadata": {},
     "outputs": [
      {
       "output_type": "stream",
       "stream": "stdout",
       "text": [
        "Initialized: image size 40\n",
        "Done: 10 of 1000 iterations. Chi^2: 3182.03081052 alpha: 88108.5942843 chi2diff: -3.16498037965"
       ]
      },
      {
       "output_type": "stream",
       "stream": "stdout",
       "text": [
        "\n",
        "Done: 20 of 1000 iterations. Chi^2: 3181.8602934 alpha: 64205.1516498 chi2diff: -3.16476396585"
       ]
      },
      {
       "output_type": "stream",
       "stream": "stdout",
       "text": [
        "\n",
        "Done: 30 of 1000 iterations. Chi^2: 3181.62896126 alpha: 46787.7972379 chi2diff: -3.16447035199"
       ]
      },
      {
       "output_type": "stream",
       "stream": "stdout",
       "text": [
        "\n",
        "Done: 40 of 1000 iterations. Chi^2: 3181.31134627 alpha: 34096.5591435 chi2diff: -3.16406793556"
       ]
      },
      {
       "output_type": "stream",
       "stream": "stdout",
       "text": [
        "\n",
        "Done: 50 of 1000 iterations. Chi^2: 3180.87618692 alpha: 24849.0273867 chi2diff: -3.16351587085"
       ]
      },
      {
       "output_type": "stream",
       "stream": "stdout",
       "text": [
        "\n",
        "Done: 60 of 1000 iterations. Chi^2: 3180.27952872 alpha: 18110.7679997 chi2diff: -3.16275921493"
       ]
      },
      {
       "output_type": "stream",
       "stream": "stdout",
       "text": [
        "\n",
        "Done: 70 of 1000 iterations. Chi^2: 3179.46259794 alpha: 13200.9008306 chi2diff: -3.1617227462"
       ]
      },
      {
       "output_type": "stream",
       "stream": "stdout",
       "text": [
        "\n",
        "Done: 80 of 1000 iterations. Chi^2: 3178.34434145 alpha: 9623.29889708 chi2diff: -3.16030464814"
       ]
      },
      {
       "output_type": "stream",
       "stream": "stdout",
       "text": [
        "\n",
        "Done: 90 of 1000 iterations. Chi^2: 3176.81536029 alpha: 7016.45691492 chi2diff: -3.15836462527"
       ]
      },
      {
       "output_type": "stream",
       "stream": "stdout",
       "text": [
        "\n",
        "Done: 100 of 1000 iterations. Chi^2: 3174.7275966 alpha: 5116.9616283 chi2diff: -3.15571540979"
       ]
      },
      {
       "output_type": "stream",
       "stream": "stdout",
       "text": [
        "\n",
        "Done: 110 of 1000 iterations. Chi^2: 3171.8816692 alpha: 3732.87506641 chi2diff: -3.15210382055"
       ]
      },
      {
       "output_type": "stream",
       "stream": "stdout",
       "text": [
        "\n",
        "Done: 120 of 1000 iterations. Chi^2: 3168.0122349 alpha: 2724.33977171 chi2diff: -3.14719206561"
       ]
      },
      {
       "output_type": "stream",
       "stream": "stdout",
       "text": [
        "\n",
        "Done: 130 of 1000 iterations. Chi^2: 3162.76829779 alpha: 1989.44680196 chi2diff: -3.14053231462"
       ]
      },
      {
       "output_type": "stream",
       "stream": "stdout",
       "text": [
        "\n",
        "Done: 140 of 1000 iterations. Chi^2: 3155.69216938 alpha: 1453.93812534 chi2diff: -3.13154160483"
       ]
      },
      {
       "output_type": "stream",
       "stream": "stdout",
       "text": [
        "\n",
        "Done: 150 of 1000 iterations. Chi^2: 3146.19761552 alpha: 1063.70338619 chi2diff: -3.11947081706"
       ]
      },
      {
       "output_type": "stream",
       "stream": "stdout",
       "text": [
        "\n",
        "Done: 160 of 1000 iterations. Chi^2: 3133.5515683 alpha: 779.312572332 chi2diff: -3.10337994477"
       ]
      },
      {
       "output_type": "stream",
       "stream": "stdout",
       "text": [
        "\n",
        "Done: 170 of 1000 iterations. Chi^2: 3116.86462643 alpha: 572.032260556 chi2diff: -3.08212519165"
       ]
      },
      {
       "output_type": "stream",
       "stream": "stdout",
       "text": [
        "\n",
        "Done: 180 of 1000 iterations. Chi^2: 3095.0999898 alpha: 420.92299233 chi2diff: -3.05436808571"
       ]
      },
      {
       "output_type": "stream",
       "stream": "stdout",
       "text": [
        "\n",
        "Done: 190 of 1000 iterations. Chi^2: 3067.11320515 alpha: 310.724590098 chi2diff: -3.01861996111"
       ]
      },
      {
       "output_type": "stream",
       "stream": "stdout",
       "text": [
        "\n",
        "Done: 200 of 1000 iterations. Chi^2: 3031.7275429 alpha: 230.315593018 chi2diff: -2.9733394431"
       ]
      },
      {
       "output_type": "stream",
       "stream": "stdout",
       "text": [
        "\n",
        "Done: 210 of 1000 iterations. Chi^2: 2987.85469151 alpha: 171.591183667 chi2diff: -2.91708199539"
       ]
      },
      {
       "output_type": "stream",
       "stream": "stdout",
       "text": [
        "\n",
        "Done: 220 of 1000 iterations. Chi^2: 2934.64410399 alpha: 128.645974856 chi2diff: -2.84869394724"
       ]
      },
      {
       "output_type": "stream",
       "stream": "stdout",
       "text": [
        "\n",
        "Done: 230 of 1000 iterations. Chi^2: 2871.63693737 alpha: 97.1788470613 chi2diff: -2.76751500272"
       ]
      },
      {
       "output_type": "stream",
       "stream": "stdout",
       "text": [
        "\n",
        "Done: 240 of 1000 iterations. Chi^2: 2798.88137718 alpha: 74.0593328666 chi2diff: -2.67353777747"
       ]
      },
      {
       "output_type": "stream",
       "stream": "stdout",
       "text": [
        "\n",
        "Done: 250 of 1000 iterations. Chi^2: 2716.97359972 alpha: 57.0114149933 chi2diff: -2.56746927949"
       ]
      },
      {
       "output_type": "stream",
       "stream": "stdout",
       "text": [
        "\n",
        "Done: 260 of 1000 iterations. Chi^2: 2627.96226624 alpha: 44.3810568709 chi2diff: -2.45118701419"
       ]
      },
      {
       "output_type": "stream",
       "stream": "stdout",
       "text": [
        "\n",
        "Done: 270 of 1000 iterations. Chi^2: 2531.71217473 alpha: 34.9699361598 chi2diff: -2.32584556693"
       ]
      },
      {
       "output_type": "stream",
       "stream": "stdout",
       "text": [
        "\n",
        "Done: 280 of 1000 iterations. Chi^2: 2431.01334422 alpha: 27.9112680737 chi2diff: -2.19651828634"
       ]
      },
      {
       "output_type": "stream",
       "stream": "stdout",
       "text": [
        "\n",
        "Done: 290 of 1000 iterations. Chi^2: 2326.31406701 alpha: 22.5737625001 chi2diff: -2.06134777288"
       ]
      },
      {
       "output_type": "stream",
       "stream": "stdout",
       "text": [
        "\n",
        "Done: 300 of 1000 iterations. Chi^2: 2237.98487521 alpha: 18.4998824864 chi2diff: -1.94075517828"
       ]
      },
      {
       "output_type": "stream",
       "stream": "stdout",
       "text": [
        "\n",
        "Done: 310 of 1000 iterations. Chi^2: 2139.3696541 alpha: 15.3668160611 chi2diff: -1.80022206034"
       ]
      },
      {
       "output_type": "stream",
       "stream": "stdout",
       "text": [
        "\n",
        "Done: 320 of 1000 iterations. Chi^2: 2010.44727493 alpha: 12.9264883375 chi2diff: -1.660470416"
       ]
      },
      {
       "output_type": "stream",
       "stream": "stdout",
       "text": [
        "\n",
        "Done: 330 of 1000 iterations. Chi^2: 1922.07582029 alpha: 11.0204492831 chi2diff: -1.54050348112"
       ]
      },
      {
       "output_type": "stream",
       "stream": "stdout",
       "text": [
        "\n",
        "Done: 340 of 1000 iterations. Chi^2: 1872.55622342 alpha: 9.49649292462 chi2diff: -1.45312066026"
       ]
      },
      {
       "output_type": "stream",
       "stream": "stdout",
       "text": [
        "\n",
        "Done: 350 of 1000 iterations. Chi^2: 1769.74066719 alpha: 8.26804133079 chi2diff: -1.32368367069"
       ]
      },
      {
       "output_type": "stream",
       "stream": "stdout",
       "text": [
        "\n",
        "Done: 360 of 1000 iterations. Chi^2: 1689.28017773 alpha: 7.30044345589 chi2diff: -1.21093166715"
       ]
      },
      {
       "output_type": "stream",
       "stream": "stdout",
       "text": [
        "\n",
        "Done: 370 of 1000 iterations. Chi^2: 1602.83401106 alpha: 6.4939391219 chi2diff: -1.09923517453"
       ]
      },
      {
       "output_type": "stream",
       "stream": "stdout",
       "text": [
        "\n",
        "Done: 380 of 1000 iterations. Chi^2: 1562.714317 alpha: 5.82929750639 chi2diff: -1.04983102274"
       ]
      },
      {
       "output_type": "stream",
       "stream": "stdout",
       "text": [
        "\n",
        "Done: 390 of 1000 iterations. Chi^2: 1490.3233655 alpha: 5.2783092888 chi2diff: -0.960477093368"
       ]
      },
      {
       "output_type": "stream",
       "stream": "stdout",
       "text": [
        "\n",
        "Done: 400 of 1000 iterations. Chi^2: 1426.08536511 alpha: 4.82044531761 chi2diff: -0.867754678261"
       ]
      },
      {
       "output_type": "stream",
       "stream": "stdout",
       "text": [
        "\n",
        "Done: 410 of 1000 iterations. Chi^2: 1378.66416706 alpha: 4.43113677626 chi2diff: -0.805647593733"
       ]
      },
      {
       "output_type": "stream",
       "stream": "stdout",
       "text": [
        "\n",
        "Done: 420 of 1000 iterations. Chi^2: 1335.12319422 alpha: 4.10096843429 chi2diff: -0.748687257938"
       ]
      },
      {
       "output_type": "stream",
       "stream": "stdout",
       "text": [
        "\n",
        "Done: 430 of 1000 iterations. Chi^2: 1290.28691358 alpha: 3.8160138212 chi2diff: -0.692376769453"
       ]
      },
      {
       "output_type": "stream",
       "stream": "stdout",
       "text": [
        "\n",
        "Done: 440 of 1000 iterations. Chi^2: 1270.75257435 alpha: 3.56755211867 chi2diff: -0.666899091644"
       ]
      },
      {
       "output_type": "stream",
       "stream": "stdout",
       "text": [
        "\n",
        "Done: 450 of 1000 iterations. Chi^2: 1243.21834667 alpha: 3.34436124136 chi2diff: -0.627246222412"
       ]
      },
      {
       "output_type": "stream",
       "stream": "stdout",
       "text": [
        "\n",
        "Done: 460 of 1000 iterations. Chi^2: 1207.46962533 alpha: 3.14752176496 chi2diff: -0.580525818874"
       ]
      },
      {
       "output_type": "stream",
       "stream": "stdout",
       "text": [
        "\n",
        "Done: 470 of 1000 iterations. Chi^2: 1190.39228356 alpha: 2.97344232805 chi2diff: -0.558654657181"
       ]
      },
      {
       "output_type": "stream",
       "stream": "stdout",
       "text": [
        "\n",
        "Done: 480 of 1000 iterations. Chi^2: 1136.57771312 alpha: 2.81919219301 chi2diff: -0.496417964908"
       ]
      },
      {
       "output_type": "stream",
       "stream": "stdout",
       "text": [
        "\n",
        "Done: 490 of 1000 iterations. Chi^2: 1120.53169532 alpha: 2.68902891133 chi2diff: -0.466928592387"
       ]
      },
      {
       "output_type": "stream",
       "stream": "stdout",
       "text": [
        "\n",
        "Done: 500 of 1000 iterations. Chi^2: 1112.52247807 alpha: 2.56720943335 chi2diff: -0.459048719324"
       ]
      },
      {
       "output_type": "stream",
       "stream": "stdout",
       "text": [
        "\n",
        "Done: 510 of 1000 iterations. Chi^2: 1098.67322138 alpha: 2.45548356116 chi2diff: -0.438626427969"
       ]
      },
      {
       "output_type": "stream",
       "stream": "stdout",
       "text": [
        "\n",
        "Done: 520 of 1000 iterations. Chi^2: 1070.01338883 alpha: 2.35691040688 chi2diff: -0.401905318355"
       ]
      },
      {
       "output_type": "stream",
       "stream": "stdout",
       "text": [
        "\n",
        "Done: 530 of 1000 iterations. Chi^2: 1048.88928809 alpha: 2.26656867319 chi2diff: -0.379727818339"
       ]
      },
      {
       "output_type": "stream",
       "stream": "stdout",
       "text": [
        "\n",
        "Done: 540 of 1000 iterations. Chi^2: 1038.36538928 alpha: 2.185299973 chi2diff: -0.358975830695"
       ]
      },
      {
       "output_type": "stream",
       "stream": "stdout",
       "text": [
        "\n",
        "Done: 550 of 1000 iterations. Chi^2: 1022.76955475 alpha: 2.10940857738 chi2diff: -0.341776244075"
       ]
      },
      {
       "output_type": "stream",
       "stream": "stdout",
       "text": [
        "\n",
        "Done: 560 of 1000 iterations. Chi^2: 1000.35352181 alpha: 2.04305120633 chi2diff: -0.309636677069"
       ]
      },
      {
       "output_type": "stream",
       "stream": "stdout",
       "text": [
        "\n",
        "Done: 570 of 1000 iterations. Chi^2: 986.689932489 alpha: 1.98240992859 chi2diff: -0.292109870039"
       ]
      },
      {
       "output_type": "stream",
       "stream": "stdout",
       "text": [
        "\n",
        "Done: 580 of 1000 iterations. Chi^2: 969.882201653 alpha: 1.92762401748 chi2diff: -0.271090678791"
       ]
      },
      {
       "output_type": "stream",
       "stream": "stdout",
       "text": [
        "\n",
        "Done: 590 of 1000 iterations. Chi^2: 962.909350565 alpha: 1.87725649499 chi2diff: -0.26037965627"
       ]
      },
      {
       "output_type": "stream",
       "stream": "stdout",
       "text": [
        "\n",
        "Done: 600 of 1000 iterations. Chi^2: 958.041677029 alpha: 1.82942928552 chi2diff: -0.25412541924"
       ]
      },
      {
       "output_type": "stream",
       "stream": "stdout",
       "text": [
        "\n",
        "Done: 610 of 1000 iterations. Chi^2: 940.98430315 alpha: 1.78559496086 chi2diff: -0.231741429915"
       ]
      },
      {
       "output_type": "stream",
       "stream": "stdout",
       "text": [
        "\n",
        "Done: 620 of 1000 iterations. Chi^2: 935.885506057 alpha: 1.74524224382 chi2diff: -0.22639196611"
       ]
      },
      {
       "output_type": "stream",
       "stream": "stdout",
       "text": [
        "\n",
        "Done: 630 of 1000 iterations. Chi^2: 929.95425312 alpha: 1.7070436386 chi2diff: -0.217172044366"
       ]
      },
      {
       "output_type": "stream",
       "stream": "stdout",
       "text": [
        "\n",
        "Done: 640 of 1000 iterations. Chi^2: 919.703641005 alpha: 1.67114263296 chi2diff: -0.205684765366"
       ]
      },
      {
       "output_type": "stream",
       "stream": "stdout",
       "text": [
        "\n",
        "Done: 650 of 1000 iterations. Chi^2: 914.98820991 alpha: 1.6380424573 chi2diff: -0.197602166403"
       ]
      },
      {
       "output_type": "stream",
       "stream": "stdout",
       "text": [
        "\n",
        "Done: 660 of 1000 iterations. Chi^2: 900.727443292 alpha: 1.60658534305 chi2diff: -0.184501993293"
       ]
      },
      {
       "output_type": "stream",
       "stream": "stdout",
       "text": [
        "\n",
        "Done: 670 of 1000 iterations. Chi^2: 900.486914211 alpha: 1.57810794952 chi2diff: -0.178796612043"
       ]
      },
      {
       "output_type": "stream",
       "stream": "stdout",
       "text": [
        "\n",
        "Done: 680 of 1000 iterations. Chi^2: 891.628540271 alpha: 1.55068752342 chi2diff: -0.166906511008"
       ]
      },
      {
       "output_type": "stream",
       "stream": "stdout",
       "text": [
        "\n",
        "Done: 690 of 1000 iterations. Chi^2: 886.389074018 alpha: 1.52560206971 chi2diff: -0.160206502265"
       ]
      },
      {
       "output_type": "stream",
       "stream": "stdout",
       "text": [
        "\n",
        "Done: 700 of 1000 iterations. Chi^2: 884.223261815 alpha: 1.50154420372 chi2diff: -0.157949601925"
       ]
      },
      {
       "output_type": "stream",
       "stream": "stdout",
       "text": [
        "\n",
        "Done: 710 of 1000 iterations. Chi^2: 879.566193856 alpha: 1.47835804783 chi2diff: -0.151012761151"
       ]
      },
      {
       "output_type": "stream",
       "stream": "stdout",
       "text": [
        "\n",
        "Done: 720 of 1000 iterations. Chi^2: 863.007901717 alpha: 1.45824014685 chi2diff: -0.130074740306"
       ]
      },
      {
       "output_type": "stream",
       "stream": "stdout",
       "text": [
        "\n",
        "Done: 730 of 1000 iterations. Chi^2: 859.703266559 alpha: 1.43965089923 chi2diff: -0.125867457419"
       ]
      },
      {
       "output_type": "stream",
       "stream": "stdout",
       "text": [
        "\n",
        "Done: 740 of 1000 iterations. Chi^2: 855.497448159 alpha: 1.42208934175 chi2diff: -0.120346601723"
       ]
      },
      {
       "output_type": "stream",
       "stream": "stdout",
       "text": [
        "\n",
        "Done: 750 of 1000 iterations. Chi^2: 853.014937622 alpha: 1.40539236967 chi2diff: -0.116974586534"
       ]
      },
      {
       "output_type": "stream",
       "stream": "stdout",
       "text": [
        "\n",
        "Done: 760 of 1000 iterations. Chi^2: 851.775194818 alpha: 1.38923831319 chi2diff: -0.114888998453"
       ]
      },
      {
       "output_type": "stream",
       "stream": "stdout",
       "text": [
        "\n",
        "Done: 770 of 1000 iterations. Chi^2: 847.644482173 alpha: 1.37372592898 chi2diff: -0.109461260009"
       ]
      },
      {
       "output_type": "stream",
       "stream": "stdout",
       "text": [
        "\n",
        "Done: 780 of 1000 iterations. Chi^2: 836.986759924 alpha: 1.35951489676 chi2diff: -0.0959138955563"
       ]
      },
      {
       "output_type": "stream",
       "stream": "stdout",
       "text": [
        "\n",
        "Done: 790 of 1000 iterations. Chi^2: 836.435037302 alpha: 1.34676033255 chi2diff: -0.0945460821697"
       ]
      },
      {
       "output_type": "stream",
       "stream": "stdout",
       "text": [
        "\n",
        "Done: 800 of 1000 iterations. Chi^2: 836.142604507 alpha: 1.33402498883 chi2diff: -0.0945868966088"
       ]
      },
      {
       "output_type": "stream",
       "stream": "stdout",
       "text": [
        "\n",
        "Done: 810 of 1000 iterations. Chi^2: 829.400597214 alpha: 1.32193381269 chi2diff: -0.0864941462447"
       ]
      },
      {
       "output_type": "stream",
       "stream": "stdout",
       "text": [
        "\n",
        "Done: 820 of 1000 iterations. Chi^2: 827.84957313 alpha: 1.31085133608 chi2diff: -0.0837255540377"
       ]
      },
      {
       "output_type": "stream",
       "stream": "stdout",
       "text": [
        "\n",
        "Done: 830 of 1000 iterations. Chi^2: 826.82499774 alpha: 1.30002242095 chi2diff: -0.0824095261747"
       ]
      },
      {
       "output_type": "stream",
       "stream": "stdout",
       "text": [
        "\n",
        "Done: 840 of 1000 iterations. Chi^2: 824.84400191 alpha: 1.2895775634 chi2diff: -0.0798154759853"
       ]
      },
      {
       "output_type": "stream",
       "stream": "stdout",
       "text": [
        "\n",
        "Done: 850 of 1000 iterations. Chi^2: 820.127133786 alpha: 1.27974583754 chi2diff: -0.0740231675862"
       ]
      },
      {
       "output_type": "stream",
       "stream": "stdout",
       "text": [
        "\n",
        "Done: 860 of 1000 iterations. Chi^2: 818.156249381 alpha: 1.27054338649 chi2diff: -0.071236681087"
       ]
      },
      {
       "output_type": "stream",
       "stream": "stdout",
       "text": [
        "\n",
        "Done: 870 of 1000 iterations. Chi^2: 817.049110103 alpha: 1.26161792039 chi2diff: -0.0693449797658"
       ]
      },
      {
       "output_type": "stream",
       "stream": "stdout",
       "text": [
        "\n",
        "Done: 880 of 1000 iterations. Chi^2: 812.216916548 alpha: 1.25326884333 chi2diff: -0.0644317736199"
       ]
      },
      {
       "output_type": "stream",
       "stream": "stdout",
       "text": [
        "\n",
        "Done: 890 of 1000 iterations. Chi^2: 807.883928286 alpha: 1.24579845259 chi2diff: -0.0577596432222"
       ]
      },
      {
       "output_type": "stream",
       "stream": "stdout",
       "text": [
        "\n",
        "Done: 900 of 1000 iterations. Chi^2: 805.869631111 alpha: 1.23885037901 chi2diff: -0.0548891926141"
       ]
      },
      {
       "output_type": "stream",
       "stream": "stdout",
       "text": [
        "\n",
        "Done: 910 of 1000 iterations. Chi^2: 805.082971135 alpha: 1.23212618401 chi2diff: -0.0539586139061"
       ]
      },
      {
       "output_type": "stream",
       "stream": "stdout",
       "text": [
        "\n",
        "Done: 920 of 1000 iterations. Chi^2: 804.213345275 alpha: 1.22558121655 chi2diff: -0.0528383579451"
       ]
      },
      {
       "output_type": "stream",
       "stream": "stdout",
       "text": [
        "\n",
        "Done: 930 of 1000 iterations. Chi^2: 801.446793411 alpha: 1.21932608212 chi2diff: -0.0496677216558"
       ]
      },
      {
       "output_type": "stream",
       "stream": "stdout",
       "text": [
        "\n",
        "Done: 940 of 1000 iterations. Chi^2: 798.272745098 alpha: 1.21365991234 chi2diff: -0.045013565968"
       ]
      },
      {
       "output_type": "stream",
       "stream": "stdout",
       "text": [
        "\n",
        "Done: 950 of 1000 iterations. Chi^2: 797.931916724 alpha: 1.2082610336 chi2diff: -0.0444105695119"
       ]
      },
      {
       "output_type": "stream",
       "stream": "stdout",
       "text": [
        "\n",
        "Done: 960 of 1000 iterations. Chi^2: 797.082350961 alpha: 1.20295061586 chi2diff: -0.0434801679919"
       ]
      },
      {
       "output_type": "stream",
       "stream": "stdout",
       "text": [
        "\n",
        "Done: 970 of 1000 iterations. Chi^2: 796.18664776 alpha: 1.19780280808 chi2diff: -0.0424614395319"
       ]
      },
      {
       "output_type": "stream",
       "stream": "stdout",
       "text": [
        "\n",
        "Done: 980 of 1000 iterations. Chi^2: 794.807786995 alpha: 1.1928950229 chi2diff: -0.0403312749242"
       ]
      },
      {
       "output_type": "stream",
       "stream": "stdout",
       "text": [
        "\n",
        "Done: 990 of 1000 iterations. Chi^2: 794.090816381 alpha: 1.1881442446 chi2diff: -0.0393871170868"
       ]
      },
      {
       "output_type": "stream",
       "stream": "stdout",
       "text": [
        "\n",
        "Done: 1000 of 1000 iterations. Chi^2: 792.812600916 alpha: 1.18352649618 chi2diff: -0.0385113419054"
       ]
      },
      {
       "output_type": "stream",
       "stream": "stdout",
       "text": [
        "\n",
        "Reduced Chi2: 1.03634033736\n",
        "15.1337349415 seconds elapsed\n",
        "Written as ./mem_image_kp.fits\n"
       ]
      }
     ],
     "prompt_number": 25
    },
    {
     "cell_type": "code",
     "collapsed": false,
     "input": [
      "'''--------------------------------\n",
      "the rest is a plot\n",
      "--------------------------------'''\n",
      "\n",
      "\n",
      "bestfit = np.array([-131.377*np.sin(np.pi/180.*85.98),131.377*np.cos(np.pi/180.*85.98)])\n",
      "\n",
      "plt.imshow(im.T/im.max(), interpolation='nearest',cmap=plt.get_cmap('gist_heat'),extent=trial.extent)\n",
      "plt.colorbar(label='Normalized intensity')\n",
      "plt.plot(0,0,'w*', ms=15)\n",
      "plt.axis(trial.extent)\n",
      "plt.axhline(bestfit[1],color='c',alpha=0.4)\n",
      "plt.axvline(bestfit[0],color='c',alpha=0.4)\n",
      "# plt.plot(bestfit[0],bestfit[1],'cs',alpha=0.8)\n",
      "plt.xlabel(r'$\\Delta$ RA (milli-arcsec)', fontsize='large')\n",
      "plt.ylabel(r'$\\Delta$ Dec (milli-arcsec)', fontsize='large')\n",
      "if no_kp:\n",
      "    plt.title('MaxEnt Image Reconstruction using Fourier Phases',fontsize='large')\n",
      "elif bispec:\n",
      "    plt.title('MaxEnt Image Reconstruction using Bispectral Phases',fontsize='large')\n",
      "else:\n",
      "    plt.title('MaxEnt Image Reconstruction using Kernel Phases',fontsize='large')\n",
      "print \"Total contrast (mags): \" + str(-2.5*np.log10(np.sum(trial.pm)))\n",
      "plt.show()"
     ],
     "language": "python",
     "metadata": {},
     "outputs": [
      {
       "output_type": "stream",
       "stream": "stdout",
       "text": [
        "Total contrast (mags): 0.749747144389\n"
       ]
      },
      {
       "metadata": {},
       "output_type": "display_data",
       "png": "[encoded data removed]",
       "text": [
        "<matplotlib.figure.Figure at 0x7f786946e0d0>"
       ]
      }
     ],
     "prompt_number": 26
    },
    {
     "cell_type": "code",
     "collapsed": false,
     "input": [
      "# z = pysco.kpi('./kerphi/medcross.txt') # in case you need to make it - edit this!"
     ],
     "language": "python",
     "metadata": {},
     "outputs": [
      {
       "output_type": "stream",
       "stream": "stdout",
       "text": [
        "File ./kerphi/medcross.txt isn't a valid Ker-phase data structure\n",
        "Creating from coordinate file\n",
        "1155 distinct baselines were identified"
       ]
      },
      {
       "output_type": "stream",
       "stream": "stdout",
       "text": [
        "\n",
        "943 Kernel Phases identified."
       ]
      },
      {
       "output_type": "stream",
       "stream": "stdout",
       "text": [
        "\n",
        "Now calculating bispectrum\n",
        "Calculating bispectrum matrix. Will take a few minutes.\n",
        "Done"
       ]
      },
      {
       "output_type": "stream",
       "stream": "stdout",
       "text": [
        " 3 of 424 .  31094  bispectra found. Time taken: 1.6 sec\n",
        "Done"
       ]
      },
      {
       "output_type": "stream",
       "stream": "stdout",
       "text": [
        " 28 of 424 .  51050  bispectra found. Time taken: 8.6 sec\n",
        "Done"
       ]
      },
      {
       "output_type": "stream",
       "stream": "stdout",
       "text": [
        " 53 of 424 .  58033  bispectra found. Time taken: 14.6 sec\n",
        "Done"
       ]
      },
      {
       "output_type": "stream",
       "stream": "stdout",
       "text": [
        " 78 of 424 .  59991  bispectra found. Time taken: 20.0 sec\n",
        "Done"
       ]
      },
      {
       "output_type": "stream",
       "stream": "stdout",
       "text": [
        " 103 of 424 .  61406  bispectra found. Time taken: 24.6 sec\n",
        "Done"
       ]
      },
      {
       "output_type": "stream",
       "stream": "stdout",
       "text": [
        " 128 of 424 .  62634  bispectra found. Time taken: 28.8 sec\n",
        "Done"
       ]
      },
      {
       "output_type": "stream",
       "stream": "stdout",
       "text": [
        " 153 of 424 .  63264  bispectra found. Time taken: 32.4 sec\n",
        "Done"
       ]
      },
      {
       "output_type": "stream",
       "stream": "stdout",
       "text": [
        " 178 of 424 .  63414  bispectra found. Time taken: 36.2 sec\n",
        "Done"
       ]
      },
      {
       "output_type": "stream",
       "stream": "stdout",
       "text": [
        " 203 of 424 .  63414  bispectra found. Time taken: 39.2 sec\n",
        "Done"
       ]
      },
      {
       "output_type": "stream",
       "stream": "stdout",
       "text": [
        " 228 of 424 .  63414  bispectra found. Time taken: 42.1 sec\n",
        "Done"
       ]
      },
      {
       "output_type": "stream",
       "stream": "stdout",
       "text": [
        " 253 of 424 .  63414  bispectra found. Time taken: 44.6 sec\n",
        "Done"
       ]
      },
      {
       "output_type": "stream",
       "stream": "stdout",
       "text": [
        " 278 of 424 .  63414  bispectra found. Time taken: 46.9 sec\n",
        "Done"
       ]
      },
      {
       "output_type": "stream",
       "stream": "stdout",
       "text": [
        " 303 of 424 .  63414  bispectra found. Time taken: 48.9 sec\n",
        "Done"
       ]
      },
      {
       "output_type": "stream",
       "stream": "stdout",
       "text": [
        " 328 of 424 .  63414  bispectra found. Time taken: 50.4 sec\n",
        "Done"
       ]
      },
      {
       "output_type": "stream",
       "stream": "stdout",
       "text": [
        " 353 of 424 .  63414  bispectra found. Time taken: 51.7 sec\n",
        "Done"
       ]
      },
      {
       "output_type": "stream",
       "stream": "stdout",
       "text": [
        " 378 of 424 .  63414  bispectra found. Time taken: 52.9 sec\n",
        "Done"
       ]
      },
      {
       "output_type": "stream",
       "stream": "stdout",
       "text": [
        " 403 of 424 .  63414  bispectra found. Time taken: 54.0 sec\n",
        "Initial matrix calculated."
       ]
      },
      {
       "output_type": "stream",
       "stream": "stdout",
       "text": [
        "\n",
        "Total time taken: 0.9 mins\n",
        "Found 63414 bispectra\n",
        "Matrix rank:"
       ]
      },
      {
       "output_type": "stream",
       "stream": "stdout",
       "text": [
        " 764\n",
        "WARNING"
       ]
      },
      {
       "output_type": "stream",
       "stream": "stderr",
       "text": [
        "WARNING:astropy:RuntimeWarning: invalid value encountered in sqrt\n"
       ]
      },
      {
       "output_type": "stream",
       "stream": "stdout",
       "text": [
        ": RuntimeWarning: invalid value encountered in sqrt [scipy.sparse.linalg.eigen.arpack.arpack]\n",
        "SVD failed. Using raw matrix."
       ]
      },
      {
       "output_type": "stream",
       "stream": "stdout",
       "text": [
        "\n"
       ]
      }
     ],
     "prompt_number": 18
    },
    {
     "cell_type": "code",
     "collapsed": false,
     "input": [
      "errors = np.copy(a.bspe)\n",
      "print errors.shape"
     ],
     "language": "python",
     "metadata": {},
     "outputs": [
      {
       "output_type": "stream",
       "stream": "stdout",
       "text": [
        "(764,)\n"
       ]
      }
     ],
     "prompt_number": 27
    },
    {
     "cell_type": "code",
     "collapsed": false,
     "input": [
      "print a.bspe.shape"
     ],
     "language": "python",
     "metadata": {},
     "outputs": [
      {
       "output_type": "stream",
       "stream": "stdout",
       "text": [
        "(764,)\n"
       ]
      }
     ],
     "prompt_number": 9
    },
    {
     "cell_type": "code",
     "collapsed": false,
     "input": [
      "error_kp = a.kpe\n",
      "print error_kp.shape"
     ],
     "language": "python",
     "metadata": {},
     "outputs": [
      {
       "output_type": "stream",
       "stream": "stdout",
       "text": [
        "(943,)\n"
       ]
      }
     ],
     "prompt_number": 10
    },
    {
     "cell_type": "code",
     "collapsed": false,
     "input": [
      "a.kpe"
     ],
     "language": "python",
     "metadata": {},
     "outputs": [
      {
       "metadata": {},
       "output_type": "pyout",
       "prompt_number": 12,
       "text": [
        "10.000041018876203"
       ]
      }
     ],
     "prompt_number": 12
    },
    {
     "cell_type": "code",
     "collapsed": false,
     "input": [
      "error_kp.max()"
     ],
     "language": "python",
     "metadata": {},
     "outputs": [
      {
       "metadata": {},
       "output_type": "pyout",
       "prompt_number": 20,
       "text": [
        "1.1009103079025127"
       ]
      }
     ],
     "prompt_number": 20
    },
    {
     "cell_type": "code",
     "collapsed": false,
     "input": [
      "bispec"
     ],
     "language": "python",
     "metadata": {},
     "outputs": [
      {
       "metadata": {},
       "output_type": "pyout",
       "prompt_number": 14,
       "text": [
        "False"
       ]
      }
     ],
     "prompt_number": 14
    },
    {
     "cell_type": "code",
     "collapsed": false,
     "input": [
      "a.kpd.shape"
     ],
     "language": "python",
     "metadata": {},
     "outputs": [
      {
       "metadata": {},
       "output_type": "pyout",
       "prompt_number": 16,
       "text": [
        "(1255,)"
       ]
      }
     ],
     "prompt_number": 16
    },
    {
     "cell_type": "code",
     "collapsed": false,
     "input": [],
     "language": "python",
     "metadata": {},
     "outputs": []
    }
   ],
   "metadata": {}
  }
 ]
}