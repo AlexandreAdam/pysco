{
 "metadata": {
  "name": "",
  "signature": "sha256:84c92c3b399a222cd8d4266114ae9c73bdc321e042943d76e4f9c63d0260c2f8"
 },
 "nbformat": 3,
 "nbformat_minor": 0,
 "worksheets": [
  {
   "cells": [
    {
     "cell_type": "heading",
     "level": 1,
     "metadata": {},
     "source": [
      "Analysis for the Pharo kernel phase paper as submitted by Pope et al., 2015. "
     ]
    },
    {
     "cell_type": "heading",
     "level": 3,
     "metadata": {},
     "source": [
      "Whisky is a modified distribution of pysco, available at https://github.com/benjaminpope/whisky .\n",
      "\n",
      "The original pysco code as developed by Martinache, Pope and Ireland is available at https://code.google.com/p/pysco/ ."
     ]
    },
    {
     "cell_type": "code",
     "collapsed": false,
     "input": [
      "import numpy as np\n",
      "import matplotlib.pyplot as plt\n",
      "import whisky as pysco\n",
      "\n",
      "import fitsio\n",
      "import triangle\n",
      "from time import time\n",
      "from astroML.plotting import setup_text_plots\n",
      "setup_text_plots(usetex=True)\n",
      "from time import time as clock\n",
      "%matplotlib inline"
     ],
     "language": "python",
     "metadata": {},
     "outputs": [
      {
       "output_type": "stream",
       "stream": "stderr",
       "text": [
        "/usr/local/lib/python2.7/dist-packages/numpy/core/fromnumeric.py:2507: VisibleDeprecationWarning: `rank` is deprecated; use the `ndim` attribute or function instead. To find the rank of a matrix see `numpy.linalg.matrix_rank`.\n",
        "  VisibleDeprecationWarning)\n"
       ]
      }
     ],
     "prompt_number": 1
    },
    {
     "cell_type": "markdown",
     "metadata": {},
     "source": [
      "Now define your data directory, bands - we have Ks and ch4, though the ch4 are provided basically only for illustrative purposes as they're horribly saturated and have been discarded from the paper as submitted."
     ]
    },
    {
     "cell_type": "code",
     "collapsed": false,
     "input": [
      "ddir = \"/home/ben/Research/pharo/data/\" # data directory\n",
      "\n",
      "bandn = 'Ks' \n",
      "# bandn = 'ch4' # this gives vaguely right astrometry at its best fit but a remarkably poor fit overall! try if you like\n",
      "\n",
      "num = 0 #0 for alpha Oph, 1 sim with masking params, 2 for sim with kp params\n",
      "\n",
      "tnames = ['alpOph','epsOph','epsHer']\n",
      "\n",
      "no_kp = False\n",
      "bispec = False"
     ],
     "language": "python",
     "metadata": {},
     "outputs": [],
     "prompt_number": 2
    },
    {
     "cell_type": "code",
     "collapsed": false,
     "input": [
      "if bandn == 'ch4':\n",
      "\tfnames = ['cubeF_1856.fits','cubeF_2381.fits']\n",
      "\t# myf1 = open('alpOph_ch4_lin.pick','r')\n",
      "\t# myf2 = open('epsOph_ch4_lin.pick','r')\n",
      "\tpupil = 'stdcrossmodel'\n",
      "elif bandn == 'Ks':\n",
      "\tfnames = ['cubeF_2056.fits','cubeF_2881.fits']\n",
      "\t# myf1 = open('alpOph_Ks_lin.pick','r')\n",
      "\t# myf2 = open('epsHer_Ks_lin.pick','r')\n",
      "\tpupil = 'medcrossmeasmodel'\n",
      "else: print 'Data directory failure'\n",
      "    \n",
      "if num == 1:\n",
      "    print 'Doing simulated observations'\n",
      "    fnames = ['Ks_0.8_bin_s129.6_a83.5_c28.7.fits', 'Ks_1.0_bin_s129.6_a83.5_c28.7.fits'] # ffa\n",
      "    pupil = 'medcrossmodel'\n",
      "else:\n",
      "    pass\n",
      "    \n",
      "if num == 2:\n",
      "    print 'Doing simulated observations'\n",
      "    fnames = ['Ks_0.8_bin_s131_a86_c19.7.fits', 'Ks_1.0_bin_s131_a86_c19.7.fits'] # ffa\n",
      "    pupil = 'medcrossmodel'\n",
      "else:\n",
      "    pass\n",
      "\n",
      "print 'Using',pupil,'pupil model.'"
     ],
     "language": "python",
     "metadata": {},
     "outputs": [
      {
       "output_type": "stream",
       "stream": "stdout",
       "text": [
        "Using medcrossmeasmodel pupil model.\n"
       ]
      }
     ],
     "prompt_number": 3
    },
    {
     "cell_type": "markdown",
     "metadata": {},
     "source": [
      "After the \"import whisky\" command, the documentation for the code is\n",
      "available typing \"help(pysco)\"."
     ]
    },
    {
     "cell_type": "code",
     "collapsed": false,
     "input": [
      "# -------------------\n",
      "# 1. load the dataset\n",
      "# -------------------\n",
      "\n",
      "#load data and calibrators - each of these may take several minutes \n",
      "\n",
      "a = pysco.kpo('./kerphi/'+pupil+'.pick',scale=1.0)\n",
      "\n",
      "a.name = 'Palomar - ' + tnames[0]\n",
      "if no_kp:\n",
      "    a.kpi.KerPhi = np.eye(a.kpi.nbuv)  # for speckle!\n",
      "    a.kpi.nkphi = a.kpi.nbuv  # for speckle!\n",
      "\n",
      "a.extract_kpd(ddir + fnames[0],sg_ld = 12.0,re_center=True,D=5.093,unwrap_kp=False,adjust_sampling=True,bsp=bispec)\n",
      "\n",
      "print a.kpd.shape\n",
      "print a.kpe.shape\n",
      "\n",
      "if bispec:\n",
      "    print a.bsp.shape\n"
     ],
     "language": "python",
     "metadata": {},
     "outputs": [
      {
       "output_type": "stream",
       "stream": "stdout",
       "text": [
        "No bispec\n",
        "File ./kerphi/medcrossmeasmodel.pick contains kpi information only"
       ]
      },
      {
       "output_type": "stream",
       "stream": "stdout",
       "text": [
        "\n",
        "Bsp data was not loaded\n",
        "Vis2 data was not loaded\n",
        "1 frames will be open\n",
        "\r",
        "extracting kp from img   1/100"
       ]
      },
      {
       "output_type": "stream",
       "stream": "stdout",
       "text": [
        "\r",
        "extracting kp from img   2/100"
       ]
      },
      {
       "output_type": "stream",
       "stream": "stdout",
       "text": [
        "\r",
        "extracting kp from img   3/100"
       ]
      },
      {
       "output_type": "stream",
       "stream": "stdout",
       "text": [
        "\r",
        "extracting kp from img   4/100"
       ]
      },
      {
       "output_type": "stream",
       "stream": "stdout",
       "text": [
        "\r",
        "extracting kp from img   5/100"
       ]
      },
      {
       "output_type": "stream",
       "stream": "stdout",
       "text": [
        "\r",
        "extracting kp from img   6/100"
       ]
      },
      {
       "output_type": "stream",
       "stream": "stdout",
       "text": [
        "\r",
        "extracting kp from img   7/100"
       ]
      },
      {
       "output_type": "stream",
       "stream": "stdout",
       "text": [
        "\r",
        "extracting kp from img   8/100"
       ]
      },
      {
       "output_type": "stream",
       "stream": "stdout",
       "text": [
        "\r",
        "extracting kp from img   9/100"
       ]
      },
      {
       "output_type": "stream",
       "stream": "stdout",
       "text": [
        "\r",
        "extracting kp from img  10/100"
       ]
      },
      {
       "output_type": "stream",
       "stream": "stdout",
       "text": [
        "\r",
        "extracting kp from img  11/100"
       ]
      },
      {
       "output_type": "stream",
       "stream": "stdout",
       "text": [
        "\r",
        "extracting kp from img  12/100"
       ]
      },
      {
       "output_type": "stream",
       "stream": "stdout",
       "text": [
        "\r",
        "extracting kp from img  13/100"
       ]
      },
      {
       "output_type": "stream",
       "stream": "stdout",
       "text": [
        "\r",
        "extracting kp from img  14/100"
       ]
      },
      {
       "output_type": "stream",
       "stream": "stdout",
       "text": [
        "\r",
        "extracting kp from img  15/100"
       ]
      },
      {
       "output_type": "stream",
       "stream": "stdout",
       "text": [
        "\r",
        "extracting kp from img  16/100"
       ]
      },
      {
       "output_type": "stream",
       "stream": "stdout",
       "text": [
        "\r",
        "extracting kp from img  17/100"
       ]
      },
      {
       "output_type": "stream",
       "stream": "stdout",
       "text": [
        "\r",
        "extracting kp from img  18/100"
       ]
      },
      {
       "output_type": "stream",
       "stream": "stdout",
       "text": [
        "\r",
        "extracting kp from img  19/100"
       ]
      },
      {
       "output_type": "stream",
       "stream": "stdout",
       "text": [
        "\r",
        "extracting kp from img  20/100"
       ]
      },
      {
       "output_type": "stream",
       "stream": "stdout",
       "text": [
        "\r",
        "extracting kp from img  21/100"
       ]
      },
      {
       "output_type": "stream",
       "stream": "stdout",
       "text": [
        "\r",
        "extracting kp from img  22/100"
       ]
      },
      {
       "output_type": "stream",
       "stream": "stdout",
       "text": [
        "\r",
        "extracting kp from img  23/100"
       ]
      },
      {
       "output_type": "stream",
       "stream": "stdout",
       "text": [
        "\r",
        "extracting kp from img  24/100"
       ]
      },
      {
       "output_type": "stream",
       "stream": "stdout",
       "text": [
        "\r",
        "extracting kp from img  25/100"
       ]
      },
      {
       "output_type": "stream",
       "stream": "stdout",
       "text": [
        "\r",
        "extracting kp from img  26/100"
       ]
      },
      {
       "output_type": "stream",
       "stream": "stdout",
       "text": [
        "\r",
        "extracting kp from img  27/100"
       ]
      },
      {
       "output_type": "stream",
       "stream": "stdout",
       "text": [
        "\r",
        "extracting kp from img  28/100"
       ]
      },
      {
       "output_type": "stream",
       "stream": "stdout",
       "text": [
        "\r",
        "extracting kp from img  29/100"
       ]
      },
      {
       "output_type": "stream",
       "stream": "stdout",
       "text": [
        "\r",
        "extracting kp from img  30/100"
       ]
      },
      {
       "output_type": "stream",
       "stream": "stdout",
       "text": [
        "\r",
        "extracting kp from img  31/100"
       ]
      },
      {
       "output_type": "stream",
       "stream": "stdout",
       "text": [
        "\r",
        "extracting kp from img  32/100"
       ]
      },
      {
       "output_type": "stream",
       "stream": "stdout",
       "text": [
        "\r",
        "extracting kp from img  33/100"
       ]
      },
      {
       "output_type": "stream",
       "stream": "stdout",
       "text": [
        "\r",
        "extracting kp from img  34/100"
       ]
      },
      {
       "output_type": "stream",
       "stream": "stdout",
       "text": [
        "\r",
        "extracting kp from img  35/100"
       ]
      },
      {
       "output_type": "stream",
       "stream": "stdout",
       "text": [
        "\r",
        "extracting kp from img  36/100"
       ]
      },
      {
       "output_type": "stream",
       "stream": "stdout",
       "text": [
        "\r",
        "extracting kp from img  37/100"
       ]
      },
      {
       "output_type": "stream",
       "stream": "stdout",
       "text": [
        "\r",
        "extracting kp from img  38/100"
       ]
      },
      {
       "output_type": "stream",
       "stream": "stdout",
       "text": [
        "\r",
        "extracting kp from img  39/100"
       ]
      },
      {
       "output_type": "stream",
       "stream": "stdout",
       "text": [
        "\r",
        "extracting kp from img  40/100"
       ]
      },
      {
       "output_type": "stream",
       "stream": "stdout",
       "text": [
        "\r",
        "extracting kp from img  41/100"
       ]
      },
      {
       "output_type": "stream",
       "stream": "stdout",
       "text": [
        "\r",
        "extracting kp from img  42/100"
       ]
      },
      {
       "output_type": "stream",
       "stream": "stdout",
       "text": [
        "\r",
        "extracting kp from img  43/100"
       ]
      },
      {
       "output_type": "stream",
       "stream": "stdout",
       "text": [
        "\r",
        "extracting kp from img  44/100"
       ]
      },
      {
       "output_type": "stream",
       "stream": "stdout",
       "text": [
        "\r",
        "extracting kp from img  45/100"
       ]
      },
      {
       "output_type": "stream",
       "stream": "stdout",
       "text": [
        "\r",
        "extracting kp from img  46/100"
       ]
      },
      {
       "output_type": "stream",
       "stream": "stdout",
       "text": [
        "\r",
        "extracting kp from img  47/100"
       ]
      },
      {
       "output_type": "stream",
       "stream": "stdout",
       "text": [
        "\r",
        "extracting kp from img  48/100"
       ]
      },
      {
       "output_type": "stream",
       "stream": "stdout",
       "text": [
        "\r",
        "extracting kp from img  49/100"
       ]
      },
      {
       "output_type": "stream",
       "stream": "stdout",
       "text": [
        "\r",
        "extracting kp from img  50/100"
       ]
      },
      {
       "output_type": "stream",
       "stream": "stdout",
       "text": [
        "\r",
        "extracting kp from img  51/100"
       ]
      },
      {
       "output_type": "stream",
       "stream": "stdout",
       "text": [
        "\r",
        "extracting kp from img  52/100"
       ]
      },
      {
       "output_type": "stream",
       "stream": "stdout",
       "text": [
        "\r",
        "extracting kp from img  53/100"
       ]
      },
      {
       "output_type": "stream",
       "stream": "stdout",
       "text": [
        "\r",
        "extracting kp from img  54/100"
       ]
      },
      {
       "output_type": "stream",
       "stream": "stdout",
       "text": [
        "\r",
        "extracting kp from img  55/100"
       ]
      },
      {
       "output_type": "stream",
       "stream": "stdout",
       "text": [
        "\r",
        "extracting kp from img  56/100"
       ]
      },
      {
       "output_type": "stream",
       "stream": "stdout",
       "text": [
        "\r",
        "extracting kp from img  57/100"
       ]
      },
      {
       "output_type": "stream",
       "stream": "stdout",
       "text": [
        "\r",
        "extracting kp from img  58/100"
       ]
      },
      {
       "output_type": "stream",
       "stream": "stdout",
       "text": [
        "\r",
        "extracting kp from img  59/100"
       ]
      },
      {
       "output_type": "stream",
       "stream": "stdout",
       "text": [
        "\r",
        "extracting kp from img  60/100"
       ]
      },
      {
       "output_type": "stream",
       "stream": "stdout",
       "text": [
        "\r",
        "extracting kp from img  61/100"
       ]
      },
      {
       "output_type": "stream",
       "stream": "stdout",
       "text": [
        "\r",
        "extracting kp from img  62/100"
       ]
      },
      {
       "output_type": "stream",
       "stream": "stdout",
       "text": [
        "\r",
        "extracting kp from img  63/100"
       ]
      },
      {
       "output_type": "stream",
       "stream": "stdout",
       "text": [
        "\r",
        "extracting kp from img  64/100"
       ]
      },
      {
       "output_type": "stream",
       "stream": "stdout",
       "text": [
        "\r",
        "extracting kp from img  65/100"
       ]
      },
      {
       "output_type": "stream",
       "stream": "stdout",
       "text": [
        "\r",
        "extracting kp from img  66/100"
       ]
      },
      {
       "output_type": "stream",
       "stream": "stdout",
       "text": [
        "\r",
        "extracting kp from img  67/100"
       ]
      },
      {
       "output_type": "stream",
       "stream": "stdout",
       "text": [
        "\r",
        "extracting kp from img  68/100"
       ]
      },
      {
       "output_type": "stream",
       "stream": "stdout",
       "text": [
        "\r",
        "extracting kp from img  69/100"
       ]
      },
      {
       "output_type": "stream",
       "stream": "stdout",
       "text": [
        "\r",
        "extracting kp from img  70/100"
       ]
      },
      {
       "output_type": "stream",
       "stream": "stdout",
       "text": [
        "\r",
        "extracting kp from img  71/100"
       ]
      },
      {
       "output_type": "stream",
       "stream": "stdout",
       "text": [
        "\r",
        "extracting kp from img  72/100"
       ]
      },
      {
       "output_type": "stream",
       "stream": "stdout",
       "text": [
        "\r",
        "extracting kp from img  73/100"
       ]
      },
      {
       "output_type": "stream",
       "stream": "stdout",
       "text": [
        "\r",
        "extracting kp from img  74/100"
       ]
      },
      {
       "output_type": "stream",
       "stream": "stdout",
       "text": [
        "\r",
        "extracting kp from img  75/100"
       ]
      },
      {
       "output_type": "stream",
       "stream": "stdout",
       "text": [
        "\r",
        "extracting kp from img  76/100"
       ]
      },
      {
       "output_type": "stream",
       "stream": "stdout",
       "text": [
        "\r",
        "extracting kp from img  77/100"
       ]
      },
      {
       "output_type": "stream",
       "stream": "stdout",
       "text": [
        "\r",
        "extracting kp from img  78/100"
       ]
      },
      {
       "output_type": "stream",
       "stream": "stdout",
       "text": [
        "\r",
        "extracting kp from img  79/100"
       ]
      },
      {
       "output_type": "stream",
       "stream": "stdout",
       "text": [
        "\r",
        "extracting kp from img  80/100"
       ]
      },
      {
       "output_type": "stream",
       "stream": "stdout",
       "text": [
        "\r",
        "extracting kp from img  81/100"
       ]
      },
      {
       "output_type": "stream",
       "stream": "stdout",
       "text": [
        "\r",
        "extracting kp from img  82/100"
       ]
      },
      {
       "output_type": "stream",
       "stream": "stdout",
       "text": [
        "\r",
        "extracting kp from img  83/100"
       ]
      },
      {
       "output_type": "stream",
       "stream": "stdout",
       "text": [
        "\r",
        "extracting kp from img  84/100"
       ]
      },
      {
       "output_type": "stream",
       "stream": "stdout",
       "text": [
        "\r",
        "extracting kp from img  85/100"
       ]
      },
      {
       "output_type": "stream",
       "stream": "stdout",
       "text": [
        "\r",
        "extracting kp from img  86/100"
       ]
      },
      {
       "output_type": "stream",
       "stream": "stdout",
       "text": [
        "\r",
        "extracting kp from img  87/100"
       ]
      },
      {
       "output_type": "stream",
       "stream": "stdout",
       "text": [
        "\r",
        "extracting kp from img  88/100"
       ]
      },
      {
       "output_type": "stream",
       "stream": "stdout",
       "text": [
        "\r",
        "extracting kp from img  89/100"
       ]
      },
      {
       "output_type": "stream",
       "stream": "stdout",
       "text": [
        "\r",
        "extracting kp from img  90/100"
       ]
      },
      {
       "output_type": "stream",
       "stream": "stdout",
       "text": [
        "\r",
        "extracting kp from img  91/100"
       ]
      },
      {
       "output_type": "stream",
       "stream": "stdout",
       "text": [
        "\r",
        "extracting kp from img  92/100"
       ]
      },
      {
       "output_type": "stream",
       "stream": "stdout",
       "text": [
        "\r",
        "extracting kp from img  93/100"
       ]
      },
      {
       "output_type": "stream",
       "stream": "stdout",
       "text": [
        "\r",
        "extracting kp from img  94/100"
       ]
      },
      {
       "output_type": "stream",
       "stream": "stdout",
       "text": [
        "\r",
        "extracting kp from img  95/100"
       ]
      },
      {
       "output_type": "stream",
       "stream": "stdout",
       "text": [
        "\r",
        "extracting kp from img  96/100"
       ]
      },
      {
       "output_type": "stream",
       "stream": "stdout",
       "text": [
        "\r",
        "extracting kp from img  97/100"
       ]
      },
      {
       "output_type": "stream",
       "stream": "stdout",
       "text": [
        "\r",
        "extracting kp from img  98/100"
       ]
      },
      {
       "output_type": "stream",
       "stream": "stdout",
       "text": [
        "\r",
        "extracting kp from img  99/100"
       ]
      },
      {
       "output_type": "stream",
       "stream": "stdout",
       "text": [
        "\r",
        "extracting kp from img 100/100"
       ]
      },
      {
       "output_type": "stream",
       "stream": "stdout",
       "text": [
        " no average\n",
        "(100, 2692)\n",
        "(2692,)\n"
       ]
      }
     ],
     "prompt_number": 4
    },
    {
     "cell_type": "code",
     "collapsed": false,
     "input": [
      "b = pysco.kpo('./kerphi/'+pupil+'.pick',scale=1.0)\n",
      "b.name = 'Palomar - ' + tnames[1]\n",
      "if no_kp:\n",
      "    b.kpi.KerPhi = np.eye(b.kpi.nbuv)  # for speckle!\n",
      "    b.kpi.nkphi = b.kpi.nbuv  # for speckle!\n",
      "\n",
      "b.extract_kpd(ddir + fnames[1],sg_ld = 12.0,re_center=True,D=5.093,unwrap_kp=False,adjust_sampling=True,bsp=bispec)\n"
     ],
     "language": "python",
     "metadata": {},
     "outputs": [
      {
       "output_type": "stream",
       "stream": "stdout",
       "text": [
        "No bispec\n",
        "File ./kerphi/medcrossmeasmodel.pick contains kpi information only"
       ]
      },
      {
       "output_type": "stream",
       "stream": "stdout",
       "text": [
        "\n",
        "Bsp data was not loaded\n",
        "Vis2 data was not loaded\n",
        "1 frames will be open\n",
        "\r",
        "extracting kp from img   1/100"
       ]
      },
      {
       "output_type": "stream",
       "stream": "stdout",
       "text": [
        "\r",
        "extracting kp from img   2/100"
       ]
      },
      {
       "output_type": "stream",
       "stream": "stdout",
       "text": [
        "\r",
        "extracting kp from img   3/100"
       ]
      },
      {
       "output_type": "stream",
       "stream": "stdout",
       "text": [
        "\r",
        "extracting kp from img   4/100"
       ]
      },
      {
       "output_type": "stream",
       "stream": "stdout",
       "text": [
        "\r",
        "extracting kp from img   5/100"
       ]
      },
      {
       "output_type": "stream",
       "stream": "stdout",
       "text": [
        "\r",
        "extracting kp from img   6/100"
       ]
      },
      {
       "output_type": "stream",
       "stream": "stdout",
       "text": [
        "\r",
        "extracting kp from img   7/100"
       ]
      },
      {
       "output_type": "stream",
       "stream": "stdout",
       "text": [
        "\r",
        "extracting kp from img   8/100"
       ]
      },
      {
       "output_type": "stream",
       "stream": "stdout",
       "text": [
        "\r",
        "extracting kp from img   9/100"
       ]
      },
      {
       "output_type": "stream",
       "stream": "stdout",
       "text": [
        "\r",
        "extracting kp from img  10/100"
       ]
      },
      {
       "output_type": "stream",
       "stream": "stdout",
       "text": [
        "\r",
        "extracting kp from img  11/100"
       ]
      },
      {
       "output_type": "stream",
       "stream": "stdout",
       "text": [
        "\r",
        "extracting kp from img  12/100"
       ]
      },
      {
       "output_type": "stream",
       "stream": "stdout",
       "text": [
        "\r",
        "extracting kp from img  13/100"
       ]
      },
      {
       "output_type": "stream",
       "stream": "stdout",
       "text": [
        "\r",
        "extracting kp from img  14/100"
       ]
      },
      {
       "output_type": "stream",
       "stream": "stdout",
       "text": [
        "\r",
        "extracting kp from img  15/100"
       ]
      },
      {
       "output_type": "stream",
       "stream": "stdout",
       "text": [
        "\r",
        "extracting kp from img  16/100"
       ]
      },
      {
       "output_type": "stream",
       "stream": "stdout",
       "text": [
        "\r",
        "extracting kp from img  17/100"
       ]
      },
      {
       "output_type": "stream",
       "stream": "stdout",
       "text": [
        "\r",
        "extracting kp from img  18/100"
       ]
      },
      {
       "output_type": "stream",
       "stream": "stdout",
       "text": [
        "\r",
        "extracting kp from img  19/100"
       ]
      },
      {
       "output_type": "stream",
       "stream": "stdout",
       "text": [
        "\r",
        "extracting kp from img  20/100"
       ]
      },
      {
       "output_type": "stream",
       "stream": "stdout",
       "text": [
        "\r",
        "extracting kp from img  21/100"
       ]
      },
      {
       "output_type": "stream",
       "stream": "stdout",
       "text": [
        "\r",
        "extracting kp from img  22/100"
       ]
      },
      {
       "output_type": "stream",
       "stream": "stdout",
       "text": [
        "\r",
        "extracting kp from img  23/100"
       ]
      },
      {
       "output_type": "stream",
       "stream": "stdout",
       "text": [
        "\r",
        "extracting kp from img  24/100"
       ]
      },
      {
       "output_type": "stream",
       "stream": "stdout",
       "text": [
        "\r",
        "extracting kp from img  25/100"
       ]
      },
      {
       "output_type": "stream",
       "stream": "stdout",
       "text": [
        "\r",
        "extracting kp from img  26/100"
       ]
      },
      {
       "output_type": "stream",
       "stream": "stdout",
       "text": [
        "\r",
        "extracting kp from img  27/100"
       ]
      },
      {
       "output_type": "stream",
       "stream": "stdout",
       "text": [
        "\r",
        "extracting kp from img  28/100"
       ]
      },
      {
       "output_type": "stream",
       "stream": "stdout",
       "text": [
        "\r",
        "extracting kp from img  29/100"
       ]
      },
      {
       "output_type": "stream",
       "stream": "stdout",
       "text": [
        "\r",
        "extracting kp from img  30/100"
       ]
      },
      {
       "output_type": "stream",
       "stream": "stdout",
       "text": [
        "\r",
        "extracting kp from img  31/100"
       ]
      },
      {
       "output_type": "stream",
       "stream": "stdout",
       "text": [
        "\r",
        "extracting kp from img  32/100"
       ]
      },
      {
       "output_type": "stream",
       "stream": "stdout",
       "text": [
        "\r",
        "extracting kp from img  33/100"
       ]
      },
      {
       "output_type": "stream",
       "stream": "stdout",
       "text": [
        "\r",
        "extracting kp from img  34/100"
       ]
      },
      {
       "output_type": "stream",
       "stream": "stdout",
       "text": [
        "\r",
        "extracting kp from img  35/100"
       ]
      },
      {
       "output_type": "stream",
       "stream": "stdout",
       "text": [
        "\r",
        "extracting kp from img  36/100"
       ]
      },
      {
       "output_type": "stream",
       "stream": "stdout",
       "text": [
        "\r",
        "extracting kp from img  37/100"
       ]
      },
      {
       "output_type": "stream",
       "stream": "stdout",
       "text": [
        "\r",
        "extracting kp from img  38/100"
       ]
      },
      {
       "output_type": "stream",
       "stream": "stdout",
       "text": [
        "\r",
        "extracting kp from img  39/100"
       ]
      },
      {
       "output_type": "stream",
       "stream": "stdout",
       "text": [
        "\r",
        "extracting kp from img  40/100"
       ]
      },
      {
       "output_type": "stream",
       "stream": "stdout",
       "text": [
        "\r",
        "extracting kp from img  41/100"
       ]
      },
      {
       "output_type": "stream",
       "stream": "stdout",
       "text": [
        "\r",
        "extracting kp from img  42/100"
       ]
      },
      {
       "output_type": "stream",
       "stream": "stdout",
       "text": [
        "\r",
        "extracting kp from img  43/100"
       ]
      },
      {
       "output_type": "stream",
       "stream": "stdout",
       "text": [
        "\r",
        "extracting kp from img  44/100"
       ]
      },
      {
       "output_type": "stream",
       "stream": "stdout",
       "text": [
        "\r",
        "extracting kp from img  45/100"
       ]
      },
      {
       "output_type": "stream",
       "stream": "stdout",
       "text": [
        "\r",
        "extracting kp from img  46/100"
       ]
      },
      {
       "output_type": "stream",
       "stream": "stdout",
       "text": [
        "\r",
        "extracting kp from img  47/100"
       ]
      },
      {
       "output_type": "stream",
       "stream": "stdout",
       "text": [
        "\r",
        "extracting kp from img  48/100"
       ]
      },
      {
       "output_type": "stream",
       "stream": "stdout",
       "text": [
        "\r",
        "extracting kp from img  49/100"
       ]
      },
      {
       "output_type": "stream",
       "stream": "stdout",
       "text": [
        "\r",
        "extracting kp from img  50/100"
       ]
      },
      {
       "output_type": "stream",
       "stream": "stdout",
       "text": [
        "\r",
        "extracting kp from img  51/100"
       ]
      },
      {
       "output_type": "stream",
       "stream": "stdout",
       "text": [
        "\r",
        "extracting kp from img  52/100"
       ]
      },
      {
       "output_type": "stream",
       "stream": "stdout",
       "text": [
        "\r",
        "extracting kp from img  53/100"
       ]
      },
      {
       "output_type": "stream",
       "stream": "stdout",
       "text": [
        "\r",
        "extracting kp from img  54/100"
       ]
      },
      {
       "output_type": "stream",
       "stream": "stdout",
       "text": [
        "\r",
        "extracting kp from img  55/100"
       ]
      },
      {
       "output_type": "stream",
       "stream": "stdout",
       "text": [
        "\r",
        "extracting kp from img  56/100"
       ]
      },
      {
       "output_type": "stream",
       "stream": "stdout",
       "text": [
        "\r",
        "extracting kp from img  57/100"
       ]
      },
      {
       "output_type": "stream",
       "stream": "stdout",
       "text": [
        "\r",
        "extracting kp from img  58/100"
       ]
      },
      {
       "output_type": "stream",
       "stream": "stdout",
       "text": [
        "\r",
        "extracting kp from img  59/100"
       ]
      },
      {
       "output_type": "stream",
       "stream": "stdout",
       "text": [
        "\r",
        "extracting kp from img  60/100"
       ]
      },
      {
       "output_type": "stream",
       "stream": "stdout",
       "text": [
        "\r",
        "extracting kp from img  61/100"
       ]
      },
      {
       "output_type": "stream",
       "stream": "stdout",
       "text": [
        "\r",
        "extracting kp from img  62/100"
       ]
      },
      {
       "output_type": "stream",
       "stream": "stdout",
       "text": [
        "\r",
        "extracting kp from img  63/100"
       ]
      },
      {
       "output_type": "stream",
       "stream": "stdout",
       "text": [
        "\r",
        "extracting kp from img  64/100"
       ]
      },
      {
       "output_type": "stream",
       "stream": "stdout",
       "text": [
        "\r",
        "extracting kp from img  65/100"
       ]
      },
      {
       "output_type": "stream",
       "stream": "stdout",
       "text": [
        "\r",
        "extracting kp from img  66/100"
       ]
      },
      {
       "output_type": "stream",
       "stream": "stdout",
       "text": [
        "\r",
        "extracting kp from img  67/100"
       ]
      },
      {
       "output_type": "stream",
       "stream": "stdout",
       "text": [
        "\r",
        "extracting kp from img  68/100"
       ]
      },
      {
       "output_type": "stream",
       "stream": "stdout",
       "text": [
        "\r",
        "extracting kp from img  69/100"
       ]
      },
      {
       "output_type": "stream",
       "stream": "stdout",
       "text": [
        "\r",
        "extracting kp from img  70/100"
       ]
      },
      {
       "output_type": "stream",
       "stream": "stdout",
       "text": [
        "\r",
        "extracting kp from img  71/100"
       ]
      },
      {
       "output_type": "stream",
       "stream": "stdout",
       "text": [
        "\r",
        "extracting kp from img  72/100"
       ]
      },
      {
       "output_type": "stream",
       "stream": "stdout",
       "text": [
        "\r",
        "extracting kp from img  73/100"
       ]
      },
      {
       "output_type": "stream",
       "stream": "stdout",
       "text": [
        "\r",
        "extracting kp from img  74/100"
       ]
      },
      {
       "output_type": "stream",
       "stream": "stdout",
       "text": [
        "\r",
        "extracting kp from img  75/100"
       ]
      },
      {
       "output_type": "stream",
       "stream": "stdout",
       "text": [
        "\r",
        "extracting kp from img  76/100"
       ]
      },
      {
       "output_type": "stream",
       "stream": "stdout",
       "text": [
        "\r",
        "extracting kp from img  77/100"
       ]
      },
      {
       "output_type": "stream",
       "stream": "stdout",
       "text": [
        "\r",
        "extracting kp from img  78/100"
       ]
      },
      {
       "output_type": "stream",
       "stream": "stdout",
       "text": [
        "\r",
        "extracting kp from img  79/100"
       ]
      },
      {
       "output_type": "stream",
       "stream": "stdout",
       "text": [
        "\r",
        "extracting kp from img  80/100"
       ]
      },
      {
       "output_type": "stream",
       "stream": "stdout",
       "text": [
        "\r",
        "extracting kp from img  81/100"
       ]
      },
      {
       "output_type": "stream",
       "stream": "stdout",
       "text": [
        "\r",
        "extracting kp from img  82/100"
       ]
      },
      {
       "output_type": "stream",
       "stream": "stdout",
       "text": [
        "\r",
        "extracting kp from img  83/100"
       ]
      },
      {
       "output_type": "stream",
       "stream": "stdout",
       "text": [
        "\r",
        "extracting kp from img  84/100"
       ]
      },
      {
       "output_type": "stream",
       "stream": "stdout",
       "text": [
        "\r",
        "extracting kp from img  85/100"
       ]
      },
      {
       "output_type": "stream",
       "stream": "stdout",
       "text": [
        "\r",
        "extracting kp from img  86/100"
       ]
      },
      {
       "output_type": "stream",
       "stream": "stdout",
       "text": [
        "\r",
        "extracting kp from img  87/100"
       ]
      },
      {
       "output_type": "stream",
       "stream": "stdout",
       "text": [
        "\r",
        "extracting kp from img  88/100"
       ]
      },
      {
       "output_type": "stream",
       "stream": "stdout",
       "text": [
        "\r",
        "extracting kp from img  89/100"
       ]
      },
      {
       "output_type": "stream",
       "stream": "stdout",
       "text": [
        "\r",
        "extracting kp from img  90/100"
       ]
      },
      {
       "output_type": "stream",
       "stream": "stdout",
       "text": [
        "\r",
        "extracting kp from img  91/100"
       ]
      },
      {
       "output_type": "stream",
       "stream": "stdout",
       "text": [
        "\r",
        "extracting kp from img  92/100"
       ]
      },
      {
       "output_type": "stream",
       "stream": "stdout",
       "text": [
        "\r",
        "extracting kp from img  93/100"
       ]
      },
      {
       "output_type": "stream",
       "stream": "stdout",
       "text": [
        "\r",
        "extracting kp from img  94/100"
       ]
      },
      {
       "output_type": "stream",
       "stream": "stdout",
       "text": [
        "\r",
        "extracting kp from img  95/100"
       ]
      },
      {
       "output_type": "stream",
       "stream": "stdout",
       "text": [
        "\r",
        "extracting kp from img  96/100"
       ]
      },
      {
       "output_type": "stream",
       "stream": "stdout",
       "text": [
        "\r",
        "extracting kp from img  97/100"
       ]
      },
      {
       "output_type": "stream",
       "stream": "stdout",
       "text": [
        "\r",
        "extracting kp from img  98/100"
       ]
      },
      {
       "output_type": "stream",
       "stream": "stdout",
       "text": [
        "\r",
        "extracting kp from img  99/100"
       ]
      },
      {
       "output_type": "stream",
       "stream": "stdout",
       "text": [
        "\r",
        "extracting kp from img 100/100"
       ]
      },
      {
       "output_type": "stream",
       "stream": "stdout",
       "text": [
        " no average\n"
       ]
      }
     ],
     "prompt_number": 5
    },
    {
     "cell_type": "code",
     "collapsed": true,
     "input": [
      "# some of the recentering seems to fail - only sometimes - on Palomar data and I can't work out why, so here are \n",
      "# some quick and easy tricks to get rid of bad kernel phases. \n",
      "# I have commented out lines that do this. Don't need to run this if it all looks ok! \n",
      "\n",
      "# newkpds = np.zeros(a.kpd.shape[1])\n",
      "# newkpes = np.zeros(a.kpd.shape[1])\n",
      "# for j in range(a.kpd.shape[1]):\n",
      "# \tnewsignal = pysco.clip_signal(a.kpd[:,j],threshold=2.0)\n",
      "# \tnewkpds[j],newkpes[j] = np.mean(newsignal),np.std(newsignal)/np.sqrt(np.size(newsignal))\n",
      "\n",
      "# a.kpd,a.kpe = newkpds,newkpes\n",
      "\n",
      "a.kpe = np.std(a.kpd,axis=0)/np.sqrt(a.kpd.shape[0])\n",
      "\n",
      "# b.kpe = np.std(a.kpd,axis=0)\n",
      "# b.kpd = np.mean(a.kpd,axis=0)\n",
      "\n",
      "# newkpds = np.zeros(b.kpd.shape[1])\n",
      "# newkpes = np.zeros(b.kpd.shape[1])\n",
      "# for j in range(b.kpd.shape[1]):\n",
      "# \tnewsignal = pysco.clip_signal(b.kpd[:,j],threshold=2.0)\n",
      "# \tnewkpds[j],newkpes[j] = np.mean(newsignal),np.std(newsignal)/np.sqrt(np.size(newsignal))\n",
      "\n",
      "# b.kpd,b.kpe = newkpds,newkpes\n",
      "\n",
      "b.kpe = np.std(b.kpd,axis=0)/np.sqrt(b.kpd.shape[0])\n",
      "\n",
      "# if it takes a lot of iterations this might be a bad sign and it will warn you\n",
      "# - you might want to turn off clipping! instead a.kpd = np.mean(a.kpd), a.kpe = np.std(a.kpd)/np.sqrt(nframes)\n",
      "\n",
      "if num == 0:\n",
      "    a.kpd = np.mean(a.kpd,axis=0)\n",
      "    a.nsets = 1\n",
      "    a.hdr = a.hdr[0]\n",
      "\n",
      "    b.kpd = np.mean(b.kpd,axis=0)\n",
      "    b.nsets = 1\n",
      "    b.hdr = b.hdr[0]\n",
      "# else:\n",
      "#     a.kpe = error_kp"
     ],
     "language": "python",
     "metadata": {},
     "outputs": [],
     "prompt_number": 6
    },
    {
     "cell_type": "code",
     "collapsed": false,
     "input": [
      "if bispec:\n",
      "    print 'Doing Bispectrum!'\n",
      "#     a.bspe = np.std(a.bsp,axis=0)/np.sqrt(a.bsp.shape[0])\n",
      "\n",
      "    # b.kpe = np.std(a.kpd,axis=0)\n",
      "    # b.kpd = np.mean(a.kpd,axis=0)\n",
      "\n",
      "    # newkpds = np.zeros(b.kpd.shape[1])\n",
      "    # newkpes = np.zeros(b.kpd.shape[1])\n",
      "    # for j in range(b.kpd.shape[1]):\n",
      "    # \tnewsignal = pysco.clip_signal(b.kpd[:,j],threshold=2.0)\n",
      "    # \tnewkpds[j],newkpes[j] = np.mean(newsignal),np.std(newsignal)/np.sqrt(np.size(newsignal))\n",
      "\n",
      "    # b.kpd,b.kpe = newkpds,newkpes\n",
      "\n",
      "#     b.bspe = np.std(b.bsp,axis=0)/np.sqrt(b.bsp.shape[0])\n",
      "\n",
      "    # if it takes a lot of iterations this might be a bad sign and it will warn you\n",
      "    # - you might want to turn off clipping! instead a.kpd = np.mean(a.kpd), a.kpe = np.std(a.kpd)/np.sqrt(nframes)\n",
      "\n",
      "    if num == 0:\n",
      "        a.bsp = np.mean(a.bsp,axis=0)\n",
      "        a.nsets = 1\n",
      "\n",
      "        b.bsp = np.mean(b.bsp,axis=0)\n",
      "        b.nsets = 1\n",
      "    else:\n",
      "        a.bspe = errors\n",
      "        a.nsets = 1"
     ],
     "language": "python",
     "metadata": {},
     "outputs": [],
     "prompt_number": 7
    },
    {
     "cell_type": "code",
     "collapsed": false,
     "input": [
      "#calibrate - this is a crude way to do things, but as we discuss in the paper, the systematics are bad enough \n",
      "# that it is unlikely that a clever Bayesian way of doing things would be much better\n",
      "if num == 0:\n",
      "    if no_kp:\n",
      "        addederror = 8.5\n",
      "    else:\n",
      "        addederror = 1.05\n",
      "\n",
      "    a.kpd -= b.kpd #subtract systematic\n",
      "    a.kpe = np.sqrt(a.kpe**2. + b.kpe**2.+ addederror**2.) #add statistical and measurement in quadrature\n",
      "    if bispec:\n",
      "        print 'Calibrating Bispectrum'\n",
      "        bsp_addederror = 5.3\n",
      "        a.bsp -= b.bsp\n",
      "        a.bspe = np.sqrt(a.bspe**2. + b.bspe**2. * bsp_addederror**2)\n",
      "else:\n",
      "    addederror = 1.05\n",
      "    print 'no systematic subtraction'\n",
      "    a.kpe = np.sqrt(a.kpe**2. + addederror**2.) #add statistical and measurement in quadrature\n",
      "    print addederror\n",
      "\n",
      "\n",
      "# you may want to add an error term in quadrature - see the note later! 1.0 should do the job \n",
      "# a.kpe = error_kp "
     ],
     "language": "python",
     "metadata": {},
     "outputs": [],
     "prompt_number": 8
    },
    {
     "cell_type": "markdown",
     "metadata": {},
     "source": [
      "In the following two cells we have two different ways of fitting a model to these data - one uses MultiNest and one uses emcee.\n",
      "\n",
      "MultiNest is available at http://ccpforge.cse.rl.ac.uk/gf/project/multinest/, and is accessed through Johannes Buchner's PyMultiNest Python wrapper available at http://johannesbuchner.github.io/PyMultiNest/ . These can be difficult to install, especially on some operating systems, and we do not use these results in the final paper, as we explore the posterior pdf more fully with emcee.\n",
      "\n",
      "emcee, the 'MCMC Hammer', is available from http://dan.iel.fm/emcee/current/ and is the main sampler used in the paper as submitted. We recommend initializing this and using its default values, as this will give the same results as we report in the paper. "
     ]
    },
    {
     "cell_type": "code",
     "collapsed": false,
     "input": [
      "# # MultiNest Option \n",
      "paramlimits = [100.,1000.,0.,360.,1.2,50]\n",
      "\n",
      "results = pysco.nest(a,paramlimits=paramlimits,bispec=bispec)\n",
      "\n",
      "params = [results[0]['median'],results[1]['median'],results[2]['median']]\n",
      "\n",
      "print 'Sep %.3f mas  Position angle %.3f deg  Contrast %.3f' % (params[0], params[1], params[2]) "
     ],
     "language": "python",
     "metadata": {},
     "outputs": [
      {
       "output_type": "stream",
       "stream": "stdout",
       "text": [
        "Modelling kernel phases with nested sampling\n",
        "  analysing data from chains/1-.txt"
       ]
      },
      {
       "output_type": "stream",
       "stream": "stdout",
       "text": [
        "\n",
        "Time elapsed ="
       ]
      },
      {
       "output_type": "stream",
       "stream": "stdout",
       "text": [
        " 10.0986087998 mins\n",
        "\n",
        "------------------------------ ANALYSIS ------------------------------\n",
        "Global Evidence:\n",
        "\t1.989971227924938e+03 +- 1.219911232242594e-01\n",
        "Separation: 126.649 pm 0.79\n",
        "Position angle: 85.037 pm 0.20\n",
        "Contrast at 2.145 um: 26.026 pm 0.480\n",
        "Sep 126.649 mas  Position angle 85.037 deg  Contrast 26.026\n"
       ]
      }
     ],
     "prompt_number": 9
    },
    {
     "cell_type": "code",
     "collapsed": false,
     "input": [
      "flatchain = pysco.hammer(a,ivar = [131.23, 82.84, 27.59], burnin=100, nsteps=1000, paramlimits=[40,250,0,360,5,50.],\n",
      "                         bispec=bispec) \n",
      "# Parameters as determined by aperture masking: [131.23, 82.84, 27.59]\n",
      "\n",
      "seps = flatchain[:,0]\n",
      "ths = flatchain[:,1]\n",
      "cons = flatchain[:,2]\n",
      "\n",
      "sep = np.mean(seps)\n",
      "\n",
      "th = np.mean(ths) # remember on Palomar the position angle goes the other way - so check this is not 360 - your answer!\n",
      "\n",
      "con = np.mean(cons)\n",
      "\n",
      "print 'Sep %.3f mas  Position angle %.2f deg  Contrast %.3f' % (sep, th, con)  \n",
      "params = [sep,th,con]\n"
     ],
     "language": "python",
     "metadata": {},
     "outputs": [
      {
       "output_type": "stream",
       "stream": "stdout",
       "text": [
        "Running emcee now!\n",
        "Burnt in! Took 110.520 seconds"
       ]
      },
      {
       "output_type": "stream",
       "stream": "stdout",
       "text": [
        "\n",
        "Time elapsed = 1247.928 s"
       ]
      },
      {
       "output_type": "stream",
       "stream": "stdout",
       "text": [
        "\n",
        "Separation 126.592 pm 0.774 mas\n",
        "Position angle 85.008 pm 0.192 deg\n",
        "Contrast at 2.145 um 26.071 pm 0.459\n",
        "Sep 126.592 mas  Position angle 85.01 deg  Contrast 26.071\n"
       ]
      }
     ],
     "prompt_number": 20
    },
    {
     "cell_type": "code",
     "collapsed": false,
     "input": [
      "# now plot your results! requires emcee output \n",
      "# if you have outliers you may have to fiddle with the extents \n",
      "\n",
      "fig = triangle.corner(flatchain, labels=[\"Separation (mas)\", \"Position Angle (deg)\", \"Contrast\"])#, extents = [0.92,0.92,0.92])\n",
      "plt.show()\n",
      "plt.savefig('./posterior.png')"
     ],
     "language": "python",
     "metadata": {},
     "outputs": [
      {
       "metadata": {},
       "output_type": "display_data",
       "png": "[encoded data removed]",
       "text": [
        "<matplotlib.figure.Figure at 0x7fef62163f10>"
       ]
      },
      {
       "metadata": {},
       "output_type": "display_data",
       "text": [
        "<matplotlib.figure.Figure at 0x7fef5fee7810>"
       ]
      }
     ],
     "prompt_number": 21
    },
    {
     "cell_type": "code",
     "collapsed": false,
     "input": [
      "params = [sep,th,con]\n",
      "# params = [131.23,82.6, 19.7]\n",
      "params = [sep,83.5,con]\n",
      "d = pysco.binary_model(params,a.kpi,a.hdr,bispec=bispec)\n",
      "\n",
      "plt.clf()\n",
      "if bispec:\n",
      "#     plt.errorbar(d[np.abs(a.bsp)<50],a.bsp[np.abs(a.bsp)<50],yerr=a.bspe[np.abs(a.bsp)<50],fmt='b.')\n",
      "    plt.errorbar(d,a.bsp,yerr=a.bspe,fmt='b.')\n",
      "    mm = np.round(np.max(np.abs(a.bsp)))\n",
      "#     mm = 42\n",
      "#     mm = 10\n",
      "    plt.axis([-mm,mm,-mm,mm],fontsize='large')\n",
      "else:\n",
      "    mm = np.round(np.max(np.abs(a.kpd)))\n",
      "    plt.errorbar(d,a.kpd,yerr=a.kpe,fmt='b.')\n",
      "    plt.axis('tight',fontsize='large')\n",
      "plt.plot([-mm,mm],[-mm,mm], 'g')\n",
      "\n",
      "\n",
      "if bispec:\n",
      "    plt.xlabel('Model Bispectral Phases (deg)',fontsize='large')\n",
      "    plt.ylabel('Bispectral Phase Signal (deg)', fontsize='large')\n",
      "    plt.title('Bispectrum Correlation Diagram',\n",
      "          fontsize='large') \n",
      "elif no_kp:\n",
      "    plt.xlabel('Model Phases',fontsize='large')\n",
      "    plt.ylabel('Raw Phase Signal', fontsize='large')\n",
      "    plt.title('Raw Phase Correlation Diagram',\n",
      "          fontsize='large')\n",
      "else:\n",
      "    plt.xlabel('Model Kernel Phases (deg)',fontsize='large')\n",
      "    plt.ylabel('Kernel Phase Signal (deg)', fontsize='large')\n",
      "    plt.title('Kernel Phase Correlation Diagram',\n",
      "\t\t  fontsize='large')\n",
      "plt.draw()\n",
      "plt.show()\n",
      "plt.savefig('./correlation_Ks.png')\n"
     ],
     "language": "python",
     "metadata": {},
     "outputs": [
      {
       "metadata": {},
       "output_type": "display_data",
       "png": "[encoded data removed]",
       "text": [
        "<matplotlib.figure.Figure at 0x7fef62163e10>"
       ]
      },
      {
       "metadata": {},
       "output_type": "display_data",
       "text": [
        "<matplotlib.figure.Figure at 0x7fef5f62d7d0>"
       ]
      }
     ],
     "prompt_number": 22
    },
    {
     "cell_type": "markdown",
     "metadata": {},
     "source": [
      "There is a problem in the above! As you'll notice if you don't include an error term added in quadrature, it's got enormously more scatter than the error bars suggest. This is because the error bars are probably way too small - they are derived from scatter in the observations, whereas we know that due to saturation, a ghost (!) and poor AO performance they are likely to suffer from a systematic offset as well.\n",
      "\n",
      "As a result, we will recalculate all of the above, adding a second error term in quadrature to get a chi2 of 1 and redoing the MCMC.\n",
      "\n",
      "To help you out, as we note above, we found that the best error to do this is 1 degree, but feel free to play with this."
     ]
    },
    {
     "cell_type": "code",
     "collapsed": false,
     "input": [
      "if bispec:\n",
      "    chi2 = np.sum(((a.bsp -d)/a.bspe)**2.)\n",
      "    print a.bsp.max()\n",
      "else:\n",
      "    chi2 = np.sum(((a.kpd -d)/a.kpe)**2.)\n",
      "\n",
      "print 'Reduced chi2 = %03f'%(chi2/(a.kpi.nkphi-4.))"
     ],
     "language": "python",
     "metadata": {},
     "outputs": [
      {
       "output_type": "stream",
       "stream": "stdout",
       "text": [
        "Reduced chi2 = 1.119567\n"
       ]
      }
     ],
     "prompt_number": 23
    },
    {
     "cell_type": "heading",
     "level": 2,
     "metadata": {},
     "source": [
      "Thank you for taking the time to read this! I hope this was enlightening and maybe you can even use some of this in your own research.\n",
      "\n",
      "Cheers,\n",
      "\n",
      "Ben"
     ]
    },
    {
     "cell_type": "markdown",
     "metadata": {},
     "source": [
      "Other relevant code follows below the line...\n",
      "\n",
      "\n",
      "#---------------------------------------------------------------------------"
     ]
    },
    {
     "cell_type": "heading",
     "level": 2,
     "metadata": {},
     "source": [
      "Now we're going to use Alex and Mike's MEM code to try and use the kernel phase information to deconvolve the images differently. This at present uses a high-contrast approximation (small-phase, ie phase ~ imaginary component) to simplify the matrices (DFT -> sine, so no complex operations)."
     ]
    },
    {
     "cell_type": "code",
     "collapsed": false,
     "input": [
      "'''----------------------------------------------------\n",
      "Now to make deconvolved images! \n",
      "\n",
      "In mk_kp2implane run kerphimobj(kpi, keywords), \n",
      "giving it a kpi object & some necessary keywords outlined\n",
      "in the code, importantly kerph and kerpherr --- a set of \n",
      "kernel phases (radians) and errors. \n",
      "----------------------------------------------------'''\n",
      "\n",
      "from imaging import *\n",
      "\n",
      "fov = 40\n",
      "tic1= time()\n",
      "kpimobj = kerphimobj(a,fov=fov,bsp=False)\n",
      "if no_kp:\n",
      "    kpimobj.name = 'test_no_kp'\n",
      "else:\n",
      "    kpimobj.name = 'test'\n",
      "kpimobj.kp2pm,kpimobj.sym2im = kpimobj.kerph2im(theta=a.hdr['orient'])\n",
      "toc1=time()\n",
      "kpimobj.write()\n",
      "print toc1-tic1, 'seconds elapsed'"
     ],
     "language": "python",
     "metadata": {},
     "outputs": [
      {
       "ename": "NameError",
       "evalue": "global name 'bsp' is not defined",
       "output_type": "pyerr",
       "traceback": [
        "\u001b[1;31m---------------------------------------------------------------------------\u001b[0m\n\u001b[1;31mNameError\u001b[0m                                 Traceback (most recent call last)",
        "\u001b[1;32m<ipython-input-10-771aa837dd08>\u001b[0m in \u001b[0;36m<module>\u001b[1;34m()\u001b[0m\n\u001b[0;32m     12\u001b[0m \u001b[0mfov\u001b[0m \u001b[1;33m=\u001b[0m \u001b[1;36m40\u001b[0m\u001b[1;33m\u001b[0m\u001b[0m\n\u001b[0;32m     13\u001b[0m \u001b[0mtic1\u001b[0m\u001b[1;33m=\u001b[0m \u001b[0mtime\u001b[0m\u001b[1;33m(\u001b[0m\u001b[1;33m)\u001b[0m\u001b[1;33m\u001b[0m\u001b[0m\n\u001b[1;32m---> 14\u001b[1;33m \u001b[0mkpimobj\u001b[0m \u001b[1;33m=\u001b[0m \u001b[0mkerphimobj\u001b[0m\u001b[1;33m(\u001b[0m\u001b[0ma\u001b[0m\u001b[1;33m,\u001b[0m\u001b[0mfov\u001b[0m\u001b[1;33m=\u001b[0m\u001b[0mfov\u001b[0m\u001b[1;33m,\u001b[0m\u001b[0mbsp\u001b[0m\u001b[1;33m=\u001b[0m\u001b[0mFalse\u001b[0m\u001b[1;33m)\u001b[0m\u001b[1;33m\u001b[0m\u001b[0m\n\u001b[0m\u001b[0;32m     15\u001b[0m \u001b[1;32mif\u001b[0m \u001b[0mno_kp\u001b[0m\u001b[1;33m:\u001b[0m\u001b[1;33m\u001b[0m\u001b[0m\n\u001b[0;32m     16\u001b[0m     \u001b[0mkpimobj\u001b[0m\u001b[1;33m.\u001b[0m\u001b[0mname\u001b[0m \u001b[1;33m=\u001b[0m \u001b[1;34m'test_no_kp'\u001b[0m\u001b[1;33m\u001b[0m\u001b[0m\n",
        "\u001b[1;32m/home/ben/code/whisky/imaging/mk_kp2implane.py\u001b[0m in \u001b[0;36m__init__\u001b[1;34m(self, kpo, **kwargs)\u001b[0m\n\u001b[0;32m     31\u001b[0m                         \u001b[0mself\u001b[0m\u001b[1;33m.\u001b[0m\u001b[0mname\u001b[0m \u001b[1;33m=\u001b[0m \u001b[1;34m''\u001b[0m\u001b[1;33m\u001b[0m\u001b[0m\n\u001b[0;32m     32\u001b[0m                 \u001b[1;32mif\u001b[0m \u001b[1;34m'bsp'\u001b[0m \u001b[1;32min\u001b[0m \u001b[0mself\u001b[0m\u001b[1;33m.\u001b[0m\u001b[0mkeys\u001b[0m\u001b[1;33m:\u001b[0m\u001b[1;33m\u001b[0m\u001b[0m\n\u001b[1;32m---> 33\u001b[1;33m                         \u001b[1;32mif\u001b[0m \u001b[0mbsp\u001b[0m \u001b[1;33m==\u001b[0m \u001b[0mTrue\u001b[0m\u001b[1;33m:\u001b[0m\u001b[1;33m\u001b[0m\u001b[0m\n\u001b[0m\u001b[0;32m     34\u001b[0m                                 \u001b[1;32mprint\u001b[0m \u001b[1;34m'Doing bispectrum'\u001b[0m\u001b[1;33m\u001b[0m\u001b[0m\n\u001b[0;32m     35\u001b[0m                                 \u001b[0mself\u001b[0m\u001b[1;33m.\u001b[0m\u001b[0mKmat\u001b[0m \u001b[1;33m=\u001b[0m \u001b[0mkpo\u001b[0m\u001b[1;33m.\u001b[0m\u001b[0mkpi\u001b[0m\u001b[1;33m.\u001b[0m\u001b[0muv_to_bsp\u001b[0m\u001b[1;33m\u001b[0m\u001b[0m\n",
        "\u001b[1;31mNameError\u001b[0m: global name 'bsp' is not defined"
       ]
      }
     ],
     "prompt_number": 10
    },
    {
     "cell_type": "code",
     "collapsed": false,
     "input": [
      "'''------------------------------\n",
      "Now run it!\n",
      "------------------------------'''\n",
      "\n",
      "#\timsize -- the size of the image in pixels, needs to match input\n",
      "#\t\t\t  file 'pixel matrix' size\n",
      "#\talpha  -- A starting value for the MEM functional multiplier (default=1.0)\n",
      "#\tgain   -- The servo gain for adjusting alpha to achieve chi^2=1\n",
      "#\tniter  -- number of iterations\n",
      "#\tprior  -- as mentioned at the start of this script, the prior\n",
      "#\t\t\t  is used to contrain the flux\n",
      "\n",
      "from imaging import *\n",
      "%matplotlib inline\n",
      "\n",
      "'''defaults'''\n",
      "if no_kp:\n",
      "    imsize = 40\n",
      "    alpha = 0.5\n",
      "    gain = 0.0001\n",
      "    prior = np.ones(imsize**2)/imsize**2.0\n",
      "elif bispec:\n",
      "    imsize = 40\n",
      "    alpha = 100000\n",
      "    gain = 0.01\n",
      "    prior = np.ones(imsize**2)/imsize**2.0   \n",
      "else:\n",
      "    imsize = 40\n",
      "    alpha = 0.5\n",
      "    gain = 0.0001\n",
      "    prior = np.ones(imsize**2)/imsize**2.0\n",
      "\n",
      "# xx,yy= np.meshgrid(np.arange(imsize)-imsize/2.,np.arange(imsize)-imsize/2.)\n",
      "# rr = np.sqrt(xx**2. + yy**2.)\n",
      "# prior1= np.exp(-(rr/(imsize/2.))**2)\n",
      "# prior = np.ravel(prior1/np.sum(prior1))\n",
      "\n",
      "niter = 1000\n",
      "if no_kp:\n",
      "    fname_im = 'kerphim_test_no_kp.fits'\n",
      "else:\n",
      "    fname_im = 'kerphim_test.fits'\n",
      "# trial.read_data(fname_im)\n",
      "\n",
      "tic = time()\n",
      "trial = MemImage(fname_im, niter=niter,imsize=imsize,alpha=alpha,gain=gain,prior=prior)\n",
      "im = trial.mem_image()\n",
      "toc = time()\n",
      "print toc-tic, 'seconds elapsed'\n",
      "\n",
      "\n",
      "#now save as a .fits file\n",
      "try:\n",
      "    f = fitsio.FITS('./mem_image_kp.fits','rw')\n",
      "    f.write(im)\n",
      "    f.close()\n",
      "    print 'Written as ./mem_image_kp.fits'\n",
      "except:\n",
      "    print 'Failed to write'\n"
     ],
     "language": "python",
     "metadata": {},
     "outputs": []
    },
    {
     "cell_type": "code",
     "collapsed": false,
     "input": [
      "'''--------------------------------\n",
      "the rest is a plot\n",
      "--------------------------------'''\n",
      "\n",
      "\n",
      "bestfit = np.array([-131.377*np.sin(np.pi/180.*85.98),131.377*np.cos(np.pi/180.*85.98)])\n",
      "\n",
      "plt.imshow(im.T/im.max(), interpolation='nearest',cmap=plt.get_cmap('gist_heat'),extent=trial.extent)\n",
      "plt.colorbar(label='Normalized intensity')\n",
      "plt.plot(0,0,'w*', ms=15)\n",
      "plt.axis(trial.extent)\n",
      "plt.axhline(bestfit[1],color='c',alpha=0.4)\n",
      "plt.axvline(bestfit[0],color='c',alpha=0.4)\n",
      "# plt.plot(bestfit[0],bestfit[1],'cs',alpha=0.8)\n",
      "plt.xlabel(r'$\\Delta$ RA (milli-arcsec)', fontsize='large')\n",
      "plt.ylabel(r'$\\Delta$ Dec (milli-arcsec)', fontsize='large')\n",
      "if no_kp:\n",
      "    plt.title('MaxEnt Image Reconstruction using Fourier Phases',fontsize='large')\n",
      "elif bispec:\n",
      "    plt.title('MaxEnt Image Reconstruction using Bispectral Phases',fontsize='large')\n",
      "else:\n",
      "    plt.title('MaxEnt Image Reconstruction using Kernel Phases',fontsize='large')\n",
      "print \"Total contrast (mags): \" + str(-2.5*np.log10(np.sum(trial.pm)))\n",
      "plt.show()"
     ],
     "language": "python",
     "metadata": {},
     "outputs": []
    },
    {
     "cell_type": "code",
     "collapsed": false,
     "input": [
      "# z = pysco.kpi('./kerphi/medcross.txt') # in case you need to make it - edit this!"
     ],
     "language": "python",
     "metadata": {},
     "outputs": []
    },
    {
     "cell_type": "heading",
     "level": 2,
     "metadata": {},
     "source": [
      "The following code produces a binary simulation to benchmark against."
     ]
    },
    {
     "cell_type": "code",
     "collapsed": false,
     "input": [
      "####################\n",
      "## Simulate images!\n",
      "####################\n",
      "\n",
      "sep, theta, contrast = 136., 86., 32.0\n",
      "\n",
      "image, coords = whisky.make_binary(sep,theta,contrast,spaxel=25.2,wavel=2.15e-6,sz=4096)\n",
      "\n",
      "whisky.write_to_fits(image,filename='./binary_%.0f_%.0f_%.0f.fits' % (sep,theta,contrast))\n",
      "\n",
      "print 'Saved to ./binary_%.0f_%.0f_%.0f.fits' % (sep,theta,contrast)"
     ],
     "language": "python",
     "metadata": {},
     "outputs": [
      {
       "output_type": "stream",
       "stream": "stdout",
       "text": [
        "(764,)\n"
       ]
      }
     ],
     "prompt_number": 27
    },
    {
     "cell_type": "heading",
     "level": 3,
     "metadata": {},
     "source": [
      "The following cell writes out a single cleaned, stacked image - I put this in there so that collaborators could look at the data exactly as they appear to the kernel phase code."
     ]
    },
    {
     "cell_type": "code",
     "collapsed": false,
     "input": [
      "'''------------------------------------------------\n",
      "Write out a cleaned stacked cube\n",
      "------------------------------------------------'''\n",
      "\n",
      "#read it in - using the pysco routine so as to get the centering correct\n",
      "\n",
      "cube,hdr = pysco.load_cube(ddir+fnames[0])\n",
      "\n",
      "#stack centred images\n",
      "stacked_cube = np.sum(cube,axis = 0)\n",
      "\n",
      "#now save as a .fits file\n",
      "try:\n",
      "    f = fitsio.FITS('./stacked_cube_%s_%s.fits'%(tnames[0],bandn),'rw')\n",
      "    f.write(stacked_cube,hdr=hdr)\n",
      "    f.close()\n",
      "    print 'Written as ./stacked_cube_%s_%s.fits'%(tnames[0],bandn)\n",
      "except:\n",
      "    print 'Failed to write'\n",
      "\n",
      "#do calibrator\n",
      "calcube,calhdr = pysco.load_cube(ddir+fnames[1])\n",
      "\n",
      "#stack centred images\n",
      "stacked_cube_cal = np.sum(calcube,axis = 0)\n",
      "\n",
      "#now save as a .fits file\n",
      "try:\n",
      "    f = fitsio.FITS('./stacked_cube_%s_%s_cal.fits'%(tnames[1],bandn),'rw')\n",
      "    f.write(stacked_cube_cal,hdr=hdr)\n",
      "    f.close()\n",
      "    print 'Written as ./stacked_cube_%s_%s_cal.fits'%(tnames[1],bandn)\n",
      "except:\n",
      "    print 'Failed to write'"
     ],
     "language": "python",
     "metadata": {},
     "outputs": []
    },
    {
     "cell_type": "heading",
     "level": 3,
     "metadata": {},
     "source": [
      "In this section, we are just going to make sure that everything worked out ok with the pupil model and plot the image, its Fourier transform, and the relevant sampling points. There should be a circle in the uv plane of nonzero visibility and nontrivial, small phase, and all the baselines (blue) should fall just within this."
     ]
    },
    {
     "cell_type": "code",
     "collapsed": false,
     "input": [
      "ims = np.array(a.ims)\n",
      "avgim = np.sum(ims,axis=0)[256-64:256+64,256-64:256+64]\n",
      "plt.imshow(avgim**0.3)"
     ],
     "language": "python",
     "metadata": {},
     "outputs": [
      {
       "metadata": {},
       "output_type": "pyout",
       "prompt_number": 46,
       "text": [
        "<matplotlib.image.AxesImage at 0x7fee44d89ed0>"
       ]
      },
      {
       "metadata": {},
       "output_type": "display_data",
       "png": "[encoded data removed]",
       "text": [
        "<matplotlib.figure.Figure at 0x7fee44b53050>"
       ]
      }
     ],
     "prompt_number": 46
    },
    {
     "cell_type": "code",
     "collapsed": false,
     "input": [
      "ac_mod = np.abs(b.acs)\n",
      "avg_vis = np.sum(ac_mod,axis=0)\n",
      "vis_err = np.std(ac_mod,axis=0)\n",
      "\n",
      "sz, dz = a.ims.shape[1], a.ims.shape[1]/2\n",
      "m2pix = pysco.mas2rad(a.hdr['pscale'] * sz / a.hdr['filter'])\n",
      "uv_samp = a.kpi.uv * m2pix + dz # uv sample coordinates in pixels\n",
      "uv_samp = pysco.adjust_samp(uv_samp,a.kpi,m2pix,sz)\n",
      "uv_samp_rev=np.cast['int'](np.round(uv_samp))\n",
      "uv_samp_rev[:,0]*= -1.0\n",
      "\n",
      "plt.imshow(avg_vis**0.2,extent=[0,sz,0,-sz])\n",
      "plt.scatter(uv_samp_rev[:,1], uv_samp_rev[:,0],c=a.kpi.RED**0.2,lw=0)\n",
      "plt.axis([0,sz,0,-sz])"
     ],
     "language": "python",
     "metadata": {},
     "outputs": [
      {
       "metadata": {},
       "output_type": "pyout",
       "prompt_number": 28,
       "text": [
        "[0, 512, 0, -512]"
       ]
      },
      {
       "metadata": {},
       "output_type": "display_data",
       "png": "[encoded data removed]",
       "text": [
        "<matplotlib.figure.Figure at 0x7fee42a3e190>"
       ]
      }
     ],
     "prompt_number": 28
    },
    {
     "cell_type": "code",
     "collapsed": false,
     "input": [
      "ac_phase = np.angle(b.acs)\n",
      "avg_phase = np.sum(ac_phase,axis=0)\n",
      "\n",
      "plt.imshow(avg_phase,extent=[0,sz,0,-sz])\n",
      "plt.plot(uv_samp_rev[:,1], uv_samp_rev[:,0],'.b')\n",
      "plt.axis([0,sz,0,-sz])"
     ],
     "language": "python",
     "metadata": {},
     "outputs": [
      {
       "metadata": {},
       "output_type": "pyout",
       "prompt_number": 30,
       "text": [
        "[0, 512, 0, -512]"
       ]
      },
      {
       "metadata": {},
       "output_type": "display_data",
       "png": "[encoded data removed]",
       "text": [
        "<matplotlib.figure.Figure at 0x7fee42a56d10>"
       ]
      }
     ],
     "prompt_number": 30
    },
    {
     "cell_type": "code",
     "collapsed": false,
     "input": [
      "visb = avg_vis[uv_samp_rev[:,1], uv_samp_rev[:,0]]                \n",
      "visb /= visb.max()"
     ],
     "language": "python",
     "metadata": {},
     "outputs": [],
     "prompt_number": 31
    },
    {
     "cell_type": "code",
     "collapsed": false,
     "input": [
      "plt.plot(np.log(b.kpi.RED/b.kpi.RED.max()),np.log(visb),'.b')\n",
      "plt.plot([-5,0],[-5,0],'-g')"
     ],
     "language": "python",
     "metadata": {},
     "outputs": [
      {
       "metadata": {},
       "output_type": "pyout",
       "prompt_number": 33,
       "text": [
        "[<matplotlib.lines.Line2D at 0x7fee452fff50>]"
       ]
      },
      {
       "metadata": {},
       "output_type": "display_data",
       "png": "[encoded data removed]",
       "text": [
        "<matplotlib.figure.Figure at 0x7fee4517fc50>"
       ]
      }
     ],
     "prompt_number": 33
    },
    {
     "cell_type": "code",
     "collapsed": false,
     "input": [
      "from scipy.optimize import leastsq,fmin,curve_fit,brute\n",
      "from mk_test_pupil import *\n",
      "\n",
      "def compare_pupil_model(kpo,uv,RED,scale=1.0):\n",
      "    \n",
      "    uv *= scale\n",
      "\n",
      "    ### First generate your pupil mode\n",
      "    ac_mod = (np.abs(kpo.acs)/np.max(np.abs(kpo.acs))).astype(np.float64)\n",
      "    avg_vis2 = np.mean(np.log(ac_mod),axis=0)\n",
      "    vis_err2 = np.std(np.log(ac_mod),axis=0)\n",
      "\n",
      "    sz, dz = kpo.ims.shape[1], kpo.ims.shape[1]/2\n",
      "    m2pix = pysco.mas2rad(kpo.hdr['pscale'] * sz / kpo.hdr['filter'])\n",
      "    \n",
      "    uv_samp = uv * m2pix + dz # uv sample coordinates in pixels\n",
      "#     uv_samp = pysco.adjust_samp(uv_samp,b.kpi,m2pix,sz)\n",
      "    uv_samp_rev=np.cast['int'](np.round(uv_samp))\n",
      "    uv_samp_rev[:,0]*= -1.0\n",
      "    visb2 = avg_vis2[uv_samp_rev[:,1], uv_samp_rev[:,0]]    \n",
      "    visb2err = vis_err2[uv_samp_rev[:,1], uv_samp_rev[:,0]]\n",
      "    visb2 -= visb2.max()\n",
      "    \n",
      "    return visb2, visb2err, np.log(RED/np.float(RED.max()))\n",
      "\n",
      "# =========================================================================\n",
      "# ========================================================================\n",
      "\n",
      "def fit_mask_residuals(params,kpo,srad=0.33):\n",
      "    ''' Function to evaluate fit residuals, to be used in a leastsq\n",
      "    fitting procedure. '''\n",
      "\n",
      "    mask = make_test_pupil(params[0],params[1],params[2],srad=srad)\n",
      "    uv, RED = do_uv_red(mask,Ns=3.)\n",
      "    \n",
      "    visb, visberr, model = compare_pupil_model(kpo,uv,RED)\n",
      "#     visberr *= 1000\n",
      "    visberr = 1.\n",
      "    err = ((visb-model)/visberr)**2/model.shape[0]\n",
      "    return np.sum(err).astype(np.float64)\n",
      "\n",
      "def fit_mask_residuals_mask(uv,RED,kpo,scale=1.0):\n",
      "    ''' Function to evaluate fit residuals, to be used in a leastsq\n",
      "    fitting procedure. '''\n",
      "\n",
      "    visb, visberr, model = compare_pupil_model(kpo,uv,RED,scale=scale)\n",
      "#     visberr *= 1000\n",
      "    visberr = 1.\n",
      "    err = ((visb-model)/visberr)**2/model.shape[0]\n",
      "    return np.sum(err).astype(np.float64)\n",
      "\n",
      "# =========================================================================\n",
      "# =========================================================================\n",
      "\n",
      "def fit_mask(kpo, p0):\n",
      "    '''Performs a best binary fit search for the datasets.\n",
      "    \n",
      "    -------------------------------------------------------------\n",
      "    p0 is the initial guess for the parameters 3 parameter vector\n",
      "    typical example would be : [100.0, 0.0, 5.0].\n",
      "    \n",
      "    returns the full solution of the least square fit:\n",
      "    - soluce[0] : best-fit parameters\n",
      "    - soluce[1] : covariance matrix\n",
      "    ------------------------------------------------------------- '''\n",
      "    \n",
      "    soluce = leastsq(fit_mask_residuals, \n",
      "                     p0, args=((kpo,)),\n",
      "                     full_output=1)\n",
      "    #     covar = soluce[1]\n",
      "\n",
      "#     soluce = fmin(fit_mask_residuals, p0.flatten(), args=(kpo,))\n",
      "    return soluce\n",
      "\n",
      "def fit_mask_lm(kpo, p0):\n",
      "    '''Performs a best binary fit search for the datasets.\n",
      "    \n",
      "    -------------------------------------------------------------\n",
      "    p0 is the initial guess for the parameters 3 parameter vector\n",
      "    typical example would be : [100.0, 0.0, 5.0].\n",
      "    \n",
      "    returns the full solution of the least square fit:\n",
      "    - soluce[0] : best-fit parameters\n",
      "    - soluce[1] : covariance matrix\n",
      "    ------------------------------------------------------------- '''\n",
      "    \n",
      "#     soluce = leastsq(fit_mask_residuals, \n",
      "#                      p0, args=((kpo,)),\n",
      "#                      full_output=1)\n",
      "    \n",
      "    soluce = curve_fit(fit_mask_residuals, p0.flatten(), args=(kpo,))\n",
      "    covar = soluce[1]\n",
      "    return soluce\n",
      "\n",
      "def fit_mask_brute(kpo):\n",
      "    '''Performs a best binary fit search for the datasets.\n",
      "    \n",
      "    -------------------------------------------------------------\n",
      "    p0 is the initial guess for the parameters 3 parameter vector\n",
      "    typical example would be : [100.0, 0.0, 5.0].\n",
      "    \n",
      "    returns the full solution of the least square fit:\n",
      "    - soluce[0] : best-fit parameters\n",
      "    - soluce[1] : covariance matrix\n",
      "    ------------------------------------------------------------- '''\n",
      "    \n",
      "    soluce = brute(fit_mask_residuals, \n",
      "                     ((2.2,2.5),(0.4,0.5),(0,15,0.25)), args=((kpo,)), Ns=5,\n",
      "                     full_output=1,disp=True)\n",
      "    #     covar = soluce[1]\n",
      "\n",
      "#     soluce = fmin(fit_mask_residuals, p0.flatten(), args=(kpo,))\n",
      "    return soluce"
     ],
     "language": "python",
     "metadata": {},
     "outputs": [],
     "prompt_number": 21
    },
    {
     "cell_type": "code",
     "collapsed": false,
     "input": [
      "# visb2, visb2err, red = compare_pupil_model(b,5.093/2* 15.4/16.88,1/2.0,0.24)"
     ],
     "language": "python",
     "metadata": {},
     "outputs": [],
     "prompt_number": 10
    },
    {
     "cell_type": "code",
     "collapsed": false,
     "input": [
      "# plt.errorbar(red,visb2,yerr=visb2err,fmt=None)"
     ],
     "language": "python",
     "metadata": {},
     "outputs": [],
     "prompt_number": 11
    },
    {
     "cell_type": "code",
     "collapsed": false,
     "input": [
      "# soluce = fit_mask_brute(b)"
     ],
     "language": "python",
     "metadata": {},
     "outputs": [],
     "prompt_number": 12
    },
    {
     "cell_type": "code",
     "collapsed": false,
     "input": [
      "# # p0 = np.array([2.32322867,0.5,0.21]).astype(np.float64)\n",
      "# print np.sum(fit_mask_residuals(p0,b)**2.)\n",
      "# soluce = fit_mask(b,p0)\n",
      "# print soluce\n",
      "# print np.sum(fit_mask_residuals(soluce,b)**2.)"
     ],
     "language": "python",
     "metadata": {},
     "outputs": [],
     "prompt_number": 13
    },
    {
     "cell_type": "code",
     "collapsed": false,
     "input": [
      "visb2m, visb2errm, redm = compare_pupil_model(b,2.32322867, 0.525, 0.24)\n",
      "plt.errorbar(redm,visb2m,yerr=visb2errm,fmt=None)"
     ],
     "language": "python",
     "metadata": {},
     "outputs": [
      {
       "output_type": "stream",
       "stream": "stderr",
       "text": [
        "/usr/local/lib/python2.7/dist-packages/matplotlib/axes/_axes.py:2652: MatplotlibDeprecationWarning: Use of None object as fmt keyword argument to suppress plotting of data values is deprecated since 1.4; use the string \"none\" instead.\n",
        "  warnings.warn(msg, mplDeprecation, stacklevel=1)\n"
       ]
      },
      {
       "metadata": {},
       "output_type": "pyout",
       "prompt_number": 14,
       "text": [
        "<Container object of 3 artists>"
       ]
      },
      {
       "metadata": {},
       "output_type": "display_data",
       "png": "[encoded data removed]",
       "text": [
        "<matplotlib.figure.Figure at 0x7fac30231cd0>"
       ]
      }
     ],
     "prompt_number": 14
    },
    {
     "cell_type": "code",
     "collapsed": false,
     "input": [
      "from time import time as clock\n",
      "tic = clock()\n",
      "# print np.sum(fit_mask_residuals([2.32322867, 0.55, 0.21],b)**2.)\n",
      "print fit_mask_residuals([2.32322867, 0.55, 0.21],b)\n",
      "# print np.sum(fit_mask_residuals([2.32322867, 0.49, 0.24],b)**2.)\n",
      "print clock()-tic"
     ],
     "language": "python",
     "metadata": {},
     "outputs": [
      {
       "output_type": "stream",
       "stream": "stdout",
       "text": [
        "27.0773625938\n",
        "1.69236683846\n"
       ]
      }
     ],
     "prompt_number": 11
    },
    {
     "cell_type": "code",
     "collapsed": false,
     "input": [
      "# nsamp = 6\n",
      "# rmaxes, ratios, spiders = np.linspace(2.37,2.39,nsamp), np.linspace(0.59,0.61,nsamp), np.linspace(0.22,0.24,nsamp)\n",
      "# chi2s = np.zeros((nsamp,nsamp))\n",
      "# tic = clock()\n",
      "# for j in range(nsamp):\n",
      "#     print 'up to',j\n",
      "#     for k in range(nsamp):\n",
      "#         chi2s[j,k] = fit_mask_residuals([rmaxes[j],ratios[k],0.2292],b)\n",
      "# print clock()-tic"
     ],
     "language": "python",
     "metadata": {},
     "outputs": [],
     "prompt_number": 15
    },
    {
     "cell_type": "code",
     "collapsed": false,
     "input": [
      "# print np.where(chi2s==chi2s.min())\n",
      "# print chi2s\n",
      "# print np.min(chi2s)\n",
      "# print rmaxes[3]\n",
      "# print ratios[5]"
     ],
     "language": "python",
     "metadata": {},
     "outputs": [],
     "prompt_number": 16
    },
    {
     "cell_type": "code",
     "collapsed": false,
     "input": [
      "# plt.imshow(chi2s)"
     ],
     "language": "python",
     "metadata": {},
     "outputs": [],
     "prompt_number": 17
    },
    {
     "cell_type": "code",
     "collapsed": false,
     "input": [
      "# visb2m, visb2errm, redm = compare_pupil_model(b,2.323, 0.47195, 0.2292,srad=0.11)\n",
      "# visb2m, visb2errm, redm = compare_pupil_model(b,2.382, 0.61, 0.2292)\n",
      "visb2m, visb2errm, redm = compare_pupil_model(b,2.323, 0.49195, 0.16,srad=0.33)\n",
      "\n",
      "print np.sum(((visb2m-redm)/visb2errm)**2)/np.shape(visb2m)[0]\n",
      "\n",
      "plt.errorbar(redm,visb2m-redm,yerr=visb2errm,fmt=None)"
     ],
     "language": "python",
     "metadata": {},
     "outputs": [
      {
       "output_type": "stream",
       "stream": "stdout",
       "text": [
        "42.2679080869\n"
       ]
      },
      {
       "metadata": {},
       "output_type": "pyout",
       "prompt_number": 21,
       "text": [
        "<Container object of 3 artists>"
       ]
      },
      {
       "metadata": {},
       "output_type": "display_data",
       "png": "[encoded data removed]",
       "text": [
        "<matplotlib.figure.Figure at 0x7fac175b62d0>"
       ]
      }
     ],
     "prompt_number": 21
    },
    {
     "cell_type": "code",
     "collapsed": false,
     "input": [
      "1.829/2. * 7.6/6.08/2.323"
     ],
     "language": "python",
     "metadata": {},
     "outputs": []
    },
    {
     "cell_type": "code",
     "collapsed": false,
     "input": [
      "0.83 *15.4/16.88/4./(2.323-0.49195*2.323)"
     ],
     "language": "python",
     "metadata": {},
     "outputs": []
    },
    {
     "cell_type": "code",
     "collapsed": false,
     "input": [
      "chi2p = np.zeros(20)\n",
      "tic = clock()\n",
      "for j,r in enumerate(np.linspace(2.38,2.405,20)):\n",
      "    chi2p[j] = fit_mask_residuals([r,1./2.11885, 0.2292],b,srad=0.1)\n",
      "print clock()-tic"
     ],
     "language": "python",
     "metadata": {},
     "outputs": [
      {
       "output_type": "stream",
       "stream": "stdout",
       "text": [
        "2386.07079697\n"
       ]
      }
     ],
     "prompt_number": 29
    },
    {
     "cell_type": "code",
     "collapsed": false,
     "input": [
      "plt.plot(np.linspace(2.38,2.405,20),chi2p)"
     ],
     "language": "python",
     "metadata": {},
     "outputs": [
      {
       "metadata": {},
       "output_type": "pyout",
       "prompt_number": 30,
       "text": [
        "[<matplotlib.lines.Line2D at 0x7f15ade58690>]"
       ]
      },
      {
       "metadata": {},
       "output_type": "display_data",
       "png": "[encoded data removed]",
       "text": [
        "<matplotlib.figure.Figure at 0x7f15ae084210>"
       ]
      }
     ],
     "prompt_number": 30
    },
    {
     "cell_type": "code",
     "collapsed": false,
     "input": [
      "rs = np.linspace(2.38,2.405,20)\n",
      "rs[np.argmin(chi2p)]"
     ],
     "language": "python",
     "metadata": {},
     "outputs": [
      {
       "metadata": {},
       "output_type": "pyout",
       "prompt_number": 31,
       "text": [
        "2.3918421052631578"
       ]
      }
     ],
     "prompt_number": 31
    },
    {
     "cell_type": "code",
     "collapsed": false,
     "input": [
      "mask = make_test_pupil(2.3918, 1./2.11885, 0.2292,srad=0.1)\n",
      "uv, RED = do_uv_red(mask,Ns=3.)\n",
      "\n",
      "visb2m, visb2errm, redm = compare_pupil_model(b,uv,RED)\n",
      "plt.errorbar(redm,visb2m,yerr=visb2errm,fmt=None)\n",
      "plt.plot([-5,0],[-5,0],'-g')"
     ],
     "language": "python",
     "metadata": {},
     "outputs": [
      {
       "metadata": {},
       "output_type": "pyout",
       "prompt_number": 32,
       "text": [
        "[<matplotlib.lines.Line2D at 0x7f15ae383510>]"
       ]
      },
      {
       "metadata": {},
       "output_type": "display_data",
       "png": "[encoded data removed]",
       "text": [
        "<matplotlib.figure.Figure at 0x7f15addd5110>"
       ]
      }
     ],
     "prompt_number": 32
    },
    {
     "cell_type": "code",
     "collapsed": false,
     "input": [
      "chi2b = np.zeros(100)\n",
      "tic = clock()\n",
      "for j,sec in enumerate(np.linspace(0.47,0.52,100)):\n",
      "    chi2b[j] = fit_mask_residuals([2.35,sec, 0.2292],b)\n",
      "print clock()-tic"
     ],
     "language": "python",
     "metadata": {},
     "outputs": [
      {
       "output_type": "stream",
       "stream": "stdout",
       "text": [
        "305.864490986\n"
       ]
      }
     ],
     "prompt_number": 27
    },
    {
     "cell_type": "code",
     "collapsed": false,
     "input": [
      "chi2c = np.zeros(100)\n",
      "tic = clock()\n",
      "for j,sec in enumerate(np.linspace(0.47,0.5,100)):\n",
      "    chi2c[j] = fit_mask_residuals([2.2669172932330826,sec, 0.2292],b)\n",
      "print clock()-tic"
     ],
     "language": "python",
     "metadata": {},
     "outputs": [
      {
       "output_type": "stream",
       "stream": "stdout",
       "text": [
        "301.643508911\n"
       ]
      }
     ],
     "prompt_number": 28
    },
    {
     "cell_type": "code",
     "collapsed": false,
     "input": [
      "plt.plot(np.linspace(0.47,0.5,100),chi2b,'-b')\n",
      "plt.plot(np.linspace(0.47,0.5,100),chi2c,'-r')"
     ],
     "language": "python",
     "metadata": {},
     "outputs": [
      {
       "metadata": {},
       "output_type": "pyout",
       "prompt_number": 29,
       "text": [
        "[<matplotlib.lines.Line2D at 0x7fabffb216d0>]"
       ]
      },
      {
       "metadata": {},
       "output_type": "display_data",
       "png": "[encoded data removed]",
       "text": [
        "<matplotlib.figure.Figure at 0x7fabffb8d750>"
       ]
      }
     ],
     "prompt_number": 29
    },
    {
     "cell_type": "code",
     "collapsed": false,
     "input": [
      "nchi2 = 20\n",
      "chi2d = np.zeros(nchi2)\n",
      "tic = clock()\n",
      "# mask = make_test_pupil(2.35, 0.49, 0.2292,srad=0.33)\n",
      "# uv,red = do_uv_red(mask,Ns=3.)\n",
      "\n",
      "for j,sc in enumerate(np.linspace(0.8,1.1,nchi2)):\n",
      "    chi2d[j] = fit_mask_residuals_mask(uv,red,b,scale=sc)\n",
      "print clock()-tic"
     ],
     "language": "python",
     "metadata": {},
     "outputs": [
      {
       "output_type": "stream",
       "stream": "stdout",
       "text": [
        "80.5986142159\n"
       ]
      }
     ],
     "prompt_number": 38
    },
    {
     "cell_type": "code",
     "collapsed": false,
     "input": [
      "plt.plot(np.linspace(0.9,1.2,nchi2),chi2d)"
     ],
     "language": "python",
     "metadata": {},
     "outputs": [
      {
       "metadata": {},
       "output_type": "pyout",
       "prompt_number": 39,
       "text": [
        "[<matplotlib.lines.Line2D at 0x7fa6d5c0a050>]"
       ]
      },
      {
       "metadata": {},
       "output_type": "display_data",
       "png": "[encoded data removed]",
       "text": [
        "<matplotlib.figure.Figure at 0x7fa6d79147d0>"
       ]
      }
     ],
     "prompt_number": 39
    },
    {
     "cell_type": "code",
     "collapsed": false,
     "input": [],
     "language": "python",
     "metadata": {},
     "outputs": []
    }
   ],
   "metadata": {}
  }
 ]
}